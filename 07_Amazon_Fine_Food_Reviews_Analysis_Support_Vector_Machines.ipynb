{
 "cells": [
  {
   "cell_type": "markdown",
   "metadata": {
    "colab_type": "text",
    "id": "ooTmj1SGNAfu"
   },
   "source": [
    "# Amazon Fine Food Reviews Analysis\n",
    "\n",
    "\n",
    "Data Source: https://www.kaggle.com/snap/amazon-fine-food-reviews <br>\n",
    "\n",
    "EDA: https://nycdatascience.com/blog/student-works/amazon-fine-foods-visualization/\n",
    "\n",
    "\n",
    "The Amazon Fine Food Reviews dataset consists of reviews of fine foods from Amazon.<br>\n",
    "\n",
    "Number of reviews: 568,454<br>\n",
    "Number of users: 256,059<br>\n",
    "Number of products: 74,258<br>\n",
    "Timespan: Oct 1999 - Oct 2012<br>\n",
    "Number of Attributes/Columns in data: 10 \n",
    "\n",
    "Attribute Information:\n",
    "\n",
    "1. Id\n",
    "2. ProductId - unique identifier for the product\n",
    "3. UserId - unqiue identifier for the user\n",
    "4. ProfileName\n",
    "5. HelpfulnessNumerator - number of users who found the review helpful\n",
    "6. HelpfulnessDenominator - number of users who indicated whether they found the review helpful or not\n",
    "7. Score - rating between 1 and 5\n",
    "8. Time - timestamp for the review\n",
    "9. Summary - brief summary of the review\n",
    "10. Text - text of the review\n",
    "\n",
    "\n",
    "#### Objective:\n",
    "Given a review, determine whether the review is positive (rating of 4 or 5) or negative (rating of 1 or 2).\n",
    "\n",
    "<br>\n",
    "[Q] How to determine if a review is positive or negative?<br>\n",
    "<br> \n",
    "[Ans] We could use Score/Rating. A rating of 4 or 5 can be cosnidered as a positive review. A rating of 1 or 2 can be considered as negative one. A review of rating 3 is considered nuetral and such reviews are ignored from our analysis. This is an approximate and proxy way of determining the polarity (positivity/negativity) of a review.\n",
    "\n",
    "\n"
   ]
  },
  {
   "cell_type": "markdown",
   "metadata": {
    "colab_type": "text",
    "id": "ePZMsl6ANAfw"
   },
   "source": [
    "# [1]. Reading Data"
   ]
  },
  {
   "cell_type": "markdown",
   "metadata": {
    "colab_type": "text",
    "id": "tB-GOMibNAfz"
   },
   "source": [
    "## [1.1] Loading the data\n",
    "\n",
    "The dataset is available in two forms\n",
    "1. .csv file\n",
    "2. SQLite Database\n",
    "\n",
    "In order to load the data, We have used the SQLITE dataset as it is easier to query the data and visualise the data efficiently.\n",
    "<br> \n",
    "\n",
    "Here as we only want to get the global sentiment of the recommendations (positive or negative), we will purposefully ignore all Scores equal to 3. If the score is above 3, then the recommendation wil be set to \"positive\". Otherwise, it will be set to \"negative\"."
   ]
  },
  {
   "cell_type": "code",
   "execution_count": 1,
   "metadata": {
    "colab": {},
    "colab_type": "code",
    "id": "OzXlij2rNAf3"
   },
   "outputs": [],
   "source": [
    "%matplotlib inline\n",
    "import warnings\n",
    "warnings.filterwarnings(\"ignore\")\n",
    "\n",
    "\n",
    "import sqlite3\n",
    "import pandas as pd\n",
    "import numpy as np\n",
    "import nltk\n",
    "import string\n",
    "import matplotlib.pyplot as plt\n",
    "import seaborn as sns\n",
    "from sklearn.feature_extraction.text import TfidfTransformer\n",
    "from sklearn.feature_extraction.text import TfidfVectorizer\n",
    "\n",
    "from sklearn.feature_extraction.text import CountVectorizer\n",
    "from sklearn.metrics import confusion_matrix\n",
    "from sklearn import metrics\n",
    "from sklearn.metrics import roc_curve, auc\n",
    "from nltk.stem.porter import PorterStemmer\n",
    "\n",
    "import re\n",
    "# Tutorial about Python regular expressions: https://pymotw.com/2/re/\n",
    "import string\n",
    "from nltk.corpus import stopwords\n",
    "from nltk.stem import PorterStemmer\n",
    "from nltk.stem.wordnet import WordNetLemmatizer\n",
    "\n",
    "from gensim.models import Word2Vec\n",
    "from gensim.models import KeyedVectors\n",
    "import pickle\n",
    "\n",
    "from tqdm import tqdm\n",
    "import os"
   ]
  },
  {
   "cell_type": "code",
   "execution_count": 2,
   "metadata": {
    "colab": {},
    "colab_type": "code",
    "id": "kEd6vT9wNAgF",
    "outputId": "fd0d58b2-bc5f-46b3-854d-57ce28732783"
   },
   "outputs": [
    {
     "name": "stdout",
     "output_type": "stream",
     "text": [
      "Number of data points in our data (115000, 10)\n"
     ]
    },
    {
     "data": {
      "text/html": [
       "<div>\n",
       "<style scoped>\n",
       "    .dataframe tbody tr th:only-of-type {\n",
       "        vertical-align: middle;\n",
       "    }\n",
       "\n",
       "    .dataframe tbody tr th {\n",
       "        vertical-align: top;\n",
       "    }\n",
       "\n",
       "    .dataframe thead th {\n",
       "        text-align: right;\n",
       "    }\n",
       "</style>\n",
       "<table border=\"1\" class=\"dataframe\">\n",
       "  <thead>\n",
       "    <tr style=\"text-align: right;\">\n",
       "      <th></th>\n",
       "      <th>Id</th>\n",
       "      <th>ProductId</th>\n",
       "      <th>UserId</th>\n",
       "      <th>ProfileName</th>\n",
       "      <th>HelpfulnessNumerator</th>\n",
       "      <th>HelpfulnessDenominator</th>\n",
       "      <th>Score</th>\n",
       "      <th>Time</th>\n",
       "      <th>Summary</th>\n",
       "      <th>Text</th>\n",
       "    </tr>\n",
       "  </thead>\n",
       "  <tbody>\n",
       "    <tr>\n",
       "      <th>0</th>\n",
       "      <td>1</td>\n",
       "      <td>B001E4KFG0</td>\n",
       "      <td>A3SGXH7AUHU8GW</td>\n",
       "      <td>delmartian</td>\n",
       "      <td>1</td>\n",
       "      <td>1</td>\n",
       "      <td>1</td>\n",
       "      <td>1303862400</td>\n",
       "      <td>Good Quality Dog Food</td>\n",
       "      <td>I have bought several of the Vitality canned d...</td>\n",
       "    </tr>\n",
       "    <tr>\n",
       "      <th>1</th>\n",
       "      <td>2</td>\n",
       "      <td>B00813GRG4</td>\n",
       "      <td>A1D87F6ZCVE5NK</td>\n",
       "      <td>dll pa</td>\n",
       "      <td>0</td>\n",
       "      <td>0</td>\n",
       "      <td>0</td>\n",
       "      <td>1346976000</td>\n",
       "      <td>Not as Advertised</td>\n",
       "      <td>Product arrived labeled as Jumbo Salted Peanut...</td>\n",
       "    </tr>\n",
       "    <tr>\n",
       "      <th>2</th>\n",
       "      <td>3</td>\n",
       "      <td>B000LQOCH0</td>\n",
       "      <td>ABXLMWJIXXAIN</td>\n",
       "      <td>Natalia Corres \"Natalia Corres\"</td>\n",
       "      <td>1</td>\n",
       "      <td>1</td>\n",
       "      <td>1</td>\n",
       "      <td>1219017600</td>\n",
       "      <td>\"Delight\" says it all</td>\n",
       "      <td>This is a confection that has been around a fe...</td>\n",
       "    </tr>\n",
       "  </tbody>\n",
       "</table>\n",
       "</div>"
      ],
      "text/plain": [
       "   Id   ProductId          UserId                      ProfileName  \\\n",
       "0   1  B001E4KFG0  A3SGXH7AUHU8GW                       delmartian   \n",
       "1   2  B00813GRG4  A1D87F6ZCVE5NK                           dll pa   \n",
       "2   3  B000LQOCH0   ABXLMWJIXXAIN  Natalia Corres \"Natalia Corres\"   \n",
       "\n",
       "   HelpfulnessNumerator  HelpfulnessDenominator  Score        Time  \\\n",
       "0                     1                       1      1  1303862400   \n",
       "1                     0                       0      0  1346976000   \n",
       "2                     1                       1      1  1219017600   \n",
       "\n",
       "                 Summary                                               Text  \n",
       "0  Good Quality Dog Food  I have bought several of the Vitality canned d...  \n",
       "1      Not as Advertised  Product arrived labeled as Jumbo Salted Peanut...  \n",
       "2  \"Delight\" says it all  This is a confection that has been around a fe...  "
      ]
     },
     "execution_count": 2,
     "metadata": {},
     "output_type": "execute_result"
    }
   ],
   "source": [
    "# using SQLite Table to read data.\n",
    "con = sqlite3.connect('database.sqlite') \n",
    "\n",
    "# filtering only positive and negative reviews i.e. \n",
    "# not taking into consideration those reviews with Score=3\n",
    "# SELECT * FROM Reviews WHERE Score != 3 LIMIT 500000, will give top 500000 data points\n",
    "# you can change the number to any other number based on your computing power\n",
    "\n",
    "# filtered_data = pd.read_sql_query(\"\"\" SELECT * FROM Reviews WHERE Score != 3 LIMIT 500000\"\"\", con) \n",
    "# for tsne assignment you can take 5k data points\n",
    "\n",
    "filtered_data = pd.read_sql_query(\"\"\" SELECT * FROM Reviews WHERE Score != 3 LIMIT 115000\"\"\", con) \n",
    "\n",
    "# Give reviews with Score>3 a positive rating(1), and reviews with a score<3 a negative rating(0).\n",
    "def partition(x):\n",
    "    if x < 3:\n",
    "        return 0\n",
    "    return 1\n",
    "\n",
    "#changing reviews with score less than 3 to be positive and vice-versa\n",
    "actualScore = filtered_data['Score']\n",
    "positiveNegative = actualScore.map(partition) \n",
    "filtered_data['Score'] = positiveNegative\n",
    "print(\"Number of data points in our data\", filtered_data.shape)\n",
    "filtered_data.head(3)"
   ]
  },
  {
   "cell_type": "code",
   "execution_count": 3,
   "metadata": {
    "colab": {},
    "colab_type": "code",
    "id": "pQqaXDJPNAgb"
   },
   "outputs": [],
   "source": [
    "display = pd.read_sql_query(\"\"\"\n",
    "SELECT UserId, ProductId, ProfileName, Time, Score, Text, COUNT(*)\n",
    "FROM Reviews\n",
    "GROUP BY UserId\n",
    "HAVING COUNT(*)>1\n",
    "\"\"\", con)"
   ]
  },
  {
   "cell_type": "code",
   "execution_count": 4,
   "metadata": {
    "colab": {},
    "colab_type": "code",
    "id": "BeXVPGvPNAgk",
    "outputId": "a728003d-4c08-409c-d4d8-750551020a76",
    "scrolled": true
   },
   "outputs": [
    {
     "name": "stdout",
     "output_type": "stream",
     "text": [
      "(80668, 7)\n"
     ]
    },
    {
     "data": {
      "text/html": [
       "<div>\n",
       "<style scoped>\n",
       "    .dataframe tbody tr th:only-of-type {\n",
       "        vertical-align: middle;\n",
       "    }\n",
       "\n",
       "    .dataframe tbody tr th {\n",
       "        vertical-align: top;\n",
       "    }\n",
       "\n",
       "    .dataframe thead th {\n",
       "        text-align: right;\n",
       "    }\n",
       "</style>\n",
       "<table border=\"1\" class=\"dataframe\">\n",
       "  <thead>\n",
       "    <tr style=\"text-align: right;\">\n",
       "      <th></th>\n",
       "      <th>UserId</th>\n",
       "      <th>ProductId</th>\n",
       "      <th>ProfileName</th>\n",
       "      <th>Time</th>\n",
       "      <th>Score</th>\n",
       "      <th>Text</th>\n",
       "      <th>COUNT(*)</th>\n",
       "    </tr>\n",
       "  </thead>\n",
       "  <tbody>\n",
       "    <tr>\n",
       "      <th>0</th>\n",
       "      <td>#oc-R115TNMSPFT9I7</td>\n",
       "      <td>B007Y59HVM</td>\n",
       "      <td>Breyton</td>\n",
       "      <td>1331510400</td>\n",
       "      <td>2</td>\n",
       "      <td>Overall its just OK when considering the price...</td>\n",
       "      <td>2</td>\n",
       "    </tr>\n",
       "    <tr>\n",
       "      <th>1</th>\n",
       "      <td>#oc-R11D9D7SHXIJB9</td>\n",
       "      <td>B005HG9ET0</td>\n",
       "      <td>Louis E. Emory \"hoppy\"</td>\n",
       "      <td>1342396800</td>\n",
       "      <td>5</td>\n",
       "      <td>My wife has recurring extreme muscle spasms, u...</td>\n",
       "      <td>3</td>\n",
       "    </tr>\n",
       "    <tr>\n",
       "      <th>2</th>\n",
       "      <td>#oc-R11DNU2NBKQ23Z</td>\n",
       "      <td>B007Y59HVM</td>\n",
       "      <td>Kim Cieszykowski</td>\n",
       "      <td>1348531200</td>\n",
       "      <td>1</td>\n",
       "      <td>This coffee is horrible and unfortunately not ...</td>\n",
       "      <td>2</td>\n",
       "    </tr>\n",
       "    <tr>\n",
       "      <th>3</th>\n",
       "      <td>#oc-R11O5J5ZVQE25C</td>\n",
       "      <td>B005HG9ET0</td>\n",
       "      <td>Penguin Chick</td>\n",
       "      <td>1346889600</td>\n",
       "      <td>5</td>\n",
       "      <td>This will be the bottle that you grab from the...</td>\n",
       "      <td>3</td>\n",
       "    </tr>\n",
       "    <tr>\n",
       "      <th>4</th>\n",
       "      <td>#oc-R12KPBODL2B5ZD</td>\n",
       "      <td>B007OSBE1U</td>\n",
       "      <td>Christopher P. Presta</td>\n",
       "      <td>1348617600</td>\n",
       "      <td>1</td>\n",
       "      <td>I didnt like this coffee. Instead of telling y...</td>\n",
       "      <td>2</td>\n",
       "    </tr>\n",
       "  </tbody>\n",
       "</table>\n",
       "</div>"
      ],
      "text/plain": [
       "               UserId   ProductId             ProfileName        Time  Score  \\\n",
       "0  #oc-R115TNMSPFT9I7  B007Y59HVM                 Breyton  1331510400      2   \n",
       "1  #oc-R11D9D7SHXIJB9  B005HG9ET0  Louis E. Emory \"hoppy\"  1342396800      5   \n",
       "2  #oc-R11DNU2NBKQ23Z  B007Y59HVM        Kim Cieszykowski  1348531200      1   \n",
       "3  #oc-R11O5J5ZVQE25C  B005HG9ET0           Penguin Chick  1346889600      5   \n",
       "4  #oc-R12KPBODL2B5ZD  B007OSBE1U   Christopher P. Presta  1348617600      1   \n",
       "\n",
       "                                                Text  COUNT(*)  \n",
       "0  Overall its just OK when considering the price...         2  \n",
       "1  My wife has recurring extreme muscle spasms, u...         3  \n",
       "2  This coffee is horrible and unfortunately not ...         2  \n",
       "3  This will be the bottle that you grab from the...         3  \n",
       "4  I didnt like this coffee. Instead of telling y...         2  "
      ]
     },
     "execution_count": 4,
     "metadata": {},
     "output_type": "execute_result"
    }
   ],
   "source": [
    "print(display.shape)\n",
    "display.head()"
   ]
  },
  {
   "cell_type": "code",
   "execution_count": 5,
   "metadata": {
    "colab": {},
    "colab_type": "code",
    "id": "r-jyWzzONAg0",
    "outputId": "9af2c769-904b-4976-96cc-585bdb4861f3"
   },
   "outputs": [
    {
     "data": {
      "text/html": [
       "<div>\n",
       "<style scoped>\n",
       "    .dataframe tbody tr th:only-of-type {\n",
       "        vertical-align: middle;\n",
       "    }\n",
       "\n",
       "    .dataframe tbody tr th {\n",
       "        vertical-align: top;\n",
       "    }\n",
       "\n",
       "    .dataframe thead th {\n",
       "        text-align: right;\n",
       "    }\n",
       "</style>\n",
       "<table border=\"1\" class=\"dataframe\">\n",
       "  <thead>\n",
       "    <tr style=\"text-align: right;\">\n",
       "      <th></th>\n",
       "      <th>UserId</th>\n",
       "      <th>ProductId</th>\n",
       "      <th>ProfileName</th>\n",
       "      <th>Time</th>\n",
       "      <th>Score</th>\n",
       "      <th>Text</th>\n",
       "      <th>COUNT(*)</th>\n",
       "    </tr>\n",
       "  </thead>\n",
       "  <tbody>\n",
       "    <tr>\n",
       "      <th>80638</th>\n",
       "      <td>AZY10LLTJ71NX</td>\n",
       "      <td>B006P7E5ZI</td>\n",
       "      <td>undertheshrine \"undertheshrine\"</td>\n",
       "      <td>1334707200</td>\n",
       "      <td>5</td>\n",
       "      <td>I was recommended to try green tea extract to ...</td>\n",
       "      <td>5</td>\n",
       "    </tr>\n",
       "  </tbody>\n",
       "</table>\n",
       "</div>"
      ],
      "text/plain": [
       "              UserId   ProductId                      ProfileName        Time  \\\n",
       "80638  AZY10LLTJ71NX  B006P7E5ZI  undertheshrine \"undertheshrine\"  1334707200   \n",
       "\n",
       "       Score                                               Text  COUNT(*)  \n",
       "80638      5  I was recommended to try green tea extract to ...         5  "
      ]
     },
     "execution_count": 5,
     "metadata": {},
     "output_type": "execute_result"
    }
   ],
   "source": [
    "display[display['UserId']=='AZY10LLTJ71NX']"
   ]
  },
  {
   "cell_type": "code",
   "execution_count": 6,
   "metadata": {
    "colab": {},
    "colab_type": "code",
    "id": "IiSNW9BDNAg7",
    "outputId": "fa91d4e5-f216-46e4-a105-99c4418903d1"
   },
   "outputs": [
    {
     "data": {
      "text/plain": [
       "393063"
      ]
     },
     "execution_count": 6,
     "metadata": {},
     "output_type": "execute_result"
    }
   ],
   "source": [
    "display['COUNT(*)'].sum()"
   ]
  },
  {
   "cell_type": "markdown",
   "metadata": {
    "colab_type": "text",
    "id": "ryjgMQtsNAhD"
   },
   "source": [
    "#  [2] Exploratory Data Analysis"
   ]
  },
  {
   "cell_type": "markdown",
   "metadata": {
    "colab_type": "text",
    "id": "o_cCX_sNNAhJ"
   },
   "source": [
    "## [2.1] Data Cleaning: Deduplication\n",
    "\n",
    "It is observed (as shown in the table below) that the reviews data had many duplicate entries. Hence it was necessary to remove duplicates in order to get unbiased results for the analysis of the data.  Following is an example:"
   ]
  },
  {
   "cell_type": "code",
   "execution_count": 7,
   "metadata": {
    "colab": {},
    "colab_type": "code",
    "id": "lKoRh-KoNAhN",
    "outputId": "5a6773a4-00ec-413d-92c7-98ecc8747047",
    "scrolled": false
   },
   "outputs": [
    {
     "data": {
      "text/html": [
       "<div>\n",
       "<style scoped>\n",
       "    .dataframe tbody tr th:only-of-type {\n",
       "        vertical-align: middle;\n",
       "    }\n",
       "\n",
       "    .dataframe tbody tr th {\n",
       "        vertical-align: top;\n",
       "    }\n",
       "\n",
       "    .dataframe thead th {\n",
       "        text-align: right;\n",
       "    }\n",
       "</style>\n",
       "<table border=\"1\" class=\"dataframe\">\n",
       "  <thead>\n",
       "    <tr style=\"text-align: right;\">\n",
       "      <th></th>\n",
       "      <th>Id</th>\n",
       "      <th>ProductId</th>\n",
       "      <th>UserId</th>\n",
       "      <th>ProfileName</th>\n",
       "      <th>HelpfulnessNumerator</th>\n",
       "      <th>HelpfulnessDenominator</th>\n",
       "      <th>Score</th>\n",
       "      <th>Time</th>\n",
       "      <th>Summary</th>\n",
       "      <th>Text</th>\n",
       "    </tr>\n",
       "  </thead>\n",
       "  <tbody>\n",
       "    <tr>\n",
       "      <th>0</th>\n",
       "      <td>78445</td>\n",
       "      <td>B000HDL1RQ</td>\n",
       "      <td>AR5J8UI46CURR</td>\n",
       "      <td>Geetha Krishnan</td>\n",
       "      <td>2</td>\n",
       "      <td>2</td>\n",
       "      <td>5</td>\n",
       "      <td>1199577600</td>\n",
       "      <td>LOACKER QUADRATINI VANILLA WAFERS</td>\n",
       "      <td>DELICIOUS WAFERS. I FIND THAT EUROPEAN WAFERS ...</td>\n",
       "    </tr>\n",
       "    <tr>\n",
       "      <th>1</th>\n",
       "      <td>138317</td>\n",
       "      <td>B000HDOPYC</td>\n",
       "      <td>AR5J8UI46CURR</td>\n",
       "      <td>Geetha Krishnan</td>\n",
       "      <td>2</td>\n",
       "      <td>2</td>\n",
       "      <td>5</td>\n",
       "      <td>1199577600</td>\n",
       "      <td>LOACKER QUADRATINI VANILLA WAFERS</td>\n",
       "      <td>DELICIOUS WAFERS. I FIND THAT EUROPEAN WAFERS ...</td>\n",
       "    </tr>\n",
       "    <tr>\n",
       "      <th>2</th>\n",
       "      <td>138277</td>\n",
       "      <td>B000HDOPYM</td>\n",
       "      <td>AR5J8UI46CURR</td>\n",
       "      <td>Geetha Krishnan</td>\n",
       "      <td>2</td>\n",
       "      <td>2</td>\n",
       "      <td>5</td>\n",
       "      <td>1199577600</td>\n",
       "      <td>LOACKER QUADRATINI VANILLA WAFERS</td>\n",
       "      <td>DELICIOUS WAFERS. I FIND THAT EUROPEAN WAFERS ...</td>\n",
       "    </tr>\n",
       "    <tr>\n",
       "      <th>3</th>\n",
       "      <td>73791</td>\n",
       "      <td>B000HDOPZG</td>\n",
       "      <td>AR5J8UI46CURR</td>\n",
       "      <td>Geetha Krishnan</td>\n",
       "      <td>2</td>\n",
       "      <td>2</td>\n",
       "      <td>5</td>\n",
       "      <td>1199577600</td>\n",
       "      <td>LOACKER QUADRATINI VANILLA WAFERS</td>\n",
       "      <td>DELICIOUS WAFERS. I FIND THAT EUROPEAN WAFERS ...</td>\n",
       "    </tr>\n",
       "    <tr>\n",
       "      <th>4</th>\n",
       "      <td>155049</td>\n",
       "      <td>B000PAQ75C</td>\n",
       "      <td>AR5J8UI46CURR</td>\n",
       "      <td>Geetha Krishnan</td>\n",
       "      <td>2</td>\n",
       "      <td>2</td>\n",
       "      <td>5</td>\n",
       "      <td>1199577600</td>\n",
       "      <td>LOACKER QUADRATINI VANILLA WAFERS</td>\n",
       "      <td>DELICIOUS WAFERS. I FIND THAT EUROPEAN WAFERS ...</td>\n",
       "    </tr>\n",
       "  </tbody>\n",
       "</table>\n",
       "</div>"
      ],
      "text/plain": [
       "       Id   ProductId         UserId      ProfileName  HelpfulnessNumerator  \\\n",
       "0   78445  B000HDL1RQ  AR5J8UI46CURR  Geetha Krishnan                     2   \n",
       "1  138317  B000HDOPYC  AR5J8UI46CURR  Geetha Krishnan                     2   \n",
       "2  138277  B000HDOPYM  AR5J8UI46CURR  Geetha Krishnan                     2   \n",
       "3   73791  B000HDOPZG  AR5J8UI46CURR  Geetha Krishnan                     2   \n",
       "4  155049  B000PAQ75C  AR5J8UI46CURR  Geetha Krishnan                     2   \n",
       "\n",
       "   HelpfulnessDenominator  Score        Time  \\\n",
       "0                       2      5  1199577600   \n",
       "1                       2      5  1199577600   \n",
       "2                       2      5  1199577600   \n",
       "3                       2      5  1199577600   \n",
       "4                       2      5  1199577600   \n",
       "\n",
       "                             Summary  \\\n",
       "0  LOACKER QUADRATINI VANILLA WAFERS   \n",
       "1  LOACKER QUADRATINI VANILLA WAFERS   \n",
       "2  LOACKER QUADRATINI VANILLA WAFERS   \n",
       "3  LOACKER QUADRATINI VANILLA WAFERS   \n",
       "4  LOACKER QUADRATINI VANILLA WAFERS   \n",
       "\n",
       "                                                Text  \n",
       "0  DELICIOUS WAFERS. I FIND THAT EUROPEAN WAFERS ...  \n",
       "1  DELICIOUS WAFERS. I FIND THAT EUROPEAN WAFERS ...  \n",
       "2  DELICIOUS WAFERS. I FIND THAT EUROPEAN WAFERS ...  \n",
       "3  DELICIOUS WAFERS. I FIND THAT EUROPEAN WAFERS ...  \n",
       "4  DELICIOUS WAFERS. I FIND THAT EUROPEAN WAFERS ...  "
      ]
     },
     "execution_count": 7,
     "metadata": {},
     "output_type": "execute_result"
    }
   ],
   "source": [
    "display= pd.read_sql_query(\"\"\"\n",
    "SELECT *\n",
    "FROM Reviews\n",
    "WHERE Score != 3 AND UserId=\"AR5J8UI46CURR\"\n",
    "ORDER BY ProductID\n",
    "\"\"\", con)\n",
    "display.head()"
   ]
  },
  {
   "cell_type": "markdown",
   "metadata": {
    "colab_type": "text",
    "id": "a5CMdGBsNAhT"
   },
   "source": [
    "As it can be seen above that same user has multiple reviews with same values for HelpfulnessNumerator, HelpfulnessDenominator, Score, Time, Summary and Text and on doing analysis it was found that <br>\n",
    "<br> \n",
    "ProductId=B000HDOPZG was Loacker Quadratini Vanilla Wafer Cookies, 8.82-Ounce Packages (Pack of 8)<br>\n",
    "<br> \n",
    "ProductId=B000HDL1RQ was Loacker Quadratini Lemon Wafer Cookies, 8.82-Ounce Packages (Pack of 8) and so on<br>\n",
    "\n",
    "It was inferred after analysis that reviews with same parameters other than ProductId belonged to the same product just having different flavour or quantity. Hence in order to reduce redundancy it was decided to eliminate the rows having same parameters.<br>\n",
    "\n",
    "The method used for the same was that we first sort the data according to ProductId and then just keep the first similar product review and delelte the others. for eg. in the above just the review for ProductId=B000HDL1RQ remains. This method ensures that there is only one representative for each product and deduplication without sorting would lead to possibility of different representatives still existing for the same product."
   ]
  },
  {
   "cell_type": "code",
   "execution_count": 8,
   "metadata": {
    "colab": {},
    "colab_type": "code",
    "id": "UAWp63g_NAhU"
   },
   "outputs": [],
   "source": [
    "#Sorting data according to ProductId in ascending order\n",
    "sorted_data=filtered_data.sort_values('ProductId', axis=0, ascending=True, inplace=False, kind='quicksort', na_position='last')"
   ]
  },
  {
   "cell_type": "code",
   "execution_count": 9,
   "metadata": {
    "colab": {},
    "colab_type": "code",
    "id": "X_RQH9YpNAhq",
    "outputId": "71da3942-03b1-462b-d0a4-06f90bd1f253"
   },
   "outputs": [
    {
     "data": {
      "text/plain": [
       "(99724, 10)"
      ]
     },
     "execution_count": 9,
     "metadata": {},
     "output_type": "execute_result"
    }
   ],
   "source": [
    "#Deduplication of entries\n",
    "final=sorted_data.drop_duplicates(subset={\"UserId\",\"ProfileName\",\"Time\",\"Text\"}, keep='first', inplace=False)\n",
    "final.shape"
   ]
  },
  {
   "cell_type": "code",
   "execution_count": 10,
   "metadata": {
    "colab": {},
    "colab_type": "code",
    "id": "HfEdviLdNAh5",
    "outputId": "e58e2552-d968-4f60-9a73-6c7b73adabf0"
   },
   "outputs": [
    {
     "data": {
      "text/plain": [
       "86.71652173913044"
      ]
     },
     "execution_count": 10,
     "metadata": {},
     "output_type": "execute_result"
    }
   ],
   "source": [
    "#Checking to see how much % of data still remains\n",
    "(final['Id'].size*1.0)/(filtered_data['Id'].size*1.0)*100"
   ]
  },
  {
   "cell_type": "markdown",
   "metadata": {
    "colab_type": "text",
    "id": "ywYSnjaaNAiK"
   },
   "source": [
    "<b>Observation:-</b> It was also seen that in two rows given below the value of HelpfulnessNumerator is greater than HelpfulnessDenominator which is not practically possible hence these two rows too are removed from calcualtions"
   ]
  },
  {
   "cell_type": "code",
   "execution_count": 11,
   "metadata": {
    "colab": {},
    "colab_type": "code",
    "id": "bVlDHrpPNAiN",
    "outputId": "9423592b-c750-496d-e172-fb7408f356b1"
   },
   "outputs": [
    {
     "data": {
      "text/html": [
       "<div>\n",
       "<style scoped>\n",
       "    .dataframe tbody tr th:only-of-type {\n",
       "        vertical-align: middle;\n",
       "    }\n",
       "\n",
       "    .dataframe tbody tr th {\n",
       "        vertical-align: top;\n",
       "    }\n",
       "\n",
       "    .dataframe thead th {\n",
       "        text-align: right;\n",
       "    }\n",
       "</style>\n",
       "<table border=\"1\" class=\"dataframe\">\n",
       "  <thead>\n",
       "    <tr style=\"text-align: right;\">\n",
       "      <th></th>\n",
       "      <th>Id</th>\n",
       "      <th>ProductId</th>\n",
       "      <th>UserId</th>\n",
       "      <th>ProfileName</th>\n",
       "      <th>HelpfulnessNumerator</th>\n",
       "      <th>HelpfulnessDenominator</th>\n",
       "      <th>Score</th>\n",
       "      <th>Time</th>\n",
       "      <th>Summary</th>\n",
       "      <th>Text</th>\n",
       "    </tr>\n",
       "  </thead>\n",
       "  <tbody>\n",
       "    <tr>\n",
       "      <th>0</th>\n",
       "      <td>64422</td>\n",
       "      <td>B000MIDROQ</td>\n",
       "      <td>A161DK06JJMCYF</td>\n",
       "      <td>J. E. Stephens \"Jeanne\"</td>\n",
       "      <td>3</td>\n",
       "      <td>1</td>\n",
       "      <td>5</td>\n",
       "      <td>1224892800</td>\n",
       "      <td>Bought This for My Son at College</td>\n",
       "      <td>My son loves spaghetti so I didn't hesitate or...</td>\n",
       "    </tr>\n",
       "    <tr>\n",
       "      <th>1</th>\n",
       "      <td>44737</td>\n",
       "      <td>B001EQ55RW</td>\n",
       "      <td>A2V0I904FH7ABY</td>\n",
       "      <td>Ram</td>\n",
       "      <td>3</td>\n",
       "      <td>2</td>\n",
       "      <td>4</td>\n",
       "      <td>1212883200</td>\n",
       "      <td>Pure cocoa taste with crunchy almonds inside</td>\n",
       "      <td>It was almost a 'love at first bite' - the per...</td>\n",
       "    </tr>\n",
       "  </tbody>\n",
       "</table>\n",
       "</div>"
      ],
      "text/plain": [
       "      Id   ProductId          UserId              ProfileName  \\\n",
       "0  64422  B000MIDROQ  A161DK06JJMCYF  J. E. Stephens \"Jeanne\"   \n",
       "1  44737  B001EQ55RW  A2V0I904FH7ABY                      Ram   \n",
       "\n",
       "   HelpfulnessNumerator  HelpfulnessDenominator  Score        Time  \\\n",
       "0                     3                       1      5  1224892800   \n",
       "1                     3                       2      4  1212883200   \n",
       "\n",
       "                                        Summary  \\\n",
       "0             Bought This for My Son at College   \n",
       "1  Pure cocoa taste with crunchy almonds inside   \n",
       "\n",
       "                                                Text  \n",
       "0  My son loves spaghetti so I didn't hesitate or...  \n",
       "1  It was almost a 'love at first bite' - the per...  "
      ]
     },
     "execution_count": 11,
     "metadata": {},
     "output_type": "execute_result"
    }
   ],
   "source": [
    "display= pd.read_sql_query(\"\"\"\n",
    "SELECT *\n",
    "FROM Reviews\n",
    "WHERE Score != 3 AND Id=44737 OR Id=64422\n",
    "ORDER BY ProductID\n",
    "\"\"\", con)\n",
    "\n",
    "display.head()"
   ]
  },
  {
   "cell_type": "code",
   "execution_count": 12,
   "metadata": {
    "colab": {},
    "colab_type": "code",
    "id": "Zk8ATPToNAic"
   },
   "outputs": [],
   "source": [
    "final=final[final.HelpfulnessNumerator<=final.HelpfulnessDenominator]"
   ]
  },
  {
   "cell_type": "code",
   "execution_count": 13,
   "metadata": {
    "colab": {},
    "colab_type": "code",
    "id": "_-Ui2c3ANAil",
    "outputId": "e4642953-6371-4379-dbba-7ae5eaa4b770"
   },
   "outputs": [
    {
     "name": "stdout",
     "output_type": "stream",
     "text": [
      "(99722, 10)\n"
     ]
    },
    {
     "data": {
      "text/plain": [
       "1    83711\n",
       "0    16011\n",
       "Name: Score, dtype: int64"
      ]
     },
     "execution_count": 13,
     "metadata": {},
     "output_type": "execute_result"
    }
   ],
   "source": [
    "#Before starting the next phase of preprocessing lets see the number of entries left\n",
    "print(final.shape)\n",
    "\n",
    "#How many positive and negative reviews are present in our dataset?\n",
    "final['Score'].value_counts()"
   ]
  },
  {
   "cell_type": "markdown",
   "metadata": {
    "colab_type": "text",
    "id": "qoOOw36uNAi5"
   },
   "source": [
    "#  [3] Preprocessing"
   ]
  },
  {
   "cell_type": "markdown",
   "metadata": {
    "colab_type": "text",
    "id": "ROPwyzvYNAjG"
   },
   "source": [
    "## [3.1].  Preprocessing Review Text\n",
    "\n",
    "Now that we have finished deduplication our data requires some preprocessing before we go on further with analysis and making the prediction model.\n",
    "\n",
    "Hence in the Preprocessing phase we do the following in the order below:-\n",
    "\n",
    "1. Begin by removing the html tags\n",
    "2. Remove any punctuations or limited set of special characters like , or . or # etc.\n",
    "3. Check if the word is made up of english letters and is not alpha-numeric\n",
    "4. Check to see if the length of the word is greater than 2 (as it was researched that there is no adjective in 2-letters)\n",
    "5. Convert the word to lowercase\n",
    "6. Remove Stopwords\n",
    "7. Finally Snowball Stemming the word (it was obsereved to be better than Porter Stemming)<br>\n",
    "\n",
    "After which we collect the words used to describe positive and negative reviews"
   ]
  },
  {
   "cell_type": "code",
   "execution_count": 14,
   "metadata": {
    "colab": {},
    "colab_type": "code",
    "id": "LkVr4k-ONAjS",
    "outputId": "df609d53-5be7-4856-a16f-1c904e2147e9"
   },
   "outputs": [
    {
     "name": "stdout",
     "output_type": "stream",
     "text": [
      "My dogs loves this chicken but its a product from China, so we wont be buying it anymore.  Its very hard to find any chicken products made in the USA but they are out there, but this one isnt.  Its too bad too because its a good product but I wont take any chances till they know what is going on with the china imports.\n",
      "==================================================\n",
      "IF YOU LIKE SALMON YOU WILL LOVE THESE OMAHA STEAKS SALMON VERY VERY GOOD\n",
      "==================================================\n",
      "OK....I thought I'd put a bit of punch to hubby's sandwich, instead of the ho-hum Best Foods Mayo---ohOoooOh--FAILURE!<br />One bite and he said---Please! DO NOT EVER SERVE THIS TO ME AGAIN!<br />I guess it was that-bad!<br />I'll see if my neighbor will be able to use it w/her family.<br />If you  are a BEST FOODS lover---walk away---do NOT purchase this product!\n",
      "==================================================\n",
      "These people from Bavaria really know how to make this stuff. The Landjagers are super (you have to let them dry for them to develop their full, intended flavor), and it is worth any sausage fan's time to check out their complete offering of German style sausages and hams.  Due to the perishability of some of their products their S&H charges appear outrageous but I guess that sending frozen or refrigerated foods costs money.  Personally, I recommend their coarse grind liverwurst but that is a matter of personal taste.\n",
      "==================================================\n"
     ]
    }
   ],
   "source": [
    "# printing some random reviews\n",
    "sent_0 = final['Text'].values[0]\n",
    "print(sent_0)\n",
    "print(\"=\"*50)\n",
    "\n",
    "sent_1000 = final['Text'].values[1000]\n",
    "print(sent_1000)\n",
    "print(\"=\"*50)\n",
    "\n",
    "sent_1500 = final['Text'].values[1500]\n",
    "print(sent_1500)\n",
    "print(\"=\"*50)\n",
    "\n",
    "sent_4900 = final['Text'].values[4900]\n",
    "print(sent_4900)\n",
    "print(\"=\"*50)"
   ]
  },
  {
   "cell_type": "code",
   "execution_count": 15,
   "metadata": {
    "colab": {},
    "colab_type": "code",
    "id": "YywX3NXQNAj7",
    "outputId": "73f793e7-8466-4176-e4d4-3c31e9d9786e"
   },
   "outputs": [
    {
     "name": "stdout",
     "output_type": "stream",
     "text": [
      "My dogs loves this chicken but its a product from China, so we wont be buying it anymore.  Its very hard to find any chicken products made in the USA but they are out there, but this one isnt.  Its too bad too because its a good product but I wont take any chances till they know what is going on with the china imports.\n"
     ]
    }
   ],
   "source": [
    "# remove urls from text python: https://stackoverflow.com/a/40823105/4084039\n",
    "sent_0 = re.sub(r\"http\\S+\", \"\", sent_0)\n",
    "sent_1000 = re.sub(r\"http\\S+\", \"\", sent_1000)\n",
    "sent_150 = re.sub(r\"http\\S+\", \"\", sent_1500)\n",
    "sent_4900 = re.sub(r\"http\\S+\", \"\", sent_4900)\n",
    "\n",
    "print(sent_0)"
   ]
  },
  {
   "cell_type": "code",
   "execution_count": 16,
   "metadata": {
    "colab": {},
    "colab_type": "code",
    "id": "foWUYEnGNAkE",
    "outputId": "894a6c0c-3701-47b7-ef20-4c7d1ec5e683"
   },
   "outputs": [
    {
     "name": "stdout",
     "output_type": "stream",
     "text": [
      "My dogs loves this chicken but its a product from China, so we wont be buying it anymore.  Its very hard to find any chicken products made in the USA but they are out there, but this one isnt.  Its too bad too because its a good product but I wont take any chances till they know what is going on with the china imports.\n",
      "==================================================\n",
      "IF YOU LIKE SALMON YOU WILL LOVE THESE OMAHA STEAKS SALMON VERY VERY GOOD\n",
      "==================================================\n",
      "OK....I thought I'd put a bit of punch to hubby's sandwich, instead of the ho-hum Best Foods Mayo---ohOoooOh--FAILURE!One bite and he said---Please! DO NOT EVER SERVE THIS TO ME AGAIN!I guess it was that-bad!I'll see if my neighbor will be able to use it w/her family.If you  are a BEST FOODS lover---walk away---do NOT purchase this product!\n",
      "==================================================\n",
      "These people from Bavaria really know how to make this stuff. The Landjagers are super (you have to let them dry for them to develop their full, intended flavor), and it is worth any sausage fan's time to check out their complete offering of German style sausages and hams.  Due to the perishability of some of their products their S&H charges appear outrageous but I guess that sending frozen or refrigerated foods costs money.  Personally, I recommend their coarse grind liverwurst but that is a matter of personal taste.\n"
     ]
    }
   ],
   "source": [
    "# https://stackoverflow.com/questions/16206380/python-beautifulsoup-how-to-remove-all-tags-from-an-element\n",
    "from bs4 import BeautifulSoup\n",
    "\n",
    "soup = BeautifulSoup(sent_0, 'lxml')\n",
    "text = soup.get_text()\n",
    "print(text)\n",
    "print(\"=\"*50)\n",
    "\n",
    "soup = BeautifulSoup(sent_1000, 'lxml')\n",
    "text = soup.get_text()\n",
    "print(text)\n",
    "print(\"=\"*50)\n",
    "\n",
    "soup = BeautifulSoup(sent_1500, 'lxml')\n",
    "text = soup.get_text()\n",
    "print(text)\n",
    "print(\"=\"*50)\n",
    "\n",
    "soup = BeautifulSoup(sent_4900, 'lxml')\n",
    "text = soup.get_text()\n",
    "print(text)"
   ]
  },
  {
   "cell_type": "code",
   "execution_count": 17,
   "metadata": {
    "colab": {},
    "colab_type": "code",
    "id": "aJHkJPQDNAkk"
   },
   "outputs": [],
   "source": [
    "# https://stackoverflow.com/a/47091490/4084039\n",
    "import re\n",
    "\n",
    "def decontracted(phrase):\n",
    "    # specific\n",
    "    phrase = re.sub(r\"won't\", \"will not\", phrase)\n",
    "    phrase = re.sub(r\"can\\'t\", \"can not\", phrase)\n",
    "\n",
    "    # general\n",
    "    phrase = re.sub(r\"n\\'t\", \" not\", phrase)\n",
    "    phrase = re.sub(r\"\\'re\", \" are\", phrase)\n",
    "    phrase = re.sub(r\"\\'s\", \" is\", phrase)\n",
    "    phrase = re.sub(r\"\\'d\", \" would\", phrase)\n",
    "    phrase = re.sub(r\"\\'ll\", \" will\", phrase)\n",
    "    phrase = re.sub(r\"\\'t\", \" not\", phrase)\n",
    "    phrase = re.sub(r\"\\'ve\", \" have\", phrase)\n",
    "    phrase = re.sub(r\"\\'m\", \" am\", phrase)\n",
    "    return phrase"
   ]
  },
  {
   "cell_type": "code",
   "execution_count": 18,
   "metadata": {
    "colab": {},
    "colab_type": "code",
    "id": "shoSMlf0NAkp",
    "outputId": "57987695-7a74-4182-c995-d7f3a8e1a10d"
   },
   "outputs": [
    {
     "name": "stdout",
     "output_type": "stream",
     "text": [
      "OK....I thought I would put a bit of punch to hubby is sandwich, instead of the ho-hum Best Foods Mayo---ohOoooOh--FAILURE!<br />One bite and he said---Please! DO NOT EVER SERVE THIS TO ME AGAIN!<br />I guess it was that-bad!<br />I will see if my neighbor will be able to use it w/her family.<br />If you  are a BEST FOODS lover---walk away---do NOT purchase this product!\n",
      "==================================================\n"
     ]
    }
   ],
   "source": [
    "sent_1500 = decontracted(sent_1500)\n",
    "print(sent_1500)\n",
    "print(\"=\"*50)"
   ]
  },
  {
   "cell_type": "code",
   "execution_count": 19,
   "metadata": {
    "colab": {},
    "colab_type": "code",
    "id": "aSnXMx8lNAl5",
    "outputId": "61697cdd-3ef1-47ba-af71-de66a5cd9afa"
   },
   "outputs": [
    {
     "name": "stdout",
     "output_type": "stream",
     "text": [
      "My dogs loves this chicken but its a product from China, so we wont be buying it anymore.  Its very hard to find any chicken products made in the USA but they are out there, but this one isnt.  Its too bad too because its a good product but I wont take any chances till they know what is going on with the china imports.\n"
     ]
    }
   ],
   "source": [
    "#remove words with numbers python: https://stackoverflow.com/a/18082370/4084039\n",
    "sent_0 = re.sub(\"\\S*\\d\\S*\", \"\", sent_0).strip()\n",
    "print(sent_0)"
   ]
  },
  {
   "cell_type": "code",
   "execution_count": 20,
   "metadata": {
    "colab": {},
    "colab_type": "code",
    "id": "TTSKESPPNAmw",
    "outputId": "be6dd7f4-e48a-4acd-f225-6aa8ba6eba3c"
   },
   "outputs": [
    {
     "name": "stdout",
     "output_type": "stream",
     "text": [
      "OK I thought I would put a bit of punch to hubby is sandwich instead of the ho hum Best Foods Mayo ohOoooOh FAILURE br One bite and he said Please DO NOT EVER SERVE THIS TO ME AGAIN br I guess it was that bad br I will see if my neighbor will be able to use it w her family br If you are a BEST FOODS lover walk away do NOT purchase this product \n"
     ]
    }
   ],
   "source": [
    "#remove spacial character: https://stackoverflow.com/a/5843547/4084039\n",
    "sent_1500 = re.sub('[^A-Za-z0-9]+', ' ', sent_1500)\n",
    "print(sent_1500)"
   ]
  },
  {
   "cell_type": "code",
   "execution_count": 21,
   "metadata": {
    "colab": {},
    "colab_type": "code",
    "id": "WqaPxnS4NAnA"
   },
   "outputs": [],
   "source": [
    "# https://gist.github.com/sebleier/554280\n",
    "# we are removing the words from the stop words list: 'no', 'nor', 'not'\n",
    "# <br /><br /> ==> after the above steps, we are getting \"br br\"\n",
    "# we are including them into stop words list\n",
    "# instead of <br /> if we have <br/> these tags would have revmoved in the 1st step\n",
    "\n",
    "stopwords= set(['br', 'the', 'i', 'me', 'my', 'myself', 'we', 'our', 'ours', 'ourselves', 'you', \"you're\", \"you've\",\\\n",
    "            \"you'll\", \"you'd\", 'your', 'yours', 'yourself', 'yourselves', 'he', 'him', 'his', 'himself', \\\n",
    "            'she', \"she's\", 'her', 'hers', 'herself', 'it', \"it's\", 'its', 'itself', 'they', 'them', 'their',\\\n",
    "            'theirs', 'themselves', 'what', 'which', 'who', 'whom', 'this', 'that', \"that'll\", 'these', 'those', \\\n",
    "            'am', 'is', 'are', 'was', 'were', 'be', 'been', 'being', 'have', 'has', 'had', 'having', 'do', 'does', \\\n",
    "            'did', 'doing', 'a', 'an', 'the', 'and', 'but', 'if', 'or', 'because', 'as', 'until', 'while', 'of', \\\n",
    "            'at', 'by', 'for', 'with', 'about', 'against', 'between', 'into', 'through', 'during', 'before', 'after',\\\n",
    "            'above', 'below', 'to', 'from', 'up', 'down', 'in', 'out', 'on', 'off', 'over', 'under', 'again', 'further',\\\n",
    "            'then', 'once', 'here', 'there', 'when', 'where', 'why', 'how', 'all', 'any', 'both', 'each', 'few', 'more',\\\n",
    "            'most', 'other', 'some', 'such', 'only', 'own', 'same', 'so', 'than', 'too', 'very', \\\n",
    "            's', 't', 'can', 'will', 'just', 'don', \"don't\", 'should', \"should've\", 'now', 'd', 'll', 'm', 'o', 're', \\\n",
    "            've', 'y', 'ain', 'aren', \"aren't\", 'couldn', \"couldn't\", 'didn', \"didn't\", 'doesn', \"doesn't\", 'hadn',\\\n",
    "            \"hadn't\", 'hasn', \"hasn't\", 'haven', \"haven't\", 'isn', \"isn't\", 'ma', 'mightn', \"mightn't\", 'mustn',\\\n",
    "            \"mustn't\", 'needn', \"needn't\", 'shan', \"shan't\", 'shouldn', \"shouldn't\", 'wasn', \"wasn't\", 'weren', \"weren't\", \\\n",
    "            'won', \"won't\", 'wouldn', \"wouldn't\"])"
   ]
  },
  {
   "cell_type": "code",
   "execution_count": 22,
   "metadata": {
    "colab": {},
    "colab_type": "code",
    "id": "bv5ohfdHNAnz",
    "outputId": "0b2ce756-9663-4b51-c9dd-9b5f3bac9774"
   },
   "outputs": [
    {
     "name": "stderr",
     "output_type": "stream",
     "text": [
      "100%|██████████| 99722/99722 [00:48<00:00, 2050.69it/s]\n"
     ]
    }
   ],
   "source": [
    "# Combining all the above stundents \n",
    "from tqdm import tqdm\n",
    "preprocessed_reviews = []\n",
    "# tqdm is for printing the status bar\n",
    "for sentance in tqdm(final['Text'].values):\n",
    "    sentance = re.sub(r\"http\\S+\", \"\", sentance)\n",
    "    sentance = BeautifulSoup(sentance, 'lxml').get_text()\n",
    "    sentance = decontracted(sentance)\n",
    "    sentance = re.sub(\"\\S*\\d\\S*\", \"\", sentance).strip()\n",
    "    sentance = re.sub('[^A-Za-z]+', ' ', sentance)\n",
    "    # https://gist.github.com/sebleier/554280\n",
    "    sentance = ' '.join(e.lower() for e in sentance.split() if e.lower() not in stopwords)\n",
    "    preprocessed_reviews.append(sentance.strip())"
   ]
  },
  {
   "cell_type": "code",
   "execution_count": 23,
   "metadata": {
    "colab": {},
    "colab_type": "code",
    "id": "mFamHg19NAoS",
    "outputId": "5b572b9e-3f5e-414c-b240-98ac518d86f8"
   },
   "outputs": [
    {
     "data": {
      "text/plain": [
       "'ok thought would put bit punch hubby sandwich instead ho hum best foods mayo ohoooooh failure one bite said please not ever serve guess bad see neighbor able use w family best foods lover walk away not purchase product'"
      ]
     },
     "execution_count": 23,
     "metadata": {},
     "output_type": "execute_result"
    }
   ],
   "source": [
    "preprocessed_reviews[1500]"
   ]
  },
  {
   "cell_type": "code",
   "execution_count": 24,
   "metadata": {},
   "outputs": [
    {
     "name": "stderr",
     "output_type": "stream",
     "text": [
      "/usr/local/lib/python3.5/dist-packages/sklearn/cross_validation.py:41: DeprecationWarning: This module was deprecated in version 0.18 in favor of the model_selection module into which all the refactored classes and functions are moved. Also note that the interface of the new CV iterators are different from that of this module. This module will be removed in 0.20.\n",
      "  \"This module will be removed in 0.20.\", DeprecationWarning)\n"
     ]
    }
   ],
   "source": [
    "from sklearn.cross_validation import train_test_split\n",
    "from sklearn.linear_model import LogisticRegression\n",
    "from sklearn.cross_validation import cross_val_score\n",
    "from collections import Counter\n",
    "import collections\n",
    "from sklearn.metrics import accuracy_score,roc_auc_score,roc_curve,confusion_matrix,auc\n",
    "from sklearn import cross_validation\n",
    "from scipy.sparse import csr_matrix,hstack\n",
    "from sklearn.linear_model import SGDClassifier\n",
    "from sklearn.calibration import CalibratedClassifierCV\n",
    "from sklearn.svm import SVC"
   ]
  },
  {
   "cell_type": "code",
   "execution_count": 27,
   "metadata": {},
   "outputs": [
    {
     "name": "stdout",
     "output_type": "stream",
     "text": [
      "(79777,) (19945,) (59832,) (19945,) (19945,)\n"
     ]
    }
   ],
   "source": [
    "X_1, X_test, y_1, y_test = cross_validation.train_test_split(preprocessed_reviews,final['Score'], test_size=0.2, random_state=0)\n",
    "X_tr, X_cv, y_tr, y_cv = cross_validation.train_test_split(X_1, y_1, test_size=0.25)\n",
    "print(np.asarray(X_1).shape,np.asarray(X_test).shape,np.asarray(X_tr).shape,np.asarray(X_test).shape,np.asarray(X_cv).shape)"
   ]
  },
  {
   "cell_type": "markdown",
   "metadata": {
    "colab_type": "text",
    "id": "1ZZ-ZPS9NAo8"
   },
   "source": [
    "<h2><font color='red'>[3.2] Preprocessing Review Summary</font></h2>"
   ]
  },
  {
   "cell_type": "code",
   "execution_count": 26,
   "metadata": {
    "colab": {},
    "colab_type": "code",
    "id": "NNiZ0jjmNAo-"
   },
   "outputs": [],
   "source": [
    "## Similartly you can do preprocessing for review summary also."
   ]
  },
  {
   "cell_type": "markdown",
   "metadata": {
    "colab_type": "text",
    "id": "xTKF1r4HNApE"
   },
   "source": [
    "# [4] Featurization"
   ]
  },
  {
   "cell_type": "markdown",
   "metadata": {
    "colab_type": "text",
    "id": "y6nH2qptNApF"
   },
   "source": [
    "## [4.1] BAG OF WORDS"
   ]
  },
  {
   "cell_type": "code",
   "execution_count": 105,
   "metadata": {
    "colab": {},
    "colab_type": "code",
    "id": "kzrMw20LNApI",
    "outputId": "85f7611a-6ad9-4b1a-afce-9be7b812c9ea"
   },
   "outputs": [
    {
     "name": "stdout",
     "output_type": "stream",
     "text": [
      "some feature names  ['aa', 'aaa', 'aaaa', 'aaaaa', 'aaaaaaaaaaaa', 'aaaaaaaaaaaaaaa', 'aaaah', 'aaaand', 'aaah', 'aaahs']\n",
      "==================================================\n",
      "the type of count vectorizer  <class 'scipy.sparse.csr.csr_matrix'>\n",
      "the shape of out text BOW vectorizer  (59832, 46104)\n",
      "the number of unique words  46104\n"
     ]
    }
   ],
   "source": [
    "#BoW\n",
    "count_vect = CountVectorizer() #in scikit-learn\n",
    "BOW_Train = count_vect.fit_transform(X_tr)\n",
    "BOW_test = count_vect.transform(X_test)\n",
    "BOW_CV = count_vect.transform(X_cv)\n",
    "print(\"some feature names \", count_vect.get_feature_names()[:10])\n",
    "print('='*50)\n",
    "print(\"the type of count vectorizer \",type(BOW_Train))\n",
    "print(\"the shape of out text BOW vectorizer \",BOW_Train.get_shape())\n",
    "print(\"the number of unique words \", BOW_Train.get_shape()[1])"
   ]
  },
  {
   "cell_type": "markdown",
   "metadata": {
    "colab_type": "text",
    "id": "MFBuWeW6NApX"
   },
   "source": [
    "## [4.2] Bi-Grams and n-Grams."
   ]
  },
  {
   "cell_type": "code",
   "execution_count": 0,
   "metadata": {
    "colab": {},
    "colab_type": "code",
    "id": "MyNu86aaNApY",
    "outputId": "bd84ae96-08ca-45b3-db60-e313be0b428a"
   },
   "outputs": [
    {
     "name": "stdout",
     "output_type": "stream",
     "text": [
      "the type of count vectorizer  <class 'scipy.sparse.csr.csr_matrix'>\n",
      "the shape of out text BOW vectorizer  (4986, 3144)\n",
      "the number of unique words including both unigrams and bigrams  3144\n"
     ]
    }
   ],
   "source": [
    "#bi-gram, tri-gram and n-gram\n",
    "\n",
    "#removing stop words like \"not\" should be avoided before building n-grams\n",
    "# count_vect = CountVectorizer(ngram_range=(1,2))\n",
    "# please do read the CountVectorizer documentation http://scikit-learn.org/stable/modules/generated/sklearn.feature_extraction.text.CountVectorizer.html\n",
    "\n",
    "# you can choose these numebrs min_df=10, max_features=5000, of your choice\n",
    "count_vect = CountVectorizer(ngram_range=(1,2), min_df=10, max_features=5000)\n",
    "final_bigram_counts = count_vect.fit_transform(preprocessed_reviews)\n",
    "print(\"the type of count vectorizer \",type(final_bigram_counts))\n",
    "print(\"the shape of out text BOW vectorizer \",final_bigram_counts.get_shape())\n",
    "print(\"the number of unique words including both unigrams and bigrams \", final_bigram_counts.get_shape()[1])"
   ]
  },
  {
   "cell_type": "markdown",
   "metadata": {
    "colab_type": "text",
    "id": "0QtV77FfNApy"
   },
   "source": [
    "## [4.3] TF-IDF"
   ]
  },
  {
   "cell_type": "code",
   "execution_count": 28,
   "metadata": {
    "colab": {},
    "colab_type": "code",
    "id": "3E_0cPQFNApz",
    "outputId": "8eb950eb-5d7f-4a2e-b387-2b8f291f1484"
   },
   "outputs": [
    {
     "name": "stdout",
     "output_type": "stream",
     "text": [
      "the type of count vectorizer  <class 'scipy.sparse.csr.csr_matrix'>\n",
      "the shape of out text TFIDF vectorizer  (59832, 35350)\n",
      "the number of unique words including both unigrams and bigrams  35350\n"
     ]
    }
   ],
   "source": [
    "tf_idf_vect = TfidfVectorizer(ngram_range=(1,2), min_df=10)\n",
    "TFIDF_Train = tf_idf_vect.fit_transform(X_tr)\n",
    "TFIDF_Test = tf_idf_vect.transform(X_test)\n",
    "TFIDF_Validation = tf_idf_vect.transform(X_cv)\n",
    "print(\"the type of count vectorizer \",type(TFIDF_Train))\n",
    "print(\"the shape of out text TFIDF vectorizer \",TFIDF_Train.get_shape())\n",
    "print(\"the number of unique words including both unigrams and bigrams \", TFIDF_Train.get_shape()[1])"
   ]
  },
  {
   "cell_type": "markdown",
   "metadata": {
    "colab_type": "text",
    "id": "jjquPGpuNAp7"
   },
   "source": [
    "## [4.4] Word2Vec"
   ]
  },
  {
   "cell_type": "code",
   "execution_count": 26,
   "metadata": {
    "colab": {},
    "colab_type": "code",
    "id": "3rdr9YoHNAp8"
   },
   "outputs": [],
   "source": [
    "# Train your own Word2Vec model using your own text corpus\n",
    "i=0\n",
    "list_of_sentance=[]\n",
    "list_of_sentance_cv=[]\n",
    "list_of_sentance_test=[]\n",
    "for sentance in X_tr:\n",
    "    list_of_sentance.append(sentance.split())\n",
    "for sentance in X_cv:\n",
    "    list_of_sentance_cv.append(sentance.split())\n",
    "for sentance in X_test:\n",
    "    list_of_sentance_test.append(sentance.split())"
   ]
  },
  {
   "cell_type": "code",
   "execution_count": 27,
   "metadata": {
    "colab": {},
    "colab_type": "code",
    "id": "YfjEcJh6NAqX",
    "outputId": "4e7e8fce-094e-4d81-b486-3b06a33a001c",
    "scrolled": true
   },
   "outputs": [
    {
     "name": "stdout",
     "output_type": "stream",
     "text": [
      "[('good', 0.8334206342697144), ('wonderful', 0.8069636225700378), ('perfect', 0.8003438115119934), ('excellent', 0.7898795008659363), ('fantastic', 0.7895293831825256), ('amazing', 0.7808436751365662), ('awesome', 0.7732279300689697), ('decent', 0.7134669423103333), ('delicious', 0.6795121431350708), ('terrific', 0.6793161034584045)]\n",
      "==================================================\n",
      "[('tastiest', 0.8013022541999817), ('best', 0.7848146557807922), ('eaten', 0.7750961184501648), ('experienced', 0.7408472895622253), ('hottest', 0.727881133556366), ('greatest', 0.7226543426513672), ('none', 0.7164599895477295), ('tryed', 0.7145386338233948), ('ive', 0.7127924561500549), ('superior', 0.7076396346092224)]\n"
     ]
    }
   ],
   "source": [
    "# Using Google News Word2Vectors\n",
    "\n",
    "# in this project we are using a pretrained model by google\n",
    "# its 3.3G file, once you load this into your memory \n",
    "# it occupies ~9Gb, so please do this step only if you have >12G of ram\n",
    "# we will provide a pickle file wich contains a dict , \n",
    "# and it contains all our courpus words as keys and  model[word] as values\n",
    "# To use this code-snippet, download \"GoogleNews-vectors-negative300.bin\" \n",
    "# from https://drive.google.com/file/d/0B7XkCwpI5KDYNlNUTTlSS21pQmM/edit\n",
    "# it's 1.9GB in size.\n",
    "\n",
    "\n",
    "# http://kavita-ganesan.com/gensim-word2vec-tutorial-starter-code/#.W17SRFAzZPY\n",
    "# you can comment this whole cell\n",
    "# or change these varible according to your need\n",
    "\n",
    "is_your_ram_gt_16g=False\n",
    "want_to_use_google_w2v = False\n",
    "want_to_train_w2v = True\n",
    "\n",
    "if want_to_train_w2v:\n",
    "    # min_count = 5 considers only words that occured atleast 5 times\n",
    "    w2v_model=Word2Vec(list_of_sentance,min_count=5,size=50, workers=4)\n",
    "    print(w2v_model.wv.most_similar('great'))\n",
    "    print('='*50)\n",
    "    print(w2v_model.wv.most_similar('worst'))\n",
    "    \n",
    "elif want_to_use_google_w2v and is_your_ram_gt_16g:\n",
    "    if os.path.isfile('GoogleNews-vectors-negative300.bin'):\n",
    "        w2v_model=KeyedVectors.load_word2vec_format('GoogleNews-vectors-negative300.bin', binary=True)\n",
    "        print(w2v_model.wv.most_similar('great'))\n",
    "        print(w2v_model.wv.most_similar('worst'))\n",
    "    else:\n",
    "        print(\"you don't have gogole's word2vec file, keep want_to_train_w2v = True, to train your own w2v \")"
   ]
  },
  {
   "cell_type": "code",
   "execution_count": 28,
   "metadata": {
    "colab": {},
    "colab_type": "code",
    "id": "5JmArYSlNAqh",
    "outputId": "ccf6729b-c4be-44aa-efe4-705387d15ffe"
   },
   "outputs": [
    {
     "name": "stdout",
     "output_type": "stream",
     "text": [
      "number of words that occured minimum 5 times  9507\n",
      "sample words  ['apply', 'alpo', 'log', 'dainty', 'straws', 'dermatitis', 'lactobacillus', 'valentines', 'moreover', 'preparations', 'exception', 'value', 'acquire', 'crispiness', 'brewer', 'medley', 'subscribing', 'construction', 'lifelong', 'tn', 'dick', 'feb', 'genisis', 'pill', 'produce', 'curb', 'resemblance', 'wimpy', 'cheese', 'conversation', 'alot', 'detailed', 'maltese', 'busy', 'zojirushi', 'matters', 'taken', 'curious', 'highland', 'carcinogens', 'tiny', 'cholula', 'planted', 'zuke', 'knee', 'marie', 'lil', 'brains', 'reviewed', 'purity']\n"
     ]
    }
   ],
   "source": [
    "w2v_words = list(w2v_model.wv.vocab)\n",
    "print(\"number of words that occured minimum 5 times \",len(w2v_words))\n",
    "print(\"sample words \", w2v_words[0:50])"
   ]
  },
  {
   "cell_type": "markdown",
   "metadata": {
    "colab_type": "text",
    "id": "36xmqr4INAqz"
   },
   "source": [
    "## [4.4.1] Converting text into vectors using Avg W2V, TFIDF-W2V"
   ]
  },
  {
   "cell_type": "markdown",
   "metadata": {
    "colab_type": "text",
    "id": "ULuqZ2-vNArB"
   },
   "source": [
    "#### [4.4.1.1] Avg W2v"
   ]
  },
  {
   "cell_type": "code",
   "execution_count": 29,
   "metadata": {
    "colab": {},
    "colab_type": "code",
    "id": "OMVal9QXNArB",
    "outputId": "d5cd13f4-0edf-4982-9efd-81827fee1c2a"
   },
   "outputs": [
    {
     "name": "stderr",
     "output_type": "stream",
     "text": [
      "100%|██████████| 24000/24000 [02:18<00:00, 173.60it/s]\n",
      "100%|██████████| 8000/8000 [00:43<00:00, 182.05it/s]\n",
      "100%|██████████| 8000/8000 [00:38<00:00, 209.44it/s]"
     ]
    },
    {
     "name": "stdout",
     "output_type": "stream",
     "text": [
      "24000\n",
      "50\n"
     ]
    },
    {
     "name": "stderr",
     "output_type": "stream",
     "text": [
      "\n"
     ]
    }
   ],
   "source": [
    "# average Word2Vec\n",
    "# compute average word2vec for each review.\n",
    "sent_vectors = []; # the avg-w2v for each sentence/review is stored in this list\n",
    "for sent in tqdm(list_of_sentance): # for each review/sentence\n",
    "    sent_vec = np.zeros(50) # as word vectors are of zero length 50, you might need to change this to 300 if you use google's w2v\n",
    "    cnt_words =0; # num of words with a valid vector in the sentence/review\n",
    "    for word in sent: # for each word in a review/sentence\n",
    "        if word in w2v_words:\n",
    "            vec = w2v_model.wv[word]\n",
    "            sent_vec += vec\n",
    "            cnt_words += 1\n",
    "    if cnt_words != 0:\n",
    "        sent_vec /= cnt_words\n",
    "    sent_vectors.append(sent_vec)\n",
    "sent_vectors_cv = []; # the avg-w2v for each sentence/review is stored in this list\n",
    "for sent in tqdm(list_of_sentance_cv): # for each review/sentence\n",
    "    sent_vec = np.zeros(50) # as word vectors are of zero length 50, you might need to change this to 300 if you use google's w2v\n",
    "    cnt_words =0; # num of words with a valid vector in the sentence/review\n",
    "    for word in sent: # for each word in a review/sentence\n",
    "        if word in w2v_words:\n",
    "            vec = w2v_model.wv[word]\n",
    "            sent_vec += vec\n",
    "            cnt_words += 1\n",
    "    if cnt_words != 0:\n",
    "        sent_vec /= cnt_words\n",
    "    sent_vectors_cv.append(sent_vec)\n",
    "sent_vectors_test = []; # the avg-w2v for each sentence/review is stored in this list\n",
    "for sent in tqdm(list_of_sentance_test): # for each review/sentence\n",
    "    sent_vec = np.zeros(50) # as word vectors are of zero length 50, you might need to change this to 300 if you use google's w2v\n",
    "    cnt_words =0; # num of words with a valid vector in the sentence/review\n",
    "    for word in sent: # for each word in a review/sentence\n",
    "        if word in w2v_words:\n",
    "            vec = w2v_model.wv[word]\n",
    "            sent_vec += vec\n",
    "            cnt_words += 1\n",
    "    if cnt_words != 0:\n",
    "        sent_vec /= cnt_words\n",
    "    sent_vectors_test.append(sent_vec)\n",
    "print(len(sent_vectors))\n",
    "print(len(sent_vectors[0]))"
   ]
  },
  {
   "cell_type": "markdown",
   "metadata": {
    "colab_type": "text",
    "id": "QspGU2ZFNArH"
   },
   "source": [
    "#### [4.4.1.2] TFIDF weighted W2v"
   ]
  },
  {
   "cell_type": "code",
   "execution_count": 30,
   "metadata": {
    "colab": {},
    "colab_type": "code",
    "id": "LkaHr8hyNArI"
   },
   "outputs": [],
   "source": [
    "model = TfidfVectorizer()\n",
    "tf_idf_matrix = model.fit_transform(X_tr)\n",
    "tf_idf_matrix_cv = model.transform(X_cv)\n",
    "tf_idf_matrix_test = model.transform(X_test)\n",
    "# we are converting a dictionary with word as a key, and the idf as a value\n",
    "dictionary = dict(zip(model.get_feature_names(), list(model.idf_)))"
   ]
  },
  {
   "cell_type": "code",
   "execution_count": 31,
   "metadata": {
    "colab": {},
    "colab_type": "code",
    "id": "Evp4F__TNArO",
    "outputId": "add75eae-4053-486c-9f0d-8643d158b700",
    "scrolled": true
   },
   "outputs": [
    {
     "name": "stderr",
     "output_type": "stream",
     "text": [
      "100%|██████████| 24000/24000 [08:59<00:00, 44.49it/s]\n",
      "100%|██████████| 8000/8000 [02:37<00:00, 50.73it/s]\n",
      "100%|██████████| 8000/8000 [02:29<00:00, 53.54it/s]\n"
     ]
    }
   ],
   "source": [
    "# TF-IDF weighted Word2Vec\n",
    "tfidf_feat = model.get_feature_names()# tfidf words/col-names\n",
    "# final_tf_idf is the sparse matrix with row= sentence, col=word and cell_val = tfidf\n",
    "\n",
    "tfidf_sent_vectors = []; # the tfidf-w2v for each sentence/review is stored in this list\n",
    "row=0;\n",
    "for sent in tqdm(list_of_sentance): # for each review/sentence \n",
    "    sent_vec = np.zeros(50) # as word vectors are of zero length\n",
    "    weight_sum =0; # num of words with a valid vector in the sentence/review\n",
    "    for word in sent: # for each word in a review/sentence\n",
    "        if word in w2v_words and word in tfidf_feat:\n",
    "            vec = w2v_model.wv[word]\n",
    "#             tf_idf = tf_idf_matrix[row, tfidf_feat.index(word)]\n",
    "            # to reduce the computation we are \n",
    "            # dictionary[word] = idf value of word in whole courpus\n",
    "            # sent.count(word) = tf valeus of word in this review\n",
    "            tf_idf = dictionary[word]*(sent.count(word)/len(sent))\n",
    "            sent_vec += (vec * tf_idf)\n",
    "            weight_sum += tf_idf\n",
    "    if weight_sum != 0:\n",
    "        sent_vec /= weight_sum\n",
    "    tfidf_sent_vectors.append(sent_vec)\n",
    "    row += 1\n",
    "tfidf_sent_vectors_cv = []; # the tfidf-w2v for each sentence/review is stored in this list\n",
    "row=0;\n",
    "for sent in tqdm(list_of_sentance_cv): # for each review/sentence \n",
    "    sent_vec = np.zeros(50) # as word vectors are of zero length\n",
    "    weight_sum =0; # num of words with a valid vector in the sentence/review\n",
    "    for word in sent: # for each word in a review/sentence\n",
    "        if word in w2v_words and word in tfidf_feat:\n",
    "            vec = w2v_model.wv[word]\n",
    "#             tf_idf = tf_idf_matrix[row, tfidf_feat.index(word)]\n",
    "            # to reduce the computation we are \n",
    "            # dictionary[word] = idf value of word in whole courpus\n",
    "            # sent.count(word) = tf valeus of word in this review\n",
    "            tf_idf = dictionary[word]*(sent.count(word)/len(sent))\n",
    "            sent_vec += (vec * tf_idf)\n",
    "            weight_sum += tf_idf\n",
    "    if weight_sum != 0:\n",
    "        sent_vec /= weight_sum\n",
    "    tfidf_sent_vectors_cv.append(sent_vec)\n",
    "    row += 1\n",
    "tfidf_sent_vectors_test = []; # the tfidf-w2v for each sentence/review is stored in this list\n",
    "row=0;\n",
    "for sent in tqdm(list_of_sentance_test): # for each review/sentence \n",
    "    sent_vec = np.zeros(50) # as word vectors are of zero length\n",
    "    weight_sum =0; # num of words with a valid vector in the sentence/review\n",
    "    for word in sent: # for each word in a review/sentence\n",
    "        if word in w2v_words and word in tfidf_feat:\n",
    "            vec = w2v_model.wv[word]\n",
    "#             tf_idf = tf_idf_matrix[row, tfidf_feat.index(word)]\n",
    "            # to reduce the computation we are \n",
    "            # dictionary[word] = idf value of word in whole courpus\n",
    "            # sent.count(word) = tf valeus of word in this review\n",
    "            tf_idf = dictionary[word]*(sent.count(word)/len(sent))\n",
    "            sent_vec += (vec * tf_idf)\n",
    "            weight_sum += tf_idf\n",
    "    if weight_sum != 0:\n",
    "        sent_vec /= weight_sum\n",
    "    tfidf_sent_vectors_test.append(sent_vec)\n",
    "    row += 1"
   ]
  },
  {
   "cell_type": "markdown",
   "metadata": {
    "colab_type": "text",
    "id": "ZbD9HGg6NAra"
   },
   "source": [
    "# [5] Assignment 7: SVM"
   ]
  },
  {
   "cell_type": "markdown",
   "metadata": {
    "colab_type": "text",
    "id": "dCnip5b2NArb"
   },
   "source": [
    "<ol>\n",
    "    <li><strong>Apply SVM on these feature sets</strong>\n",
    "        <ul>\n",
    "            <li><font color='red'>SET 1:</font>Review text, preprocessed one converted into vectors using (BOW)</li>\n",
    "            <li><font color='red'>SET 2:</font>Review text, preprocessed one converted into vectors using (TFIDF)</li>\n",
    "            <li><font color='red'>SET 3:</font>Review text, preprocessed one converted into vectors using (AVG W2v)</li>\n",
    "            <li><font color='red'>SET 4:</font>Review text, preprocessed one converted into vectors using (TFIDF W2v)</li>\n",
    "        </ul>\n",
    "    </li>\n",
    "    <br>\n",
    "    <li><strong>Procedure</strong>\n",
    "        <ul>\n",
    "    <li>You need to work with 2 versions of SVM\n",
    "        <ul><li>Linear kernel</li>\n",
    "            <li>RBF kernel</li></ul>\n",
    "    <li>When you are working with linear kernel, use SGDClassifier’ with hinge loss because it is computationally less expensive.</li>\n",
    "    <li>When you are working with ‘SGDClassifier’ with hinge loss and trying to find the AUC\n",
    "        score, you would have to use <a href='https://scikit-learn.org/stable/modules/generated/sklearn.calibration.CalibratedClassifierCV.html'>CalibratedClassifierCV</a></li>\n",
    "    <li>Similarly, like kdtree of knn, when you are working with RBF kernel it's better to reduce\n",
    "the number of dimensions. You can put min_df = 10, max_features = 500 and consider a sample size of 40k points.</li>                \n",
    "        </ul>\n",
    "    </li>\n",
    "    <br>\n",
    "    <li><strong>Hyper paramter tuning (find best alpha in range [10^-4 to 10^4], and the best penalty among 'l1', 'l2')</strong>\n",
    "        <ul>\n",
    "    <li>Find the best hyper parameter which will give the maximum <a href='https://www.appliedaicourse.com/course/applied-ai-course-online/lessons/receiver-operating-characteristic-curve-roc-curve-and-auc-1/'>AUC</a> value</li>\n",
    "    <li>Find the best hyper paramter using k-fold cross validation or simple cross validation data</li>\n",
    "    <li>Use gridsearch cv or randomsearch cv or you can also write your own for loops to do this task of hyperparameter tuning</li>          \n",
    "        </ul>\n",
    "    </li>\n",
    "    <br>\n",
    "    <li><strong>Feature importance</strong>\n",
    "        <ul>\n",
    "    <li>When you are working on the linear kernel with BOW or TFIDF please print the top 10 best\n",
    "features for each of the positive and negative classes.</li>\n",
    "        </ul>\n",
    "    </li>\n",
    "    <br>\n",
    "    <li><strong>Feature engineering</strong>\n",
    "        <ul>\n",
    "    <li>To increase the performance of your model, you can also experiment with with feature engineering like :</li>\n",
    "            <ul>\n",
    "            <li>Taking length of reviews as another feature.</li>\n",
    "            <li>Considering some features from review summary as well.</li>\n",
    "        </ul>\n",
    "        </ul>\n",
    "    </li>\n",
    "    <br>\n",
    "    <li><strong>Representation of results</strong>\n",
    "        <ul>\n",
    "    <li>You need to plot the performance of model both on train data and cross validation data for each hyper parameter, like shown in the figure.\n",
    "    <img src='train_cv_auc.JPG' width=300px></li>\n",
    "    <li>Once after you found the best hyper parameter, you need to train your model with it, and find the AUC on test data and plot the ROC curve on both train and test.\n",
    "    <img src='train_test_auc.JPG' width=300px></li>\n",
    "    <li>Along with plotting ROC curve, you need to print the <a href='https://www.appliedaicourse.com/course/applied-ai-course-online/lessons/confusion-matrix-tpr-fpr-fnr-tnr-1/'>confusion matrix</a> with predicted and original labels of test data points. Please visualize your confusion matrices using <a href='https://seaborn.pydata.org/generated/seaborn.heatmap.html'>seaborn heatmaps.\n",
    "    <img src='confusion_matrix.png' width=300px></li>\n",
    "        </ul>\n",
    "    </li>\n",
    "    <br>\n",
    "    <li><strong>Conclusion</strong>\n",
    "        <ul>\n",
    "    <li>You need to summarize the results at the end of the notebook, summarize it in the table format. To print out a table please refer to this prettytable library<a href='http://zetcode.com/python/prettytable/'>  link</a> \n",
    "        <img src='summary.JPG' width=400px>\n",
    "    </li>\n",
    "        </ul>\n",
    "</ol>"
   ]
  },
  {
   "cell_type": "markdown",
   "metadata": {
    "colab_type": "text",
    "id": "1xlw9fHLNArc"
   },
   "source": [
    "<h4><font color='red'>Note: Data Leakage</font></h4>\n",
    "\n",
    "1. There will be an issue of data-leakage if you vectorize the entire data and then split it into train/cv/test.\n",
    "2. To avoid the issue of data-leakag, make sure to split your data first and then vectorize it. \n",
    "3. While vectorizing your data, apply the method fit_transform() on you train data, and apply the method transform() on cv/test data.\n",
    "4. For more details please go through this <a href='https://soundcloud.com/applied-ai-course/leakage-bow-and-tfidf'>link.</a>"
   ]
  },
  {
   "cell_type": "markdown",
   "metadata": {
    "colab_type": "text",
    "id": "ThgZgmHANArf"
   },
   "source": [
    "# Applying SVM"
   ]
  },
  {
   "cell_type": "markdown",
   "metadata": {
    "colab_type": "text",
    "id": "lNXyRCJ_NArh"
   },
   "source": [
    "## [5.1] Linear SVM"
   ]
  },
  {
   "cell_type": "markdown",
   "metadata": {
    "colab_type": "text",
    "id": "MaePu4kkNAri"
   },
   "source": [
    "### [5.1.1] Applying Linear SVM on BOW,<font color='red'> SET 1</font>"
   ]
  },
  {
   "cell_type": "markdown",
   "metadata": {},
   "source": [
    "### Using L1 regularizer"
   ]
  },
  {
   "cell_type": "code",
   "execution_count": 49,
   "metadata": {
    "colab": {},
    "colab_type": "code",
    "id": "AWtbmMfZNAri"
   },
   "outputs": [
    {
     "data": {
      "image/png": "[encoded data removed]",
      "text/plain": [
       "<Figure size 432x288 with 1 Axes>"
      ]
     },
     "metadata": {},
     "output_type": "display_data"
    }
   ],
   "source": [
    "# Please write all the code with proper documentation\n",
    "lamda= [10**(-4),10**(-3),10**(-2),10**(-1),1,10,100,1000,10000]\n",
    "BOW_val_accuracy = []\n",
    "BOW_train_accuracy = []\n",
    "for i in lamda:\n",
    "    model = SGDClassifier(penalty='l1',alpha=i)\n",
    "    model.fit(BOW_Train,y_tr)\n",
    "    model1 = CalibratedClassifierCV(model)\n",
    "    model1.fit(BOW_Train,y_tr)\n",
    "    val_data  = model1.predict_proba(BOW_CV)[:,1]\n",
    "    train_data = model1.predict_proba(BOW_Train)[:,1]\n",
    "    BOW_val_accuracy.append(roc_auc_score(np.asarray(y_cv),np.asarray(val_data)))\n",
    "    BOW_train_accuracy.append(roc_auc_score(np.asarray(y_tr),np.asarray(train_data)))\n",
    "plt.plot(np.log(np.asarray(lamda)), BOW_train_accuracy, label='Train AUC')\n",
    "plt.plot(np.log(np.asarray(lamda)), BOW_val_accuracy, label='CV AUC')\n",
    "plt.legend()\n",
    "plt.xlabel(\"alpha: hyperparameter\")\n",
    "plt.ylabel(\"AUC\")\n",
    "plt.title(\"ERROR PLOTS\")\n",
    "plt.show()\n",
    "    \n",
    "    "
   ]
  },
  {
   "cell_type": "code",
   "execution_count": 50,
   "metadata": {},
   "outputs": [],
   "source": [
    "best_alpha =10**-4"
   ]
  },
  {
   "cell_type": "markdown",
   "metadata": {},
   "source": [
    "### Testing on our Test data"
   ]
  },
  {
   "cell_type": "code",
   "execution_count": 51,
   "metadata": {},
   "outputs": [
    {
     "data": {
      "image/png": "[encoded data removed]",
      "text/plain": [
       "<Figure size 432x288 with 1 Axes>"
      ]
     },
     "metadata": {},
     "output_type": "display_data"
    }
   ],
   "source": [
    "model = SGDClassifier(penalty='l1',alpha=best_alpha)\n",
    "model.fit(BOW_Train,y_tr)\n",
    "model1 = CalibratedClassifierCV(model)\n",
    "model1.fit(BOW_Train,y_tr)\n",
    "train_pred  = model1.predict_proba(BOW_Train)[:,1]\n",
    "test_pred = model1.predict_proba(BOW_test)[:,1]\n",
    "train_fpr, train_tpr, thresholds = roc_curve(y_tr, train_pred)\n",
    "test_fpr, test_tpr, thresholds = roc_curve(y_test, test_pred)\n",
    "\n",
    "plt.plot(train_fpr, train_tpr, label=\"train AUC =\"+str(auc(train_fpr, train_tpr)))\n",
    "plt.plot(test_fpr, test_tpr, label=\"test AUC =\"+str(auc(test_fpr, test_tpr)))\n",
    "plt.plot([0.0,1.0],[0.0,1.0])\n",
    "plt.legend()\n",
    "plt.xlabel(\"alpha: hyperparameter\")\n",
    "plt.ylabel(\"AUC\")\n",
    "plt.title(\"ERROR PLOTS\")\n",
    "plt.show()\n"
   ]
  },
  {
   "cell_type": "markdown",
   "metadata": {},
   "source": [
    "### Confusion Matrix"
   ]
  },
  {
   "cell_type": "code",
   "execution_count": 52,
   "metadata": {},
   "outputs": [
    {
     "data": {
      "text/plain": [
       "<matplotlib.axes._subplots.AxesSubplot at 0x7f6cabc5def0>"
      ]
     },
     "execution_count": 52,
     "metadata": {},
     "output_type": "execute_result"
    },
    {
     "data": {
      "image/png": "[encoded data removed]",
      "text/plain": [
       "<Figure size 432x288 with 2 Axes>"
      ]
     },
     "metadata": {},
     "output_type": "display_data"
    }
   ],
   "source": [
    "ytrain = model.predict(BOW_Train)\n",
    "ytest = model.predict(BOW_test)\n",
    "ctrain = confusion_matrix(y_tr,ytrain)\n",
    "ctest = confusion_matrix(y_test,ytest)\n",
    "class_label=[\"No\",\"Yes\"]\n",
    "df = pd.DataFrame(ctest, index=class_label, columns=class_label)\n",
    "sns.heatmap(df, annot= True, fmt=\"d\", cmap=\"YlGnBu\")\n"
   ]
  },
  {
   "cell_type": "markdown",
   "metadata": {},
   "source": [
    "### Using L2 regularizer"
   ]
  },
  {
   "cell_type": "code",
   "execution_count": 53,
   "metadata": {},
   "outputs": [
    {
     "data": {
      "image/png": "[encoded data removed]",
      "text/plain": [
       "<Figure size 432x288 with 1 Axes>"
      ]
     },
     "metadata": {},
     "output_type": "display_data"
    }
   ],
   "source": [
    "lamda= [10**(-4),10**(-3),10**(-2),10**(-1),1,10,100,1000,10000]\n",
    "BOW_val_accuracy = []\n",
    "BOW_train_accuracy = []\n",
    "for i in lamda:\n",
    "    model = SGDClassifier(penalty='l2',alpha=i)\n",
    "    model.fit(BOW_Train,y_tr)\n",
    "    model1 = CalibratedClassifierCV(model)\n",
    "    model1.fit(BOW_Train,y_tr)\n",
    "    val_data  = model1.predict_proba(BOW_CV)[:,1]\n",
    "    train_data = model1.predict_proba(BOW_Train)[:,1]\n",
    "    BOW_val_accuracy.append(roc_auc_score(np.asarray(y_cv),np.asarray(val_data)))\n",
    "    BOW_train_accuracy.append(roc_auc_score(np.asarray(y_tr),np.asarray(train_data)))\n",
    "plt.plot(np.log(np.asarray(lamda)), BOW_train_accuracy, label='Train AUC')\n",
    "plt.plot(np.log(np.asarray(lamda)), BOW_val_accuracy, label='CV AUC')\n",
    "plt.legend()\n",
    "plt.xlabel(\"alpha: hyperparameter\")\n",
    "plt.ylabel(\"AUC\")\n",
    "plt.title(\"ERROR PLOTS\")\n",
    "plt.show()\n",
    "    "
   ]
  },
  {
   "cell_type": "code",
   "execution_count": 54,
   "metadata": {},
   "outputs": [],
   "source": [
    "bets_alpha=10**-4"
   ]
  },
  {
   "cell_type": "markdown",
   "metadata": {},
   "source": [
    "### Testing on test data"
   ]
  },
  {
   "cell_type": "code",
   "execution_count": 55,
   "metadata": {},
   "outputs": [
    {
     "data": {
      "image/png": "[encoded data removed]",
      "text/plain": [
       "<Figure size 432x288 with 1 Axes>"
      ]
     },
     "metadata": {},
     "output_type": "display_data"
    }
   ],
   "source": [
    "model = SGDClassifier(penalty='l2',alpha=best_alpha)\n",
    "model.fit(BOW_Train,y_tr)\n",
    "model1 = CalibratedClassifierCV(model)\n",
    "model1.fit(BOW_Train,y_tr)\n",
    "train_pred  = model1.predict_proba(BOW_Train)[:,1]\n",
    "test_pred = model1.predict_proba(BOW_test)[:,1]\n",
    "train_fpr, train_tpr, thresholds = roc_curve(y_tr, train_pred)\n",
    "test_fpr, test_tpr, thresholds = roc_curve(y_test, test_pred)\n",
    "\n",
    "plt.plot(train_fpr, train_tpr, label=\"train AUC =\"+str(auc(train_fpr, train_tpr)))\n",
    "plt.plot(test_fpr, test_tpr, label=\"test AUC =\"+str(auc(test_fpr, test_tpr)))\n",
    "plt.plot([0.0,1.0],[0.0,1.0])\n",
    "plt.legend()\n",
    "plt.xlabel(\"alpha: hyperparameter\")\n",
    "plt.ylabel(\"AUC\")\n",
    "plt.title(\"ERROR PLOTS\")\n",
    "plt.show()\n"
   ]
  },
  {
   "cell_type": "markdown",
   "metadata": {},
   "source": [
    "### Confusion Matrix"
   ]
  },
  {
   "cell_type": "code",
   "execution_count": 56,
   "metadata": {},
   "outputs": [
    {
     "data": {
      "text/plain": [
       "<matplotlib.axes._subplots.AxesSubplot at 0x7f6ca4b9f978>"
      ]
     },
     "execution_count": 56,
     "metadata": {},
     "output_type": "execute_result"
    },
    {
     "data": {
      "image/png": "[encoded data removed]",
      "text/plain": [
       "<Figure size 432x288 with 2 Axes>"
      ]
     },
     "metadata": {},
     "output_type": "display_data"
    }
   ],
   "source": [
    "ytrain = model.predict(BOW_Train)\n",
    "ytest = model.predict(BOW_test)\n",
    "ctrain = confusion_matrix(y_tr,ytrain)\n",
    "ctest = confusion_matrix(y_test,ytest)\n",
    "class_label=[\"No\",\"Yes\"]\n",
    "df = pd.DataFrame(ctest, index=class_label, columns=class_label)\n",
    "sns.heatmap(df, annot= True, fmt=\"d\", cmap=\"YlGnBu\")\n"
   ]
  },
  {
   "cell_type": "code",
   "execution_count": 57,
   "metadata": {},
   "outputs": [
    {
     "name": "stdout",
     "output_type": "stream",
     "text": [
      "[(1313, 1.9323092094522445), (8234, 1.8989935334272223), (29683, 1.8323621813771354), (2762, 1.7324151533020256), (3396, 1.6324681252269082), (19242, 1.5991524492018634), (10585, 1.5325210971517715), (45389, 1.465889745101707), (36841, 1.3992583930516296), (30447, 1.3992583930516262)]\n",
      " So the top 10 features of positive class are--\n",
      "feature name : amazing , value : 1.932309\n",
      "feature name : complaint , value : 1.898994\n",
      "feature name : perfect , value : 1.832362\n",
      "feature name : awesome , value : 1.732415\n",
      "feature name : beat , value : 1.632468\n",
      "feature name : hooked , value : 1.599152\n",
      "feature name : delicious , value : 1.532521\n",
      "feature name : worried , value : 1.465890\n",
      "feature name : skeptical , value : 1.399258\n",
      "feature name : pleasantly , value : 1.399258\n"
     ]
    }
   ],
   "source": [
    "a = model.coef_\n",
    "b= []\n",
    "for i in range(45884):\n",
    "    if a[0][i]>0:\n",
    "        b.append((i,a[0][i]))\n",
    "b =  sorted(b,key= lambda x: x[1],reverse=True)\n",
    "b = b[0:10]\n",
    "print(b)\n",
    "print(\" So the top 10 features of positive class are--\")\n",
    "for i in range(0,10):\n",
    "    print(\"feature name : %s , value : %f\"%(count_vect.get_feature_names()[b[i][0]],b[i][1]))"
   ]
  },
  {
   "cell_type": "code",
   "execution_count": 58,
   "metadata": {},
   "outputs": [
    {
     "name": "stdout",
     "output_type": "stream",
     "text": [
      "[(45403, -2.5986227299530262), (40649, -2.298781645727684), (11455, -2.132203265602483), (2768, -2.09888758957745), (19266, -2.0322562375273656), (11452, -1.9323092094522454), (34287, -1.6990994772769707), (10319, -1.6657838012519488), (5738, -1.565836773176828), (11588, -1.5658367731768263)]\n",
      " So the top 10 features of negative class are--\n",
      "feature name : worst , value : -2.598623\n",
      "feature name : terrible , value : -2.298782\n",
      "feature name : disappointment , value : -2.132203\n",
      "feature name : awful , value : -2.098888\n",
      "feature name : hopes , value : -2.032256\n",
      "feature name : disappointing , value : -1.932309\n",
      "feature name : rip , value : -1.699099\n",
      "feature name : deceptive , value : -1.665784\n",
      "feature name : cancelled , value : -1.565837\n",
      "feature name : disgusting , value : -1.565837\n"
     ]
    }
   ],
   "source": [
    "a = model.coef_\n",
    "b= []\n",
    "for i in range(45884):\n",
    "    if a[0][i]<0:\n",
    "        b.append((i,a[0][i]))\n",
    "b =  sorted(b,key= lambda x: x[1])\n",
    "b = b[0:10]\n",
    "print(b)\n",
    "print(\" So the top 10 features of negative class are--\")\n",
    "for i in range(0,10):\n",
    "    print(\"feature name : %s , value : %f\"%(count_vect.get_feature_names()[b[i][0]],b[i][1]))"
   ]
  },
  {
   "cell_type": "markdown",
   "metadata": {
    "colab_type": "text",
    "id": "Nc8SDqrfNAro"
   },
   "source": [
    "### [5.1.2] Applying Linear SVM on TFIDF,<font color='red'> SET 2</font>"
   ]
  },
  {
   "cell_type": "markdown",
   "metadata": {},
   "source": [
    "### Using l1 regularizer"
   ]
  },
  {
   "cell_type": "code",
   "execution_count": 59,
   "metadata": {
    "colab": {},
    "colab_type": "code",
    "id": "mTX6pM96NArp"
   },
   "outputs": [
    {
     "data": {
      "image/png": "[encoded data removed]",
      "text/plain": [
       "<Figure size 432x288 with 1 Axes>"
      ]
     },
     "metadata": {},
     "output_type": "display_data"
    }
   ],
   "source": [
    "# Please write all the code with proper documentation\n",
    "lamda= [10**(-4),10**(-3),10**(-2),10**(-1),1,10,100,1000,10000]\n",
    "TFIDF_val_accuracy = []\n",
    "TFIDF_train_accuracy = []\n",
    "for i in lamda:\n",
    "    model = SGDClassifier(penalty='l1',alpha=i)\n",
    "    model.fit(TFIDF_Train,y_tr)\n",
    "    model1 = CalibratedClassifierCV(model)\n",
    "    model1.fit(TFIDF_Train,y_tr)\n",
    "    val_data  = model1.predict_proba(TFIDF_Validation)[:,1]\n",
    "    train_data = model1.predict_proba(TFIDF_Train)[:,1]\n",
    "    TFIDF_val_accuracy.append(roc_auc_score(np.asarray(y_cv),np.asarray(val_data)))\n",
    "    TFIDF_train_accuracy.append(roc_auc_score(np.asarray(y_tr),np.asarray(train_data)))\n",
    "plt.plot(np.log(np.asarray(lamda)), TFIDF_train_accuracy, label='Train AUC')\n",
    "plt.plot(np.log(np.asarray(lamda)), TFIDF_val_accuracy, label='CV AUC')\n",
    "plt.legend()\n",
    "plt.xlabel(\"alpha: hyperparameter\")\n",
    "plt.ylabel(\"AUC\")\n",
    "plt.title(\"ERROR PLOTS\")\n",
    "plt.show()\n",
    "    "
   ]
  },
  {
   "cell_type": "code",
   "execution_count": 60,
   "metadata": {},
   "outputs": [],
   "source": [
    "best_lambda =10**-4"
   ]
  },
  {
   "cell_type": "markdown",
   "metadata": {},
   "source": [
    "### Testing on test data"
   ]
  },
  {
   "cell_type": "code",
   "execution_count": 61,
   "metadata": {},
   "outputs": [
    {
     "data": {
      "image/png": "[encoded data removed]",
      "text/plain": [
       "<Figure size 432x288 with 1 Axes>"
      ]
     },
     "metadata": {},
     "output_type": "display_data"
    }
   ],
   "source": [
    "model = SGDClassifier(penalty='l1',alpha=best_alpha)\n",
    "model.fit(TFIDF_Train,y_tr)\n",
    "model1 = CalibratedClassifierCV(model)\n",
    "model1.fit(TFIDF_Train,y_tr)\n",
    "train_pred  = model1.predict_proba(TFIDF_Train)[:,1]\n",
    "test_pred = model1.predict_proba(TFIDF_Test)[:,1]\n",
    "train_fpr, train_tpr, thresholds = roc_curve(y_tr, train_pred)\n",
    "test_fpr, test_tpr, thresholds = roc_curve(y_test, test_pred)\n",
    "\n",
    "plt.plot(train_fpr, train_tpr, label=\"train AUC =\"+str(auc(train_fpr, train_tpr)))\n",
    "plt.plot(test_fpr, test_tpr, label=\"test AUC =\"+str(auc(test_fpr, test_tpr)))\n",
    "plt.plot([0.0,1.0],[0.0,1.0])\n",
    "plt.legend()\n",
    "plt.xlabel(\"alpha: hyperparameter\")\n",
    "plt.ylabel(\"AUC\")\n",
    "plt.title(\"ERROR PLOTS\")\n",
    "plt.show()\n"
   ]
  },
  {
   "cell_type": "markdown",
   "metadata": {},
   "source": [
    "### Confusion Matrix"
   ]
  },
  {
   "cell_type": "code",
   "execution_count": 63,
   "metadata": {},
   "outputs": [
    {
     "data": {
      "text/plain": [
       "<matplotlib.axes._subplots.AxesSubplot at 0x7f6ca4251dd8>"
      ]
     },
     "execution_count": 63,
     "metadata": {},
     "output_type": "execute_result"
    },
    {
     "data": {
      "image/png": "[encoded data removed]",
      "text/plain": [
       "<Figure size 432x288 with 2 Axes>"
      ]
     },
     "metadata": {},
     "output_type": "display_data"
    }
   ],
   "source": [
    "ytrain = model.predict(TFIDF_Train)\n",
    "ytest = model.predict(TFIDF_Test)\n",
    "ctrain = confusion_matrix(y_tr,ytrain)\n",
    "ctest = confusion_matrix(y_test,ytest)\n",
    "class_label=[\"No\",\"Yes\"]\n",
    "df = pd.DataFrame(ctest, index=class_label, columns=class_label)\n",
    "sns.heatmap(df, annot= True, fmt=\"d\", cmap=\"YlGnBu\")\n"
   ]
  },
  {
   "cell_type": "markdown",
   "metadata": {},
   "source": [
    "### Using l2 regularizer"
   ]
  },
  {
   "cell_type": "code",
   "execution_count": 64,
   "metadata": {},
   "outputs": [
    {
     "data": {
      "image/png": "[encoded data removed]",
      "text/plain": [
       "<Figure size 432x288 with 1 Axes>"
      ]
     },
     "metadata": {},
     "output_type": "display_data"
    }
   ],
   "source": [
    "lamda= [10**(-4),10**(-3),10**(-2),10**(-1),1,10,100,1000,10000]\n",
    "TFIDF_val_accuracy = []\n",
    "TFIDF_train_accuracy = []\n",
    "for i in lamda:\n",
    "    model = SGDClassifier(penalty='l2',alpha=i)\n",
    "    model.fit(TFIDF_Train,y_tr)\n",
    "    model1 = CalibratedClassifierCV(model)\n",
    "    model1.fit(TFIDF_Train,y_tr)\n",
    "    val_data  = model1.predict_proba(TFIDF_Validation)[:,1]\n",
    "    train_data = model1.predict_proba(TFIDF_Train)[:,1]\n",
    "    TFIDF_val_accuracy.append(roc_auc_score(np.asarray(y_cv),np.asarray(val_data)))\n",
    "    TFIDF_train_accuracy.append(roc_auc_score(np.asarray(y_tr),np.asarray(train_data)))\n",
    "plt.plot(np.log(np.asarray(lamda)), TFIDF_train_accuracy, label='Train AUC')\n",
    "plt.plot(np.log(np.asarray(lamda)), TFIDF_val_accuracy, label='CV AUC')\n",
    "plt.legend()\n",
    "plt.xlabel(\"alpha: hyperparameter\")\n",
    "plt.ylabel(\"AUC\")\n",
    "plt.title(\"ERROR PLOTS\")\n",
    "plt.show()\n",
    "    "
   ]
  },
  {
   "cell_type": "code",
   "execution_count": 65,
   "metadata": {},
   "outputs": [],
   "source": [
    "bets_alpha = 10**-4"
   ]
  },
  {
   "cell_type": "code",
   "execution_count": 66,
   "metadata": {},
   "outputs": [
    {
     "data": {
      "image/png": "[encoded data removed]",
      "text/plain": [
       "<Figure size 432x288 with 1 Axes>"
      ]
     },
     "metadata": {},
     "output_type": "display_data"
    }
   ],
   "source": [
    "model = SGDClassifier(penalty='l2',alpha=best_alpha)\n",
    "model.fit(TFIDF_Train,y_tr)\n",
    "model1 = CalibratedClassifierCV(model)\n",
    "model1.fit(TFIDF_Train,y_tr)\n",
    "train_pred  = model1.predict_proba(TFIDF_Train)[:,1]\n",
    "test_pred = model1.predict_proba(TFIDF_Test)[:,1]\n",
    "train_fpr, train_tpr, thresholds = roc_curve(y_tr, train_pred)\n",
    "test_fpr, test_tpr, thresholds = roc_curve(y_test, test_pred)\n",
    "\n",
    "plt.plot(train_fpr, train_tpr, label=\"train AUC =\"+str(auc(train_fpr, train_tpr)))\n",
    "plt.plot(test_fpr, test_tpr, label=\"test AUC =\"+str(auc(test_fpr, test_tpr)))\n",
    "plt.plot([0.0,1.0],[0.0,1.0])\n",
    "plt.legend()\n",
    "plt.xlabel(\"alpha: hyperparameter\")\n",
    "plt.ylabel(\"AUC\")\n",
    "plt.title(\"ERROR PLOTS\")\n",
    "plt.show()\n"
   ]
  },
  {
   "cell_type": "code",
   "execution_count": 67,
   "metadata": {},
   "outputs": [
    {
     "data": {
      "text/plain": [
       "<matplotlib.axes._subplots.AxesSubplot at 0x7f6ca5537e80>"
      ]
     },
     "execution_count": 67,
     "metadata": {},
     "output_type": "execute_result"
    },
    {
     "data": {
      "image/png": "[encoded data removed]",
      "text/plain": [
       "<Figure size 432x288 with 2 Axes>"
      ]
     },
     "metadata": {},
     "output_type": "display_data"
    }
   ],
   "source": [
    "ytrain = model.predict(TFIDF_Train)\n",
    "ytest = model.predict(TFIDF_Test)\n",
    "ctrain = confusion_matrix(y_tr,ytrain)\n",
    "ctest = confusion_matrix(y_test,ytest)\n",
    "class_label=[\"No\",\"Yes\"]\n",
    "df = pd.DataFrame(ctest, index=class_label, columns=class_label)\n",
    "sns.heatmap(df, annot= True, fmt=\"d\", cmap=\"YlGnBu\")\n"
   ]
  },
  {
   "cell_type": "code",
   "execution_count": 71,
   "metadata": {},
   "outputs": [
    {
     "name": "stdout",
     "output_type": "stream",
     "text": [
      "[(13588, 3.5446829050902986), (2367, 2.758966388387943), (12993, 2.703278753433252), (7395, 2.6472523048677394), (20759, 2.5433128834606795), (23104, 2.220487528595241), (18000, 2.0879801537429086), (17734, 1.9805242208092437), (9661, 1.90456512452096), (34696, 1.8059510961366434)]\n",
      " So the top 10 features of positive class are--\n",
      "feature name : great , value : 3.544683\n",
      "feature name : best , value : 2.758966\n",
      "feature name : good , value : 2.703279\n",
      "feature name : delicious , value : 2.647252\n",
      "feature name : not disappointed , value : 2.543313\n",
      "feature name : perfect , value : 2.220488\n",
      "feature name : loves , value : 2.087980\n",
      "feature name : love , value : 1.980524\n",
      "feature name : excellent , value : 1.904565\n",
      "feature name : wonderful , value : 1.805951\n"
     ]
    }
   ],
   "source": [
    "a = model.coef_\n",
    "b= []\n",
    "for i in range(35256):\n",
    "    if a[0][i]>0:\n",
    "        b.append((i,a[0][i]))\n",
    "b =  sorted(b,key= lambda x: x[1],reverse=True)\n",
    "b = b[0:10]\n",
    "print(b)\n",
    "print(\" So the top 10 features of positive class are--\")\n",
    "for i in range(0,10):\n",
    "    print(\"feature name : %s , value : %f\"%(tf_idf_vect.get_feature_names()[b[i][0]],b[i][1]))"
   ]
  },
  {
   "cell_type": "code",
   "execution_count": 73,
   "metadata": {},
   "outputs": [
    {
     "name": "stdout",
     "output_type": "stream",
     "text": [
      "[(7866, -4.180740160259876), (34852, -3.910224752783338), (1704, -3.3371022625768627), (21328, -3.215040668030035), (31225, -3.088523489351795), (14789, -2.9744581780646833), (20662, -2.906118649027687), (7885, -2.9043097374472415), (20580, -2.8109069193731697), (20874, -2.7307180771932766)]\n",
      " So the top 10 features of positive class are--\n",
      "feature name : disappointed , value : -4.180740\n",
      "feature name : worst , value : -3.910225\n",
      "feature name : awful , value : -3.337102\n",
      "feature name : not worth , value : -3.215041\n",
      "feature name : terrible , value : -3.088523\n",
      "feature name : horrible , value : -2.974458\n",
      "feature name : not buy , value : -2.906119\n",
      "feature name : disappointing , value : -2.904310\n",
      "feature name : not , value : -2.810907\n",
      "feature name : not good , value : -2.730718\n"
     ]
    }
   ],
   "source": [
    "a = model.coef_\n",
    "b= []\n",
    "for i in range(35256):\n",
    "    if a[0][i]<0:\n",
    "        b.append((i,a[0][i]))\n",
    "b =  sorted(b,key= lambda x: x[1])\n",
    "b = b[0:10]\n",
    "print(b)\n",
    "print(\" So the top 10 features of positive class are--\")\n",
    "for i in range(0,10):\n",
    "    print(\"feature name : %s , value : %f\"%(tf_idf_vect.get_feature_names()[b[i][0]],b[i][1]))"
   ]
  },
  {
   "cell_type": "markdown",
   "metadata": {
    "colab_type": "text",
    "id": "4EUGVsM4NAr7"
   },
   "source": [
    "### [5.1.3]  Applying Linear SVM on AVG W2V,<font color='red'> SET 3</font>"
   ]
  },
  {
   "cell_type": "markdown",
   "metadata": {},
   "source": [
    "### Using l1 regularizer"
   ]
  },
  {
   "cell_type": "code",
   "execution_count": 80,
   "metadata": {
    "colab": {},
    "colab_type": "code",
    "id": "_FLFAYSdNAr8"
   },
   "outputs": [
    {
     "data": {
      "image/png": "[encoded data removed]",
      "text/plain": [
       "<Figure size 432x288 with 1 Axes>"
      ]
     },
     "metadata": {},
     "output_type": "display_data"
    }
   ],
   "source": [
    "# Please write all the code with proper documentation\n",
    "lamda= [10**(-4),10**(-3),10**(-2),10**(-1),1,10,100,1000,10000]\n",
    "w2v_val_accuracy = []\n",
    "w2v_train_accuracy = []\n",
    "for i in lamda:\n",
    "    model = SGDClassifier(penalty='l1',alpha=i)\n",
    "    model.fit(sent_vectors,y_tr)\n",
    "    model1 = CalibratedClassifierCV(model)\n",
    "    model1.fit(sent_vectors,y_tr)\n",
    "    val_data  = model1.predict_proba(sent_vectors_cv)[:,1]\n",
    "    train_data = model1.predict_proba(sent_vectors)[:,1]\n",
    "    w2v_val_accuracy.append(roc_auc_score(np.asarray(y_cv),np.asarray(val_data)))\n",
    "    w2v_train_accuracy.append(roc_auc_score(np.asarray(y_tr),np.asarray(train_data)))\n",
    "plt.plot(np.log(np.asarray(lamda)), w2v_train_accuracy, label='Train AUC')\n",
    "plt.plot(np.log(np.asarray(lamda)), w2v_val_accuracy, label='CV AUC')\n",
    "plt.legend()\n",
    "plt.xlabel(\"alpha: hyperparameter\")\n",
    "plt.ylabel(\"AUC\")\n",
    "plt.title(\"ERROR PLOTS\")\n",
    "plt.show()\n",
    "    "
   ]
  },
  {
   "cell_type": "code",
   "execution_count": 81,
   "metadata": {},
   "outputs": [],
   "source": [
    "best_alpha = 10**-4"
   ]
  },
  {
   "cell_type": "markdown",
   "metadata": {},
   "source": [
    "### Testing on our test data"
   ]
  },
  {
   "cell_type": "code",
   "execution_count": 82,
   "metadata": {},
   "outputs": [
    {
     "data": {
      "image/png": "[encoded data removed]",
      "text/plain": [
       "<Figure size 432x288 with 1 Axes>"
      ]
     },
     "metadata": {},
     "output_type": "display_data"
    }
   ],
   "source": [
    "model = SGDClassifier(penalty='l1',alpha=best_alpha)\n",
    "model.fit(sent_vectors,y_tr)\n",
    "model1 = CalibratedClassifierCV(model)\n",
    "model1.fit(sent_vectors,y_tr)\n",
    "train_pred  = model1.predict_proba(sent_vectors)[:,1]\n",
    "test_pred = model1.predict_proba(sent_vectors_test)[:,1]\n",
    "train_fpr, train_tpr, thresholds = roc_curve(y_tr, train_pred)\n",
    "test_fpr, test_tpr, thresholds = roc_curve(y_test, test_pred)\n",
    "\n",
    "plt.plot(train_fpr, train_tpr, label=\"train AUC =\"+str(auc(train_fpr, train_tpr)))\n",
    "plt.plot(test_fpr, test_tpr, label=\"test AUC =\"+str(auc(test_fpr, test_tpr)))\n",
    "plt.plot([0.0,1.0],[0.0,1.0])\n",
    "plt.legend()\n",
    "plt.xlabel(\"alpha: hyperparameter\")\n",
    "plt.ylabel(\"AUC\")\n",
    "plt.title(\"ERROR PLOTS\")\n",
    "plt.show()"
   ]
  },
  {
   "cell_type": "markdown",
   "metadata": {},
   "source": [
    "### Confusion Matrix"
   ]
  },
  {
   "cell_type": "code",
   "execution_count": 84,
   "metadata": {},
   "outputs": [
    {
     "data": {
      "text/plain": [
       "<matplotlib.axes._subplots.AxesSubplot at 0x7f6c86d7fa58>"
      ]
     },
     "execution_count": 84,
     "metadata": {},
     "output_type": "execute_result"
    },
    {
     "data": {
      "image/png": "[encoded data removed]",
      "text/plain": [
       "<Figure size 432x288 with 2 Axes>"
      ]
     },
     "metadata": {},
     "output_type": "display_data"
    }
   ],
   "source": [
    "ytrain = model.predict(sent_vectors)\n",
    "ytest = model.predict(sent_vectors_test)\n",
    "ctrain = confusion_matrix(y_tr,ytrain)\n",
    "ctest = confusion_matrix(y_test,ytest)\n",
    "class_label=[\"No\",\"Yes\"]\n",
    "df = pd.DataFrame(ctest, index=class_label, columns=class_label)\n",
    "sns.heatmap(df, annot= True, fmt=\"d\", cmap=\"YlGnBu\")\n"
   ]
  },
  {
   "cell_type": "markdown",
   "metadata": {},
   "source": [
    "### Using l2 regularizer"
   ]
  },
  {
   "cell_type": "code",
   "execution_count": 85,
   "metadata": {},
   "outputs": [
    {
     "data": {
      "image/png": "[encoded data removed]",
      "text/plain": [
       "<Figure size 432x288 with 1 Axes>"
      ]
     },
     "metadata": {},
     "output_type": "display_data"
    }
   ],
   "source": [
    "lamda= [10**(-4),10**(-3),10**(-2),10**(-1),1,10,100,1000,10000]\n",
    "w2v_val_accuracy = []\n",
    "w2v_train_accuracy = []\n",
    "for i in lamda:\n",
    "    model = SGDClassifier(penalty='l2',alpha=i)\n",
    "    model.fit(sent_vectors,y_tr)\n",
    "    model1 = CalibratedClassifierCV(model)\n",
    "    model1.fit(sent_vectors,y_tr)\n",
    "    val_data  = model1.predict_proba(sent_vectors_cv)[:,1]\n",
    "    train_data = model1.predict_proba(sent_vectors)[:,1]\n",
    "    w2v_val_accuracy.append(roc_auc_score(np.asarray(y_cv),np.asarray(val_data)))\n",
    "    w2v_train_accuracy.append(roc_auc_score(np.asarray(y_tr),np.asarray(train_data)))\n",
    "plt.plot(np.log(np.asarray(lamda)), w2v_train_accuracy, label='Train AUC')\n",
    "plt.plot(np.log(np.asarray(lamda)), w2v_val_accuracy, label='CV AUC')\n",
    "plt.legend()\n",
    "plt.xlabel(\"alpha: hyperparameter\")\n",
    "plt.ylabel(\"AUC\")\n",
    "plt.title(\"ERROR PLOTS\")\n",
    "plt.show()\n",
    "    "
   ]
  },
  {
   "cell_type": "code",
   "execution_count": 86,
   "metadata": {},
   "outputs": [],
   "source": [
    "best_alpha = 10**-4"
   ]
  },
  {
   "cell_type": "code",
   "execution_count": 87,
   "metadata": {},
   "outputs": [
    {
     "data": {
      "image/png": "[encoded data removed]",
      "text/plain": [
       "<Figure size 432x288 with 1 Axes>"
      ]
     },
     "metadata": {},
     "output_type": "display_data"
    }
   ],
   "source": [
    "model = SGDClassifier(penalty='l2',alpha=best_alpha)\n",
    "model.fit(sent_vectors,y_tr)\n",
    "model1 = CalibratedClassifierCV(model)\n",
    "model1.fit(sent_vectors,y_tr)\n",
    "train_pred  = model1.predict_proba(sent_vectors)[:,1]\n",
    "test_pred = model1.predict_proba(sent_vectors_test)[:,1]\n",
    "train_fpr, train_tpr, thresholds = roc_curve(y_tr, train_pred)\n",
    "test_fpr, test_tpr, thresholds = roc_curve(y_test, test_pred)\n",
    "\n",
    "plt.plot(train_fpr, train_tpr, label=\"train AUC =\"+str(auc(train_fpr, train_tpr)))\n",
    "plt.plot(test_fpr, test_tpr, label=\"test AUC =\"+str(auc(test_fpr, test_tpr)))\n",
    "plt.plot([0.0,1.0],[0.0,1.0])\n",
    "plt.legend()\n",
    "plt.xlabel(\"alpha: hyperparameter\")\n",
    "plt.ylabel(\"AUC\")\n",
    "plt.title(\"ERROR PLOTS\")\n",
    "plt.show()"
   ]
  },
  {
   "cell_type": "markdown",
   "metadata": {},
   "source": [
    "### Confusion Matrix"
   ]
  },
  {
   "cell_type": "code",
   "execution_count": 88,
   "metadata": {},
   "outputs": [
    {
     "data": {
      "text/plain": [
       "<matplotlib.axes._subplots.AxesSubplot at 0x7f6c870094a8>"
      ]
     },
     "execution_count": 88,
     "metadata": {},
     "output_type": "execute_result"
    },
    {
     "data": {
      "image/png": "[encoded data removed]",
      "text/plain": [
       "<Figure size 432x288 with 2 Axes>"
      ]
     },
     "metadata": {},
     "output_type": "display_data"
    }
   ],
   "source": [
    "ytrain = model.predict(sent_vectors)\n",
    "ytest = model.predict(sent_vectors_test)\n",
    "ctrain = confusion_matrix(y_tr,ytrain)\n",
    "ctest = confusion_matrix(y_test,ytest)\n",
    "class_label=[\"No\",\"Yes\"]\n",
    "df = pd.DataFrame(ctest, index=class_label, columns=class_label)\n",
    "sns.heatmap(df, annot= True, fmt=\"d\", cmap=\"YlGnBu\")\n"
   ]
  },
  {
   "cell_type": "markdown",
   "metadata": {
    "colab_type": "text",
    "id": "lOqYV1oKNAsF"
   },
   "source": [
    "### [5.1.4]  Applying Linear SVM on TFIDF W2V,<font color='red'> SET 4</font>"
   ]
  },
  {
   "cell_type": "markdown",
   "metadata": {},
   "source": [
    "### Using l1 regularizer"
   ]
  },
  {
   "cell_type": "code",
   "execution_count": 94,
   "metadata": {
    "colab": {},
    "colab_type": "code",
    "id": "6sRosif5NAsG"
   },
   "outputs": [
    {
     "data": {
      "image/png": "[encoded data removed]",
      "text/plain": [
       "<Figure size 432x288 with 1 Axes>"
      ]
     },
     "metadata": {},
     "output_type": "display_data"
    }
   ],
   "source": [
    "# Please write all the code with proper documentation\n",
    "lamda= [10**(-4),10**(-3),10**(-2),10**(-1),1,10,100,1000,10000]\n",
    "tfidf_w2v_val_accuracy = []\n",
    "tfidf_w2v_train_accuracy = []\n",
    "for i in lamda:\n",
    "    model = SGDClassifier(penalty='l1',alpha=i)\n",
    "    model.fit(tfidf_sent_vectors,y_tr)\n",
    "    model1 = CalibratedClassifierCV(model)\n",
    "    model1.fit(tfidf_sent_vectors,y_tr)\n",
    "    val_data  = model1.predict_proba(tfidf_sent_vectors_cv)[:,1]\n",
    "    train_data = model1.predict_proba(tfidf_sent_vectors)[:,1]\n",
    "    tfidf_w2v_val_accuracy.append(roc_auc_score(np.asarray(y_cv),np.asarray(val_data)))\n",
    "    tfidf_w2v_train_accuracy.append(roc_auc_score(np.asarray(y_tr),np.asarray(train_data)))\n",
    "plt.plot(np.log(np.asarray(lamda)), tfidf_w2v_train_accuracy, label='Train AUC')\n",
    "plt.plot(np.log(np.asarray(lamda)), tfidf_w2v_val_accuracy, label='CV AUC')\n",
    "plt.legend()\n",
    "plt.xlabel(\"alpha: hyperparameter\")\n",
    "plt.ylabel(\"AUC\")\n",
    "plt.title(\"ERROR PLOTS\")\n",
    "plt.show()\n",
    "    "
   ]
  },
  {
   "cell_type": "code",
   "execution_count": 95,
   "metadata": {},
   "outputs": [],
   "source": [
    "best_alpha = 10**-4"
   ]
  },
  {
   "cell_type": "markdown",
   "metadata": {},
   "source": [
    "### Testing on our test data"
   ]
  },
  {
   "cell_type": "code",
   "execution_count": 98,
   "metadata": {},
   "outputs": [
    {
     "data": {
      "image/png": "[encoded data removed]",
      "text/plain": [
       "<Figure size 432x288 with 1 Axes>"
      ]
     },
     "metadata": {},
     "output_type": "display_data"
    }
   ],
   "source": [
    "model = SGDClassifier(penalty='l1',alpha=best_alpha)\n",
    "model.fit(tfidf_sent_vectors,y_tr)\n",
    "model1 = CalibratedClassifierCV(model)\n",
    "model1.fit(tfidf_sent_vectors,y_tr)\n",
    "train_pred  = model1.predict_proba(tfidf_sent_vectors)[:,1]\n",
    "test_pred = model1.predict_proba(tfidf_sent_vectors_test)[:,1]\n",
    "train_fpr, train_tpr, thresholds = roc_curve(y_tr, train_pred)\n",
    "test_fpr, test_tpr, thresholds = roc_curve(y_test, test_pred)\n",
    "\n",
    "plt.plot(train_fpr, train_tpr, label=\"train AUC =\"+str(auc(train_fpr, train_tpr)))\n",
    "plt.plot(test_fpr, test_tpr, label=\"test AUC =\"+str(auc(test_fpr, test_tpr)))\n",
    "plt.plot([0.0,1.0],[0.0,1.0])\n",
    "plt.legend()\n",
    "plt.xlabel(\"alpha: hyperparameter\")\n",
    "plt.ylabel(\"AUC\")\n",
    "plt.title(\"ERROR PLOTS\")\n",
    "plt.show()"
   ]
  },
  {
   "cell_type": "markdown",
   "metadata": {},
   "source": [
    "### Confusion Matrix"
   ]
  },
  {
   "cell_type": "code",
   "execution_count": 99,
   "metadata": {},
   "outputs": [
    {
     "data": {
      "text/plain": [
       "<matplotlib.axes._subplots.AxesSubplot at 0x7f6c861e4f28>"
      ]
     },
     "execution_count": 99,
     "metadata": {},
     "output_type": "execute_result"
    },
    {
     "data": {
      "image/png": "[encoded data removed]",
      "text/plain": [
       "<Figure size 432x288 with 2 Axes>"
      ]
     },
     "metadata": {},
     "output_type": "display_data"
    }
   ],
   "source": [
    "ytrain = model.predict(tfidf_sent_vectors)\n",
    "ytest = model.predict(tfidf_sent_vectors_test)\n",
    "ctrain = confusion_matrix(y_tr,ytrain)\n",
    "ctest = confusion_matrix(y_test,ytest)\n",
    "class_label=[\"No\",\"Yes\"]\n",
    "df = pd.DataFrame(ctest, index=class_label, columns=class_label)\n",
    "sns.heatmap(df, annot= True, fmt=\"d\", cmap=\"YlGnBu\")\n"
   ]
  },
  {
   "cell_type": "markdown",
   "metadata": {},
   "source": [
    "## using l2 regularizer"
   ]
  },
  {
   "cell_type": "code",
   "execution_count": 100,
   "metadata": {},
   "outputs": [
    {
     "data": {
      "image/png": "[encoded data removed]",
      "text/plain": [
       "<Figure size 432x288 with 1 Axes>"
      ]
     },
     "metadata": {},
     "output_type": "display_data"
    }
   ],
   "source": [
    "lamda= [10**(-4),10**(-3),10**(-2),10**(-1),1,10,100,1000,10000]\n",
    "tfidf_w2v_val_accuracy = []\n",
    "tfidf_w2v_train_accuracy = []\n",
    "for i in lamda:\n",
    "    model = SGDClassifier(penalty='l2',alpha=i)\n",
    "    model.fit(tfidf_sent_vectors,y_tr)\n",
    "    model1 = CalibratedClassifierCV(model)\n",
    "    model1.fit(tfidf_sent_vectors,y_tr)\n",
    "    val_data  = model1.predict_proba(tfidf_sent_vectors_cv)[:,1]\n",
    "    train_data = model1.predict_proba(tfidf_sent_vectors)[:,1]\n",
    "    tfidf_w2v_val_accuracy.append(roc_auc_score(np.asarray(y_cv),np.asarray(val_data)))\n",
    "    tfidf_w2v_train_accuracy.append(roc_auc_score(np.asarray(y_tr),np.asarray(train_data)))\n",
    "plt.plot(np.log(np.asarray(lamda)), tfidf_w2v_train_accuracy, label='Train AUC')\n",
    "plt.plot(np.log(np.asarray(lamda)), tfidf_w2v_val_accuracy, label='CV AUC')\n",
    "plt.legend()\n",
    "plt.xlabel(\"alpha: hyperparameter\")\n",
    "plt.ylabel(\"AUC\")\n",
    "plt.title(\"ERROR PLOTS\")\n",
    "plt.show()\n",
    "    "
   ]
  },
  {
   "cell_type": "code",
   "execution_count": 101,
   "metadata": {},
   "outputs": [],
   "source": [
    "best_alpha =10**-4"
   ]
  },
  {
   "cell_type": "markdown",
   "metadata": {},
   "source": [
    "### Testing on our test data"
   ]
  },
  {
   "cell_type": "code",
   "execution_count": 102,
   "metadata": {},
   "outputs": [
    {
     "data": {
      "image/png": "[encoded data removed]",
      "text/plain": [
       "<Figure size 432x288 with 1 Axes>"
      ]
     },
     "metadata": {},
     "output_type": "display_data"
    }
   ],
   "source": [
    "model = SGDClassifier(penalty='l2',alpha=best_alpha)\n",
    "model.fit(tfidf_sent_vectors,y_tr)\n",
    "model1 = CalibratedClassifierCV(model)\n",
    "model1.fit(tfidf_sent_vectors,y_tr)\n",
    "train_pred  = model1.predict_proba(tfidf_sent_vectors)[:,1]\n",
    "test_pred = model1.predict_proba(tfidf_sent_vectors_test)[:,1]\n",
    "train_fpr, train_tpr, thresholds = roc_curve(y_tr, train_pred)\n",
    "test_fpr, test_tpr, thresholds = roc_curve(y_test, test_pred)\n",
    "\n",
    "plt.plot(train_fpr, train_tpr, label=\"train AUC =\"+str(auc(train_fpr, train_tpr)))\n",
    "plt.plot(test_fpr, test_tpr, label=\"test AUC =\"+str(auc(test_fpr, test_tpr)))\n",
    "plt.plot([0.0,1.0],[0.0,1.0])\n",
    "plt.legend()\n",
    "plt.xlabel(\"alpha: hyperparameter\")\n",
    "plt.ylabel(\"AUC\")\n",
    "plt.title(\"ERROR PLOTS\")\n",
    "plt.show()"
   ]
  },
  {
   "cell_type": "markdown",
   "metadata": {},
   "source": [
    "### Confusion Matrix"
   ]
  },
  {
   "cell_type": "code",
   "execution_count": 103,
   "metadata": {},
   "outputs": [
    {
     "data": {
      "text/plain": [
       "<matplotlib.axes._subplots.AxesSubplot at 0x7f6c86152128>"
      ]
     },
     "execution_count": 103,
     "metadata": {},
     "output_type": "execute_result"
    },
    {
     "data": {
      "image/png": "[encoded data removed]",
      "text/plain": [
       "<Figure size 432x288 with 2 Axes>"
      ]
     },
     "metadata": {},
     "output_type": "display_data"
    }
   ],
   "source": [
    "ytrain = model.predict(tfidf_sent_vectors)\n",
    "ytest = model.predict(tfidf_sent_vectors_test)\n",
    "ctrain = confusion_matrix(y_tr,ytrain)\n",
    "ctest = confusion_matrix(y_test,ytest)\n",
    "class_label=[\"No\",\"Yes\"]\n",
    "df = pd.DataFrame(ctest, index=class_label, columns=class_label)\n",
    "sns.heatmap(df, annot= True, fmt=\"d\", cmap=\"YlGnBu\")\n"
   ]
  },
  {
   "cell_type": "markdown",
   "metadata": {
    "colab_type": "text",
    "id": "a8ytWOd7NAsI"
   },
   "source": [
    "## [5.2] RBF SVM"
   ]
  },
  {
   "cell_type": "code",
   "execution_count": 25,
   "metadata": {},
   "outputs": [
    {
     "name": "stdout",
     "output_type": "stream",
     "text": [
      "(32000,) (8000,) (24000,) (8000,) (8000,)\n"
     ]
    }
   ],
   "source": [
    "my_data = preprocessed_reviews[0:40000]\n",
    "X_1, X_test, y_1, y_test = cross_validation.train_test_split(my_data,final['Score'][0:40000], test_size=0.2, random_state=0)\n",
    "X_tr, X_cv, y_tr, y_cv = cross_validation.train_test_split(X_1, y_1, test_size=0.25)\n",
    "print(np.asarray(X_1).shape,np.asarray(X_test).shape,np.asarray(X_tr).shape,np.asarray(X_test).shape,np.asarray(X_cv).shape)\n"
   ]
  },
  {
   "cell_type": "code",
   "execution_count": 36,
   "metadata": {},
   "outputs": [
    {
     "name": "stdout",
     "output_type": "stream",
     "text": [
      "some feature names  ['able', 'absolutely', 'actually', 'add', 'added', 'ago', 'almost', 'along', 'already', 'also']\n",
      "==================================================\n",
      "the type of count vectorizer  <class 'scipy.sparse.csr.csr_matrix'>\n",
      "the shape of out text BOW vectorizer  (24000, 500)\n",
      "the number of unique words  500\n"
     ]
    }
   ],
   "source": [
    "_count_vect = CountVectorizer(min_df=10, max_features=500) #in scikit-learn\n",
    "_BOW_Train = _count_vect.fit_transform(X_tr)\n",
    "_BOW_test = _count_vect.transform(X_test)\n",
    "_BOW_CV = _count_vect.transform(X_cv)\n",
    "print(\"some feature names \", _count_vect.get_feature_names()[:10])\n",
    "print('='*50)\n",
    "print(\"the type of count vectorizer \",type(_BOW_Train))\n",
    "print(\"the shape of out text BOW vectorizer \",_BOW_Train.get_shape())\n",
    "print(\"the number of unique words \", _BOW_Train.get_shape()[1])"
   ]
  },
  {
   "cell_type": "code",
   "execution_count": 37,
   "metadata": {},
   "outputs": [
    {
     "name": "stdout",
     "output_type": "stream",
     "text": [
      "the type of count vectorizer  <class 'scipy.sparse.csr.csr_matrix'>\n",
      "the shape of out text TFIDF vectorizer  (24000, 500)\n",
      "the number of unique words including both unigrams and bigrams  500\n"
     ]
    }
   ],
   "source": [
    "_tf_idf_vect = TfidfVectorizer(ngram_range=(1,2), min_df=10,max_features=500)\n",
    "_TFIDF_Train = _tf_idf_vect.fit_transform(X_tr)\n",
    "_TFIDF_Test = _tf_idf_vect.transform(X_test)\n",
    "_TFIDF_Validation = _tf_idf_vect.transform(X_cv)\n",
    "print(\"the type of count vectorizer \",type(_TFIDF_Train))\n",
    "print(\"the shape of out text TFIDF vectorizer \",_TFIDF_Train.get_shape())\n",
    "print(\"the number of unique words including both unigrams and bigrams \", _TFIDF_Train.get_shape()[1])"
   ]
  },
  {
   "cell_type": "markdown",
   "metadata": {
    "colab_type": "text",
    "id": "ErszOa9eNAsM"
   },
   "source": [
    "### [5.2.1] Applying RBF SVM on BOW,<font color='red'> SET 1</font>"
   ]
  },
  {
   "cell_type": "code",
   "execution_count": 112,
   "metadata": {
    "colab": {},
    "colab_type": "code",
    "id": "owx07e6QNAsU"
   },
   "outputs": [
    {
     "data": {
      "image/png": "[encoded data removed]",
      "text/plain": [
       "<Figure size 432x288 with 1 Axes>"
      ]
     },
     "metadata": {},
     "output_type": "display_data"
    }
   ],
   "source": [
    "# Please write all the code with proper documentation   \n",
    "lamda= [10**(-4),10**(-3),10**(-2),10**(-1),1,10,100,1000,10000]\n",
    "BOW_train_accuracy = []\n",
    "BOW_val_accuracy = []\n",
    "for i in lamda:\n",
    "    model = SVC(C=i)\n",
    "    model.fit(_BOW_Train,y_tr)\n",
    "    model1 = CalibratedClassifierCV(model)\n",
    "    model1.fit(_BOW_Train,y_tr)\n",
    "    val_data  = model1.predict_proba(_BOW_CV)[:,1]\n",
    "    train_data = model1.predict_proba(_BOW_Train)[:,1]\n",
    "    BOW_val_accuracy.append(roc_auc_score(np.asarray(y_cv),np.asarray(val_data)))\n",
    "    BOW_train_accuracy.append(roc_auc_score(np.asarray(y_tr),np.asarray(train_data)))\n",
    "plt.plot(np.log(np.asarray(lamda)), BOW_train_accuracy, label='Train AUC')\n",
    "plt.plot(np.log(np.asarray(lamda)), BOW_val_accuracy, label='CV AUC')\n",
    "plt.legend()\n",
    "plt.xlabel(\"alpha: hyperparameter\")\n",
    "plt.ylabel(\"AUC\")\n",
    "plt.title(\"ERROR PLOTS\")\n",
    "plt.show()\n",
    "    "
   ]
  },
  {
   "cell_type": "code",
   "execution_count": 38,
   "metadata": {},
   "outputs": [],
   "source": [
    "best_lamda =10"
   ]
  },
  {
   "cell_type": "markdown",
   "metadata": {},
   "source": [
    "### Testing on test data"
   ]
  },
  {
   "cell_type": "code",
   "execution_count": 39,
   "metadata": {},
   "outputs": [
    {
     "data": {
      "image/png": "[encoded data removed]",
      "text/plain": [
       "<Figure size 432x288 with 1 Axes>"
      ]
     },
     "metadata": {},
     "output_type": "display_data"
    }
   ],
   "source": [
    "model = SVC(C=best_lamda)\n",
    "model.fit(_BOW_Train,y_tr)\n",
    "model1 = CalibratedClassifierCV(model)\n",
    "model1.fit(_BOW_Train,y_tr)\n",
    "train_pred  = model1.predict_proba(_BOW_Train)[:,1]\n",
    "test_pred = model1.predict_proba(_BOW_test)[:,1]\n",
    "train_fpr, train_tpr, thresholds = roc_curve(y_tr, train_pred)\n",
    "test_fpr, test_tpr, thresholds = roc_curve(y_test, test_pred)\n",
    "\n",
    "plt.plot(train_fpr, train_tpr, label=\"train AUC =\"+str(auc(train_fpr, train_tpr)))\n",
    "plt.plot(test_fpr, test_tpr, label=\"test AUC =\"+str(auc(test_fpr, test_tpr)))\n",
    "plt.plot([0.0,1.0],[0.0,1.0])\n",
    "plt.legend()\n",
    "plt.xlabel(\"alpha: hyperparameter\")\n",
    "plt.ylabel(\"AUC\")\n",
    "plt.title(\"ERROR PLOTS\")\n",
    "plt.show()"
   ]
  },
  {
   "cell_type": "markdown",
   "metadata": {},
   "source": [
    "### Confusion Matrix"
   ]
  },
  {
   "cell_type": "code",
   "execution_count": 40,
   "metadata": {},
   "outputs": [
    {
     "data": {
      "text/plain": [
       "<matplotlib.axes._subplots.AxesSubplot at 0x7fc6a8ae8198>"
      ]
     },
     "execution_count": 40,
     "metadata": {},
     "output_type": "execute_result"
    },
    {
     "data": {
      "image/png": "[encoded data removed]",
      "text/plain": [
       "<Figure size 432x288 with 2 Axes>"
      ]
     },
     "metadata": {},
     "output_type": "display_data"
    }
   ],
   "source": [
    "ytrain = model.predict(_BOW_Train)\n",
    "ytest = model.predict(_BOW_test)\n",
    "ctrain = confusion_matrix(y_tr,ytrain)\n",
    "ctest = confusion_matrix(y_test,ytest)\n",
    "class_label=[\"No\",\"Yes\"]\n",
    "df = pd.DataFrame(ctest, index=class_label, columns=class_label)\n",
    "sns.heatmap(df, annot= True, fmt=\"d\", cmap=\"YlGnBu\")\n"
   ]
  },
  {
   "cell_type": "markdown",
   "metadata": {
    "colab_type": "text",
    "id": "Zsc293XxNAsX"
   },
   "source": [
    "### [5.2.2] Applying RBF SVM on TFIDF,<font color='red'> SET 2</font>"
   ]
  },
  {
   "cell_type": "code",
   "execution_count": 41,
   "metadata": {
    "colab": {},
    "colab_type": "code",
    "id": "BSGfSHeENAsZ"
   },
   "outputs": [
    {
     "data": {
      "image/png": "[encoded data removed]",
      "text/plain": [
       "<Figure size 432x288 with 1 Axes>"
      ]
     },
     "metadata": {},
     "output_type": "display_data"
    }
   ],
   "source": [
    "# Please write all the code with proper documentation\n",
    "# Please write all the code with proper documentation   \n",
    "lamda= [10**(-4),10**(-3),10**(-2),10**(-1),1,10,100,1000,10000]\n",
    "TFIDF_train_accuracy = []\n",
    "TFIDF_val_accuracy = []\n",
    "for i in lamda:\n",
    "    model = SVC(C=i)\n",
    "    model.fit(_TFIDF_Train,y_tr)\n",
    "    model1 = CalibratedClassifierCV(model)\n",
    "    model1.fit(_TFIDF_Train,y_tr)\n",
    "    val_data  = model1.predict_proba(_TFIDF_Validation)[:,1]\n",
    "    train_data = model1.predict_proba(_TFIDF_Train)[:,1]\n",
    "    TFIDF_val_accuracy.append(roc_auc_score(np.asarray(y_cv),np.asarray(val_data)))\n",
    "    TFIDF_train_accuracy.append(roc_auc_score(np.asarray(y_tr),np.asarray(train_data)))\n",
    "plt.plot(np.log(np.asarray(lamda)), TFIDF_train_accuracy, label='Train AUC')\n",
    "plt.plot(np.log(np.asarray(lamda)), TFIDF_val_accuracy, label='CV AUC')\n",
    "plt.legend()\n",
    "plt.xlabel(\"alpha: hyperparameter\")\n",
    "plt.ylabel(\"AUC\")\n",
    "plt.title(\"ERROR PLOTS\")\n",
    "plt.show()\n",
    "    "
   ]
  },
  {
   "cell_type": "code",
   "execution_count": 42,
   "metadata": {},
   "outputs": [],
   "source": [
    "best_lamda = 100"
   ]
  },
  {
   "cell_type": "markdown",
   "metadata": {},
   "source": [
    "### Testing on test data"
   ]
  },
  {
   "cell_type": "code",
   "execution_count": 43,
   "metadata": {},
   "outputs": [
    {
     "data": {
      "image/png": "[encoded data removed]",
      "text/plain": [
       "<Figure size 432x288 with 1 Axes>"
      ]
     },
     "metadata": {},
     "output_type": "display_data"
    }
   ],
   "source": [
    "model = SVC(C=best_lamda)\n",
    "model.fit(_TFIDF_Train,y_tr)\n",
    "model1 = CalibratedClassifierCV(model)\n",
    "model1.fit(_TFIDF_Train,y_tr)\n",
    "train_pred  = model1.predict_proba(_TFIDF_Train)[:,1]\n",
    "test_pred = model1.predict_proba(_TFIDF_Test)[:,1]\n",
    "train_fpr, train_tpr, thresholds = roc_curve(y_tr, train_pred)\n",
    "test_fpr, test_tpr, thresholds = roc_curve(y_test, test_pred)\n",
    "\n",
    "plt.plot(train_fpr, train_tpr, label=\"train AUC =\"+str(auc(train_fpr, train_tpr)))\n",
    "plt.plot(test_fpr, test_tpr, label=\"test AUC =\"+str(auc(test_fpr, test_tpr)))\n",
    "plt.plot([0.0,1.0],[0.0,1.0])\n",
    "plt.legend()\n",
    "plt.xlabel(\"alpha: hyperparameter\")\n",
    "plt.ylabel(\"AUC\")\n",
    "plt.title(\"ERROR PLOTS\")\n",
    "plt.show()"
   ]
  },
  {
   "cell_type": "markdown",
   "metadata": {},
   "source": [
    "### Confusion Matrix"
   ]
  },
  {
   "cell_type": "code",
   "execution_count": 44,
   "metadata": {},
   "outputs": [
    {
     "data": {
      "text/plain": [
       "<matplotlib.axes._subplots.AxesSubplot at 0x7fc6a8b26f98>"
      ]
     },
     "execution_count": 44,
     "metadata": {},
     "output_type": "execute_result"
    },
    {
     "data": {
      "image/png": "[encoded data removed]",
      "text/plain": [
       "<Figure size 432x288 with 2 Axes>"
      ]
     },
     "metadata": {},
     "output_type": "display_data"
    }
   ],
   "source": [
    "ytrain = model.predict(_TFIDF_Train)\n",
    "ytest = model.predict(_TFIDF_Test)\n",
    "ctrain = confusion_matrix(y_tr,ytrain)\n",
    "ctest = confusion_matrix(y_test,ytest)\n",
    "class_label=[\"No\",\"Yes\"]\n",
    "df = pd.DataFrame(ctest, index=class_label, columns=class_label)\n",
    "sns.heatmap(df, annot= True, fmt=\"d\", cmap=\"YlGnBu\")\n"
   ]
  },
  {
   "cell_type": "markdown",
   "metadata": {
    "colab_type": "text",
    "id": "xWbhzB0FNAsc"
   },
   "source": [
    "### [5.2.3]  Applying RBF SVM on AVG W2V,<font color='red'> SET 3</font>"
   ]
  },
  {
   "cell_type": "code",
   "execution_count": 32,
   "metadata": {
    "colab": {},
    "colab_type": "code",
    "id": "6FcWnLirNAsc"
   },
   "outputs": [
    {
     "data": {
      "image/png": "[encoded data removed]",
      "text/plain": [
       "<Figure size 432x288 with 1 Axes>"
      ]
     },
     "metadata": {},
     "output_type": "display_data"
    }
   ],
   "source": [
    "# Please write all the code with proper documentation\n",
    "lamda= [10**(-4),10**(-3),10**(-2),10**(-1),1,10,100,1000,10000]\n",
    "w2v_train_accuracy = []\n",
    "w2v_val_accuracy = []\n",
    "for i in lamda:\n",
    "    model = SVC(C=i)\n",
    "    model.fit(sent_vectors,y_tr)\n",
    "    model1 = CalibratedClassifierCV(model)\n",
    "    model1.fit(sent_vectors,y_tr)\n",
    "    val_data  = model1.predict_proba(sent_vectors_cv)[:,1]\n",
    "    train_data = model1.predict_proba(sent_vectors)[:,1]\n",
    "    w2v_val_accuracy.append(roc_auc_score(np.asarray(y_cv),np.asarray(val_data)))\n",
    "    w2v_train_accuracy.append(roc_auc_score(np.asarray(y_tr),np.asarray(train_data)))\n",
    "plt.plot(np.log(np.asarray(lamda)), w2v_train_accuracy, label='Train AUC')\n",
    "plt.plot(np.log(np.asarray(lamda)), w2v_val_accuracy, label='CV AUC')\n",
    "plt.legend()\n",
    "plt.xlabel(\"alpha: hyperparameter\")\n",
    "plt.ylabel(\"AUC\")\n",
    "plt.title(\"ERROR PLOTS\")\n",
    "plt.show()\n",
    "    "
   ]
  },
  {
   "cell_type": "code",
   "execution_count": 33,
   "metadata": {},
   "outputs": [],
   "source": [
    "best_lamda = 10"
   ]
  },
  {
   "cell_type": "markdown",
   "metadata": {},
   "source": [
    "### Testing on test data"
   ]
  },
  {
   "cell_type": "code",
   "execution_count": 34,
   "metadata": {},
   "outputs": [
    {
     "data": {
      "image/png": "[encoded data removed]",
      "text/plain": [
       "<Figure size 432x288 with 1 Axes>"
      ]
     },
     "metadata": {},
     "output_type": "display_data"
    }
   ],
   "source": [
    "model = SVC(C=best_lamda)\n",
    "model.fit(sent_vectors,y_tr)\n",
    "model1 = CalibratedClassifierCV(model)\n",
    "model1.fit(sent_vectors,y_tr)\n",
    "train_pred  = model1.predict_proba(sent_vectors)[:,1]\n",
    "test_pred = model1.predict_proba(sent_vectors_test)[:,1]\n",
    "train_fpr, train_tpr, thresholds = roc_curve(y_tr, train_pred)\n",
    "test_fpr, test_tpr, thresholds = roc_curve(y_test, test_pred)\n",
    "\n",
    "plt.plot(train_fpr, train_tpr, label=\"train AUC =\"+str(auc(train_fpr, train_tpr)))\n",
    "plt.plot(test_fpr, test_tpr, label=\"test AUC =\"+str(auc(test_fpr, test_tpr)))\n",
    "plt.plot([0.0,1.0],[0.0,1.0])\n",
    "plt.legend()\n",
    "plt.xlabel(\"alpha: hyperparameter\")\n",
    "plt.ylabel(\"AUC\")\n",
    "plt.title(\"ERROR PLOTS\")\n",
    "plt.show()"
   ]
  },
  {
   "cell_type": "markdown",
   "metadata": {},
   "source": [
    "### Confusion matrix"
   ]
  },
  {
   "cell_type": "code",
   "execution_count": 35,
   "metadata": {},
   "outputs": [
    {
     "data": {
      "text/plain": [
       "<matplotlib.axes._subplots.AxesSubplot at 0x7f303b3be4a8>"
      ]
     },
     "execution_count": 35,
     "metadata": {},
     "output_type": "execute_result"
    },
    {
     "data": {
      "image/png": "[encoded data removed]",
      "text/plain": [
       "<Figure size 432x288 with 2 Axes>"
      ]
     },
     "metadata": {},
     "output_type": "display_data"
    }
   ],
   "source": [
    "ytrain = model.predict(sent_vectors)\n",
    "ytest = model.predict(sent_vectors_test)\n",
    "ctrain = confusion_matrix(y_tr,ytrain)\n",
    "ctest = confusion_matrix(y_test,ytest)\n",
    "class_label=[\"No\",\"Yes\"]\n",
    "df = pd.DataFrame(ctest, index=class_label, columns=class_label)\n",
    "sns.heatmap(df, annot= True, fmt=\"d\", cmap=\"YlGnBu\")\n"
   ]
  },
  {
   "cell_type": "markdown",
   "metadata": {
    "colab_type": "text",
    "id": "6EaAb1sbNAsy"
   },
   "source": [
    "### [5.2.4]  Applying RBF SVM on TFIDF W2V,<font color='red'> SET 4</font>"
   ]
  },
  {
   "cell_type": "code",
   "execution_count": 36,
   "metadata": {
    "colab": {},
    "colab_type": "code",
    "id": "fI0rplOaNAsy"
   },
   "outputs": [
    {
     "data": {
      "image/png": "[encoded data removed]",
      "text/plain": [
       "<Figure size 432x288 with 1 Axes>"
      ]
     },
     "metadata": {},
     "output_type": "display_data"
    }
   ],
   "source": [
    "# Please write all the code with proper documentation\n",
    "lamda= [10**(-4),10**(-3),10**(-2),10**(-1),1,10,100,1000,10000]\n",
    "tfidf_w2v_train_accuracy = []\n",
    "tfidf_w2v_val_accuracy = []\n",
    "for i in lamda:\n",
    "    model = SVC(C=i)\n",
    "    model.fit(tfidf_sent_vectors,y_tr)\n",
    "    model1 = CalibratedClassifierCV(model)\n",
    "    model1.fit(tfidf_sent_vectors,y_tr)\n",
    "    val_data  = model1.predict_proba(tfidf_sent_vectors_cv)[:,1]\n",
    "    train_data = model1.predict_proba(tfidf_sent_vectors)[:,1]\n",
    "    tfidf_w2v_val_accuracy.append(roc_auc_score(np.asarray(y_cv),np.asarray(val_data)))\n",
    "    tfidf_w2v_train_accuracy.append(roc_auc_score(np.asarray(y_tr),np.asarray(train_data)))\n",
    "plt.plot(np.log(np.asarray(lamda)), tfidf_w2v_train_accuracy, label='Train AUC')\n",
    "plt.plot(np.log(np.asarray(lamda)), tfidf_w2v_val_accuracy, label='CV AUC')\n",
    "plt.legend()\n",
    "plt.xlabel(\"alpha: hyperparameter\")\n",
    "plt.ylabel(\"AUC\")\n",
    "plt.title(\"ERROR PLOTS\")\n",
    "plt.show()\n",
    "    "
   ]
  },
  {
   "cell_type": "code",
   "execution_count": 37,
   "metadata": {},
   "outputs": [],
   "source": [
    "best_lamda = 10"
   ]
  },
  {
   "cell_type": "markdown",
   "metadata": {},
   "source": [
    "### Testing on test data"
   ]
  },
  {
   "cell_type": "code",
   "execution_count": 38,
   "metadata": {},
   "outputs": [
    {
     "data": {
      "image/png": "[encoded data removed]",
      "text/plain": [
       "<Figure size 432x288 with 1 Axes>"
      ]
     },
     "metadata": {},
     "output_type": "display_data"
    }
   ],
   "source": [
    "model = SVC(C=best_lamda)\n",
    "model.fit(tfidf_sent_vectors,y_tr)\n",
    "model1 = CalibratedClassifierCV(model)\n",
    "model1.fit(tfidf_sent_vectors,y_tr)\n",
    "train_pred  = model1.predict_proba(tfidf_sent_vectors)[:,1]\n",
    "test_pred = model1.predict_proba(tfidf_sent_vectors_test)[:,1]\n",
    "train_fpr, train_tpr, thresholds = roc_curve(y_tr, train_pred)\n",
    "test_fpr, test_tpr, thresholds = roc_curve(y_test, test_pred)\n",
    "\n",
    "plt.plot(train_fpr, train_tpr, label=\"train AUC =\"+str(auc(train_fpr, train_tpr)))\n",
    "plt.plot(test_fpr, test_tpr, label=\"test AUC =\"+str(auc(test_fpr, test_tpr)))\n",
    "plt.plot([0.0,1.0],[0.0,1.0])\n",
    "plt.legend()\n",
    "plt.xlabel(\"alpha: hyperparameter\")\n",
    "plt.ylabel(\"AUC\")\n",
    "plt.title(\"ERROR PLOTS\")\n",
    "plt.show()"
   ]
  },
  {
   "cell_type": "markdown",
   "metadata": {},
   "source": [
    "### Confusion Matrix"
   ]
  },
  {
   "cell_type": "code",
   "execution_count": 39,
   "metadata": {},
   "outputs": [
    {
     "data": {
      "text/plain": [
       "<matplotlib.axes._subplots.AxesSubplot at 0x7f303ae088d0>"
      ]
     },
     "execution_count": 39,
     "metadata": {},
     "output_type": "execute_result"
    },
    {
     "data": {
      "image/png": "[encoded data removed]",
      "text/plain": [
       "<Figure size 432x288 with 2 Axes>"
      ]
     },
     "metadata": {},
     "output_type": "display_data"
    }
   ],
   "source": [
    "ytrain = model.predict(tfidf_sent_vectors)\n",
    "ytest = model.predict(tfidf_sent_vectors_test)\n",
    "ctrain = confusion_matrix(y_tr,ytrain)\n",
    "ctest = confusion_matrix(y_test,ytest)\n",
    "class_label=[\"No\",\"Yes\"]\n",
    "df = pd.DataFrame(ctest, index=class_label, columns=class_label)\n",
    "sns.heatmap(df, annot= True, fmt=\"d\", cmap=\"YlGnBu\")\n"
   ]
  },
  {
   "cell_type": "markdown",
   "metadata": {
    "colab_type": "text",
    "id": "GrDm2C7rNAs1"
   },
   "source": [
    "# [6] Conclusions"
   ]
  },
  {
   "cell_type": "code",
   "execution_count": 1,
   "metadata": {
    "colab": {},
    "colab_type": "code",
    "id": "bZOaD6zrNAs2"
   },
   "outputs": [
    {
     "name": "stdout",
     "output_type": "stream",
     "text": [
      "+---------------------------------------------+-----------------+-----------+----------+\n",
      "|                    Model                    | value of lambda | Train AUC | Test AUC |\n",
      "+---------------------------------------------+-----------------+-----------+----------+\n",
      "|     BOW liner svm with l1 regularization    |       -10       |    0.95   |   0.92   |\n",
      "|    BOW linear svm with l2 regularization    |       -10       |    0.97   |   0.93   |\n",
      "|   TFIDF linear svm with l1 regularization   |       -10       |    0.94   |   0.93   |\n",
      "|    TFIDF linear svm with l2 regulariation   |       -10       |    0.97   |   0.95   |\n",
      "|  Avg_w2v linear svm with l1 regularization  |       -10       |    0.9    |   0.9    |\n",
      "|  Avg_w2v linear svm with l2 regularization  |       -10       |    0.9    |   0.9    |\n",
      "| TFIDF_w2v linear svm with l1 regularization |       -10       |    0.87   |   0.86   |\n",
      "| TFIDF_w2v linear svm with l2 regularization |       -10       |    0.87   |   0.87   |\n",
      "|                BOW using RBF                |        10       |    0.92   |   0.9    |\n",
      "|               TFIDF using RBF               |       100       |    0.91   |   0.9    |\n",
      "|              Avg_w2v using RBF              |        10       |    0.9    |   0.89   |\n",
      "|             TFIDF_w2v using RBF             |        10       |    0.88   |   0.88   |\n",
      "+---------------------------------------------+-----------------+-----------+----------+\n"
     ]
    }
   ],
   "source": [
    "from prettytable import PrettyTable\n",
    "x = PrettyTable()\n",
    "x.field_names = [\"Model\",\"value of lambda\",\"Train AUC\",\"Test AUC\"]\n",
    "\n",
    "x.add_row([\"BOW liner svm with l1 regularization\",10^-4,0.95,0.92])\n",
    "x.add_row([\"BOW linear svm with l2 regularization\",10^-4,0.97,0.93])\n",
    "x.add_row([\"TFIDF linear svm with l1 regularization\",10^-4,0.94,0.93])\n",
    "x.add_row([\"TFIDF linear svm with l2 regulariation\",10^-4,0.97,0.95])\n",
    "x.add_row([\"Avg_w2v linear svm with l1 regularization\",10^-4,0.90,0.90])\n",
    "x.add_row([\"Avg_w2v linear svm with l2 regularization\",10^-4,0.90,0.90])\n",
    "x.add_row([\"TFIDF_w2v linear svm with l1 regularization\",10^-4,0.87,0.86])\n",
    "x.add_row([\"TFIDF_w2v linear svm with l2 regularization\",10^-4,0.87,0.87])\n",
    "x.add_row([\"BOW using RBF\",10,0.92,0.90])\n",
    "x.add_row([\"TFIDF using RBF\",100,0.91,0.90])\n",
    "x.add_row([\"Avg_w2v using RBF\",10,0.90,0.89])\n",
    "x.add_row([\"TFIDF_w2v using RBF\",10,0.88,0.88])\n",
    "\n",
    "print(x)\n"
   ]
  },
  {
   "cell_type": "code",
   "execution_count": null,
   "metadata": {},
   "outputs": [],
   "source": []
  }
 ],
 "metadata": {
  "colab": {
   "name": "07 Amazon Fine Food Reviews Analysis_Support Vector Machines.ipynb",
   "provenance": [],
   "version": "0.3.2"
  },
  "kernelspec": {
   "display_name": "Python 3",
   "language": "python",
   "name": "python3"
  },
  "language_info": {
   "codemirror_mode": {
    "name": "ipython",
    "version": 3
   },
   "file_extension": ".py",
   "mimetype": "text/x-python",
   "name": "python",
   "nbconvert_exporter": "python",
   "pygments_lexer": "ipython3",
   "version": "3.5.2+"
  }
 },
 "nbformat": 4,
 "nbformat_minor": 1
}
