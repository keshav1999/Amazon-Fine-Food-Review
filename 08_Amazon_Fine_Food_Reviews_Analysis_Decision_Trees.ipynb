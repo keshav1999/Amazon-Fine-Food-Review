{
 "cells": [
  {
   "cell_type": "markdown",
   "metadata": {
    "colab_type": "text",
    "id": "IXmtUCbYiWM3"
   },
   "source": [
    "# Amazon Fine Food Reviews Analysis\n",
    "\n",
    "\n",
    "Data Source: https://www.kaggle.com/snap/amazon-fine-food-reviews <br>\n",
    "\n",
    "EDA: https://nycdatascience.com/blog/student-works/amazon-fine-foods-visualization/\n",
    "\n",
    "\n",
    "The Amazon Fine Food Reviews dataset consists of reviews of fine foods from Amazon.<br>\n",
    "\n",
    "Number of reviews: 568,454<br>\n",
    "Number of users: 256,059<br>\n",
    "Number of products: 74,258<br>\n",
    "Timespan: Oct 1999 - Oct 2012<br>\n",
    "Number of Attributes/Columns in data: 10 \n",
    "\n",
    "Attribute Information:\n",
    "\n",
    "1. Id\n",
    "2. ProductId - unique identifier for the product\n",
    "3. UserId - unqiue identifier for the user\n",
    "4. ProfileName\n",
    "5. HelpfulnessNumerator - number of users who found the review helpful\n",
    "6. HelpfulnessDenominator - number of users who indicated whether they found the review helpful or not\n",
    "7. Score - rating between 1 and 5\n",
    "8. Time - timestamp for the review\n",
    "9. Summary - brief summary of the review\n",
    "10. Text - text of the review\n",
    "\n",
    "\n",
    "#### Objective:\n",
    "Given a review, determine whether the review is positive (rating of 4 or 5) or negative (rating of 1 or 2).\n",
    "\n",
    "<br>\n",
    "[Q] How to determine if a review is positive or negative?<br>\n",
    "<br> \n",
    "[Ans] We could use Score/Rating. A rating of 4 or 5 can be cosnidered as a positive review. A rating of 1 or 2 can be considered as negative one. A review of rating 3 is considered nuetral and such reviews are ignored from our analysis. This is an approximate and proxy way of determining the polarity (positivity/negativity) of a review.\n",
    "\n",
    "\n"
   ]
  },
  {
   "cell_type": "markdown",
   "metadata": {
    "colab_type": "text",
    "id": "syeYHDR_iWM7"
   },
   "source": [
    "# [1]. Reading Data"
   ]
  },
  {
   "cell_type": "markdown",
   "metadata": {
    "colab_type": "text",
    "id": "D_eZrQC0iWM9"
   },
   "source": [
    "## [1.1] Loading the data\n",
    "\n",
    "The dataset is available in two forms\n",
    "1. .csv file\n",
    "2. SQLite Database\n",
    "\n",
    "In order to load the data, We have used the SQLITE dataset as it is easier to query the data and visualise the data efficiently.\n",
    "<br> \n",
    "\n",
    "Here as we only want to get the global sentiment of the recommendations (positive or negative), we will purposefully ignore all Scores equal to 3. If the score is above 3, then the recommendation wil be set to \"positive\". Otherwise, it will be set to \"negative\"."
   ]
  },
  {
   "cell_type": "code",
   "execution_count": 3,
   "metadata": {
    "colab": {},
    "colab_type": "code",
    "id": "53fLFqf8iWNA"
   },
   "outputs": [],
   "source": [
    "%matplotlib inline\n",
    "import warnings\n",
    "warnings.filterwarnings(\"ignore\")\n",
    "\n",
    "\n",
    "import sqlite3\n",
    "import pandas as pd\n",
    "import numpy as np\n",
    "import nltk\n",
    "import string\n",
    "import matplotlib.pyplot as plt\n",
    "import seaborn as sns\n",
    "from sklearn.feature_extraction.text import TfidfTransformer\n",
    "from sklearn.feature_extraction.text import TfidfVectorizer\n",
    "\n",
    "from sklearn.feature_extraction.text import CountVectorizer\n",
    "from sklearn.metrics import confusion_matrix\n",
    "from sklearn import metrics\n",
    "from sklearn.metrics import roc_curve, auc\n",
    "from nltk.stem.porter import PorterStemmer\n",
    "\n",
    "import re\n",
    "# Tutorial about Python regular expressions: https://pymotw.com/2/re/\n",
    "import string\n",
    "from nltk.corpus import stopwords\n",
    "from nltk.stem import PorterStemmer\n",
    "from nltk.stem.wordnet import WordNetLemmatizer\n",
    "\n",
    "from gensim.models import Word2Vec\n",
    "from gensim.models import KeyedVectors\n",
    "import pickle\n",
    "\n",
    "from tqdm import tqdm\n",
    "import os"
   ]
  },
  {
   "cell_type": "code",
   "execution_count": 4,
   "metadata": {
    "colab": {},
    "colab_type": "code",
    "id": "j3kshrC-iWNI",
    "outputId": "07826916-2c3f-4a0a-e928-ddbc6d567a11"
   },
   "outputs": [
    {
     "name": "stdout",
     "output_type": "stream",
     "text": [
      "Number of data points in our data (115000, 10)\n"
     ]
    },
    {
     "data": {
      "text/html": [
       "<div>\n",
       "<style scoped>\n",
       "    .dataframe tbody tr th:only-of-type {\n",
       "        vertical-align: middle;\n",
       "    }\n",
       "\n",
       "    .dataframe tbody tr th {\n",
       "        vertical-align: top;\n",
       "    }\n",
       "\n",
       "    .dataframe thead th {\n",
       "        text-align: right;\n",
       "    }\n",
       "</style>\n",
       "<table border=\"1\" class=\"dataframe\">\n",
       "  <thead>\n",
       "    <tr style=\"text-align: right;\">\n",
       "      <th></th>\n",
       "      <th>Id</th>\n",
       "      <th>ProductId</th>\n",
       "      <th>UserId</th>\n",
       "      <th>ProfileName</th>\n",
       "      <th>HelpfulnessNumerator</th>\n",
       "      <th>HelpfulnessDenominator</th>\n",
       "      <th>Score</th>\n",
       "      <th>Time</th>\n",
       "      <th>Summary</th>\n",
       "      <th>Text</th>\n",
       "    </tr>\n",
       "  </thead>\n",
       "  <tbody>\n",
       "    <tr>\n",
       "      <th>0</th>\n",
       "      <td>1</td>\n",
       "      <td>B001E4KFG0</td>\n",
       "      <td>A3SGXH7AUHU8GW</td>\n",
       "      <td>delmartian</td>\n",
       "      <td>1</td>\n",
       "      <td>1</td>\n",
       "      <td>1</td>\n",
       "      <td>1303862400</td>\n",
       "      <td>Good Quality Dog Food</td>\n",
       "      <td>I have bought several of the Vitality canned d...</td>\n",
       "    </tr>\n",
       "    <tr>\n",
       "      <th>1</th>\n",
       "      <td>2</td>\n",
       "      <td>B00813GRG4</td>\n",
       "      <td>A1D87F6ZCVE5NK</td>\n",
       "      <td>dll pa</td>\n",
       "      <td>0</td>\n",
       "      <td>0</td>\n",
       "      <td>0</td>\n",
       "      <td>1346976000</td>\n",
       "      <td>Not as Advertised</td>\n",
       "      <td>Product arrived labeled as Jumbo Salted Peanut...</td>\n",
       "    </tr>\n",
       "    <tr>\n",
       "      <th>2</th>\n",
       "      <td>3</td>\n",
       "      <td>B000LQOCH0</td>\n",
       "      <td>ABXLMWJIXXAIN</td>\n",
       "      <td>Natalia Corres \"Natalia Corres\"</td>\n",
       "      <td>1</td>\n",
       "      <td>1</td>\n",
       "      <td>1</td>\n",
       "      <td>1219017600</td>\n",
       "      <td>\"Delight\" says it all</td>\n",
       "      <td>This is a confection that has been around a fe...</td>\n",
       "    </tr>\n",
       "  </tbody>\n",
       "</table>\n",
       "</div>"
      ],
      "text/plain": [
       "   Id   ProductId          UserId                      ProfileName  \\\n",
       "0   1  B001E4KFG0  A3SGXH7AUHU8GW                       delmartian   \n",
       "1   2  B00813GRG4  A1D87F6ZCVE5NK                           dll pa   \n",
       "2   3  B000LQOCH0   ABXLMWJIXXAIN  Natalia Corres \"Natalia Corres\"   \n",
       "\n",
       "   HelpfulnessNumerator  HelpfulnessDenominator  Score        Time  \\\n",
       "0                     1                       1      1  1303862400   \n",
       "1                     0                       0      0  1346976000   \n",
       "2                     1                       1      1  1219017600   \n",
       "\n",
       "                 Summary                                               Text  \n",
       "0  Good Quality Dog Food  I have bought several of the Vitality canned d...  \n",
       "1      Not as Advertised  Product arrived labeled as Jumbo Salted Peanut...  \n",
       "2  \"Delight\" says it all  This is a confection that has been around a fe...  "
      ]
     },
     "execution_count": 4,
     "metadata": {},
     "output_type": "execute_result"
    }
   ],
   "source": [
    "# using SQLite Table to read data.\n",
    "con = sqlite3.connect('database.sqlite') \n",
    "\n",
    "# filtering only positive and negative reviews i.e. \n",
    "# not taking into consideration those reviews with Score=3\n",
    "# SELECT * FROM Reviews WHERE Score != 3 LIMIT 500000, will give top 500000 data points\n",
    "# you can change the number to any other number based on your computing power\n",
    "\n",
    "# filtered_data = pd.read_sql_query(\"\"\" SELECT * FROM Reviews WHERE Score != 3 LIMIT 500000\"\"\", con) \n",
    "# for tsne assignment you can take 5k data points\n",
    "\n",
    "filtered_data = pd.read_sql_query(\"\"\" SELECT * FROM Reviews WHERE Score != 3 LIMIT 115000\"\"\", con) \n",
    "\n",
    "# Give reviews with Score>3 a positive rating(1), and reviews with a score<3 a negative rating(0).\n",
    "def partition(x):\n",
    "    if x < 3:\n",
    "        return 0\n",
    "    return 1\n",
    "\n",
    "#changing reviews with score less than 3 to be positive and vice-versa\n",
    "actualScore = filtered_data['Score']\n",
    "positiveNegative = actualScore.map(partition) \n",
    "filtered_data['Score'] = positiveNegative\n",
    "print(\"Number of data points in our data\", filtered_data.shape)\n",
    "filtered_data.head(3)"
   ]
  },
  {
   "cell_type": "code",
   "execution_count": 5,
   "metadata": {
    "colab": {},
    "colab_type": "code",
    "id": "-7Iy8yWfiWNR"
   },
   "outputs": [],
   "source": [
    "display = pd.read_sql_query(\"\"\"\n",
    "SELECT UserId, ProductId, ProfileName, Time, Score, Text, COUNT(*)\n",
    "FROM Reviews\n",
    "GROUP BY UserId\n",
    "HAVING COUNT(*)>1\n",
    "\"\"\", con)"
   ]
  },
  {
   "cell_type": "code",
   "execution_count": 6,
   "metadata": {
    "colab": {},
    "colab_type": "code",
    "id": "wuK6OYpOiWNV",
    "outputId": "5cb5082e-47b9-4d4b-cf90-fc6ffe0dceeb",
    "scrolled": true
   },
   "outputs": [
    {
     "name": "stdout",
     "output_type": "stream",
     "text": [
      "(80668, 7)\n"
     ]
    },
    {
     "data": {
      "text/html": [
       "<div>\n",
       "<style scoped>\n",
       "    .dataframe tbody tr th:only-of-type {\n",
       "        vertical-align: middle;\n",
       "    }\n",
       "\n",
       "    .dataframe tbody tr th {\n",
       "        vertical-align: top;\n",
       "    }\n",
       "\n",
       "    .dataframe thead th {\n",
       "        text-align: right;\n",
       "    }\n",
       "</style>\n",
       "<table border=\"1\" class=\"dataframe\">\n",
       "  <thead>\n",
       "    <tr style=\"text-align: right;\">\n",
       "      <th></th>\n",
       "      <th>UserId</th>\n",
       "      <th>ProductId</th>\n",
       "      <th>ProfileName</th>\n",
       "      <th>Time</th>\n",
       "      <th>Score</th>\n",
       "      <th>Text</th>\n",
       "      <th>COUNT(*)</th>\n",
       "    </tr>\n",
       "  </thead>\n",
       "  <tbody>\n",
       "    <tr>\n",
       "      <th>0</th>\n",
       "      <td>#oc-R115TNMSPFT9I7</td>\n",
       "      <td>B007Y59HVM</td>\n",
       "      <td>Breyton</td>\n",
       "      <td>1331510400</td>\n",
       "      <td>2</td>\n",
       "      <td>Overall its just OK when considering the price...</td>\n",
       "      <td>2</td>\n",
       "    </tr>\n",
       "    <tr>\n",
       "      <th>1</th>\n",
       "      <td>#oc-R11D9D7SHXIJB9</td>\n",
       "      <td>B005HG9ET0</td>\n",
       "      <td>Louis E. Emory \"hoppy\"</td>\n",
       "      <td>1342396800</td>\n",
       "      <td>5</td>\n",
       "      <td>My wife has recurring extreme muscle spasms, u...</td>\n",
       "      <td>3</td>\n",
       "    </tr>\n",
       "    <tr>\n",
       "      <th>2</th>\n",
       "      <td>#oc-R11DNU2NBKQ23Z</td>\n",
       "      <td>B007Y59HVM</td>\n",
       "      <td>Kim Cieszykowski</td>\n",
       "      <td>1348531200</td>\n",
       "      <td>1</td>\n",
       "      <td>This coffee is horrible and unfortunately not ...</td>\n",
       "      <td>2</td>\n",
       "    </tr>\n",
       "    <tr>\n",
       "      <th>3</th>\n",
       "      <td>#oc-R11O5J5ZVQE25C</td>\n",
       "      <td>B005HG9ET0</td>\n",
       "      <td>Penguin Chick</td>\n",
       "      <td>1346889600</td>\n",
       "      <td>5</td>\n",
       "      <td>This will be the bottle that you grab from the...</td>\n",
       "      <td>3</td>\n",
       "    </tr>\n",
       "    <tr>\n",
       "      <th>4</th>\n",
       "      <td>#oc-R12KPBODL2B5ZD</td>\n",
       "      <td>B007OSBE1U</td>\n",
       "      <td>Christopher P. Presta</td>\n",
       "      <td>1348617600</td>\n",
       "      <td>1</td>\n",
       "      <td>I didnt like this coffee. Instead of telling y...</td>\n",
       "      <td>2</td>\n",
       "    </tr>\n",
       "  </tbody>\n",
       "</table>\n",
       "</div>"
      ],
      "text/plain": [
       "               UserId   ProductId             ProfileName        Time  Score  \\\n",
       "0  #oc-R115TNMSPFT9I7  B007Y59HVM                 Breyton  1331510400      2   \n",
       "1  #oc-R11D9D7SHXIJB9  B005HG9ET0  Louis E. Emory \"hoppy\"  1342396800      5   \n",
       "2  #oc-R11DNU2NBKQ23Z  B007Y59HVM        Kim Cieszykowski  1348531200      1   \n",
       "3  #oc-R11O5J5ZVQE25C  B005HG9ET0           Penguin Chick  1346889600      5   \n",
       "4  #oc-R12KPBODL2B5ZD  B007OSBE1U   Christopher P. Presta  1348617600      1   \n",
       "\n",
       "                                                Text  COUNT(*)  \n",
       "0  Overall its just OK when considering the price...         2  \n",
       "1  My wife has recurring extreme muscle spasms, u...         3  \n",
       "2  This coffee is horrible and unfortunately not ...         2  \n",
       "3  This will be the bottle that you grab from the...         3  \n",
       "4  I didnt like this coffee. Instead of telling y...         2  "
      ]
     },
     "execution_count": 6,
     "metadata": {},
     "output_type": "execute_result"
    }
   ],
   "source": [
    "print(display.shape)\n",
    "display.head()"
   ]
  },
  {
   "cell_type": "code",
   "execution_count": 7,
   "metadata": {
    "colab": {},
    "colab_type": "code",
    "id": "OMKVKkH7iWNZ",
    "outputId": "acc9d31a-27a1-48a1-d2f2-ce1f2e511793"
   },
   "outputs": [
    {
     "data": {
      "text/html": [
       "<div>\n",
       "<style scoped>\n",
       "    .dataframe tbody tr th:only-of-type {\n",
       "        vertical-align: middle;\n",
       "    }\n",
       "\n",
       "    .dataframe tbody tr th {\n",
       "        vertical-align: top;\n",
       "    }\n",
       "\n",
       "    .dataframe thead th {\n",
       "        text-align: right;\n",
       "    }\n",
       "</style>\n",
       "<table border=\"1\" class=\"dataframe\">\n",
       "  <thead>\n",
       "    <tr style=\"text-align: right;\">\n",
       "      <th></th>\n",
       "      <th>UserId</th>\n",
       "      <th>ProductId</th>\n",
       "      <th>ProfileName</th>\n",
       "      <th>Time</th>\n",
       "      <th>Score</th>\n",
       "      <th>Text</th>\n",
       "      <th>COUNT(*)</th>\n",
       "    </tr>\n",
       "  </thead>\n",
       "  <tbody>\n",
       "    <tr>\n",
       "      <th>80638</th>\n",
       "      <td>AZY10LLTJ71NX</td>\n",
       "      <td>B006P7E5ZI</td>\n",
       "      <td>undertheshrine \"undertheshrine\"</td>\n",
       "      <td>1334707200</td>\n",
       "      <td>5</td>\n",
       "      <td>I was recommended to try green tea extract to ...</td>\n",
       "      <td>5</td>\n",
       "    </tr>\n",
       "  </tbody>\n",
       "</table>\n",
       "</div>"
      ],
      "text/plain": [
       "              UserId   ProductId                      ProfileName        Time  \\\n",
       "80638  AZY10LLTJ71NX  B006P7E5ZI  undertheshrine \"undertheshrine\"  1334707200   \n",
       "\n",
       "       Score                                               Text  COUNT(*)  \n",
       "80638      5  I was recommended to try green tea extract to ...         5  "
      ]
     },
     "execution_count": 7,
     "metadata": {},
     "output_type": "execute_result"
    }
   ],
   "source": [
    "display[display['UserId']=='AZY10LLTJ71NX']"
   ]
  },
  {
   "cell_type": "code",
   "execution_count": 8,
   "metadata": {
    "colab": {},
    "colab_type": "code",
    "id": "s37uqS_jiWNe",
    "outputId": "489f08d4-48a2-4e82-bfc1-4f982f35b2e4"
   },
   "outputs": [
    {
     "data": {
      "text/plain": [
       "393063"
      ]
     },
     "execution_count": 8,
     "metadata": {},
     "output_type": "execute_result"
    }
   ],
   "source": [
    "display['COUNT(*)'].sum()"
   ]
  },
  {
   "cell_type": "markdown",
   "metadata": {
    "colab_type": "text",
    "id": "efnNNqNfiWNh"
   },
   "source": [
    "#  [2] Exploratory Data Analysis"
   ]
  },
  {
   "cell_type": "markdown",
   "metadata": {
    "colab_type": "text",
    "id": "Eq0hnbxhiWNi"
   },
   "source": [
    "## [2.1] Data Cleaning: Deduplication\n",
    "\n",
    "It is observed (as shown in the table below) that the reviews data had many duplicate entries. Hence it was necessary to remove duplicates in order to get unbiased results for the analysis of the data.  Following is an example:"
   ]
  },
  {
   "cell_type": "code",
   "execution_count": 9,
   "metadata": {
    "colab": {},
    "colab_type": "code",
    "id": "3CKLJ2FFiWNj",
    "outputId": "c995e0c8-7ef1-48a0-d7a9-b0cc50efaa83",
    "scrolled": false
   },
   "outputs": [
    {
     "data": {
      "text/html": [
       "<div>\n",
       "<style scoped>\n",
       "    .dataframe tbody tr th:only-of-type {\n",
       "        vertical-align: middle;\n",
       "    }\n",
       "\n",
       "    .dataframe tbody tr th {\n",
       "        vertical-align: top;\n",
       "    }\n",
       "\n",
       "    .dataframe thead th {\n",
       "        text-align: right;\n",
       "    }\n",
       "</style>\n",
       "<table border=\"1\" class=\"dataframe\">\n",
       "  <thead>\n",
       "    <tr style=\"text-align: right;\">\n",
       "      <th></th>\n",
       "      <th>Id</th>\n",
       "      <th>ProductId</th>\n",
       "      <th>UserId</th>\n",
       "      <th>ProfileName</th>\n",
       "      <th>HelpfulnessNumerator</th>\n",
       "      <th>HelpfulnessDenominator</th>\n",
       "      <th>Score</th>\n",
       "      <th>Time</th>\n",
       "      <th>Summary</th>\n",
       "      <th>Text</th>\n",
       "    </tr>\n",
       "  </thead>\n",
       "  <tbody>\n",
       "    <tr>\n",
       "      <th>0</th>\n",
       "      <td>78445</td>\n",
       "      <td>B000HDL1RQ</td>\n",
       "      <td>AR5J8UI46CURR</td>\n",
       "      <td>Geetha Krishnan</td>\n",
       "      <td>2</td>\n",
       "      <td>2</td>\n",
       "      <td>5</td>\n",
       "      <td>1199577600</td>\n",
       "      <td>LOACKER QUADRATINI VANILLA WAFERS</td>\n",
       "      <td>DELICIOUS WAFERS. I FIND THAT EUROPEAN WAFERS ...</td>\n",
       "    </tr>\n",
       "    <tr>\n",
       "      <th>1</th>\n",
       "      <td>138317</td>\n",
       "      <td>B000HDOPYC</td>\n",
       "      <td>AR5J8UI46CURR</td>\n",
       "      <td>Geetha Krishnan</td>\n",
       "      <td>2</td>\n",
       "      <td>2</td>\n",
       "      <td>5</td>\n",
       "      <td>1199577600</td>\n",
       "      <td>LOACKER QUADRATINI VANILLA WAFERS</td>\n",
       "      <td>DELICIOUS WAFERS. I FIND THAT EUROPEAN WAFERS ...</td>\n",
       "    </tr>\n",
       "    <tr>\n",
       "      <th>2</th>\n",
       "      <td>138277</td>\n",
       "      <td>B000HDOPYM</td>\n",
       "      <td>AR5J8UI46CURR</td>\n",
       "      <td>Geetha Krishnan</td>\n",
       "      <td>2</td>\n",
       "      <td>2</td>\n",
       "      <td>5</td>\n",
       "      <td>1199577600</td>\n",
       "      <td>LOACKER QUADRATINI VANILLA WAFERS</td>\n",
       "      <td>DELICIOUS WAFERS. I FIND THAT EUROPEAN WAFERS ...</td>\n",
       "    </tr>\n",
       "    <tr>\n",
       "      <th>3</th>\n",
       "      <td>73791</td>\n",
       "      <td>B000HDOPZG</td>\n",
       "      <td>AR5J8UI46CURR</td>\n",
       "      <td>Geetha Krishnan</td>\n",
       "      <td>2</td>\n",
       "      <td>2</td>\n",
       "      <td>5</td>\n",
       "      <td>1199577600</td>\n",
       "      <td>LOACKER QUADRATINI VANILLA WAFERS</td>\n",
       "      <td>DELICIOUS WAFERS. I FIND THAT EUROPEAN WAFERS ...</td>\n",
       "    </tr>\n",
       "    <tr>\n",
       "      <th>4</th>\n",
       "      <td>155049</td>\n",
       "      <td>B000PAQ75C</td>\n",
       "      <td>AR5J8UI46CURR</td>\n",
       "      <td>Geetha Krishnan</td>\n",
       "      <td>2</td>\n",
       "      <td>2</td>\n",
       "      <td>5</td>\n",
       "      <td>1199577600</td>\n",
       "      <td>LOACKER QUADRATINI VANILLA WAFERS</td>\n",
       "      <td>DELICIOUS WAFERS. I FIND THAT EUROPEAN WAFERS ...</td>\n",
       "    </tr>\n",
       "  </tbody>\n",
       "</table>\n",
       "</div>"
      ],
      "text/plain": [
       "       Id   ProductId         UserId      ProfileName  HelpfulnessNumerator  \\\n",
       "0   78445  B000HDL1RQ  AR5J8UI46CURR  Geetha Krishnan                     2   \n",
       "1  138317  B000HDOPYC  AR5J8UI46CURR  Geetha Krishnan                     2   \n",
       "2  138277  B000HDOPYM  AR5J8UI46CURR  Geetha Krishnan                     2   \n",
       "3   73791  B000HDOPZG  AR5J8UI46CURR  Geetha Krishnan                     2   \n",
       "4  155049  B000PAQ75C  AR5J8UI46CURR  Geetha Krishnan                     2   \n",
       "\n",
       "   HelpfulnessDenominator  Score        Time  \\\n",
       "0                       2      5  1199577600   \n",
       "1                       2      5  1199577600   \n",
       "2                       2      5  1199577600   \n",
       "3                       2      5  1199577600   \n",
       "4                       2      5  1199577600   \n",
       "\n",
       "                             Summary  \\\n",
       "0  LOACKER QUADRATINI VANILLA WAFERS   \n",
       "1  LOACKER QUADRATINI VANILLA WAFERS   \n",
       "2  LOACKER QUADRATINI VANILLA WAFERS   \n",
       "3  LOACKER QUADRATINI VANILLA WAFERS   \n",
       "4  LOACKER QUADRATINI VANILLA WAFERS   \n",
       "\n",
       "                                                Text  \n",
       "0  DELICIOUS WAFERS. I FIND THAT EUROPEAN WAFERS ...  \n",
       "1  DELICIOUS WAFERS. I FIND THAT EUROPEAN WAFERS ...  \n",
       "2  DELICIOUS WAFERS. I FIND THAT EUROPEAN WAFERS ...  \n",
       "3  DELICIOUS WAFERS. I FIND THAT EUROPEAN WAFERS ...  \n",
       "4  DELICIOUS WAFERS. I FIND THAT EUROPEAN WAFERS ...  "
      ]
     },
     "execution_count": 9,
     "metadata": {},
     "output_type": "execute_result"
    }
   ],
   "source": [
    "display= pd.read_sql_query(\"\"\"\n",
    "SELECT *\n",
    "FROM Reviews\n",
    "WHERE Score != 3 AND UserId=\"AR5J8UI46CURR\"\n",
    "ORDER BY ProductID\n",
    "\"\"\", con)\n",
    "display.head()"
   ]
  },
  {
   "cell_type": "markdown",
   "metadata": {
    "colab_type": "text",
    "id": "GmHe67iviWNn"
   },
   "source": [
    "As it can be seen above that same user has multiple reviews with same values for HelpfulnessNumerator, HelpfulnessDenominator, Score, Time, Summary and Text and on doing analysis it was found that <br>\n",
    "<br> \n",
    "ProductId=B000HDOPZG was Loacker Quadratini Vanilla Wafer Cookies, 8.82-Ounce Packages (Pack of 8)<br>\n",
    "<br> \n",
    "ProductId=B000HDL1RQ was Loacker Quadratini Lemon Wafer Cookies, 8.82-Ounce Packages (Pack of 8) and so on<br>\n",
    "\n",
    "It was inferred after analysis that reviews with same parameters other than ProductId belonged to the same product just having different flavour or quantity. Hence in order to reduce redundancy it was decided to eliminate the rows having same parameters.<br>\n",
    "\n",
    "The method used for the same was that we first sort the data according to ProductId and then just keep the first similar product review and delelte the others. for eg. in the above just the review for ProductId=B000HDL1RQ remains. This method ensures that there is only one representative for each product and deduplication without sorting would lead to possibility of different representatives still existing for the same product."
   ]
  },
  {
   "cell_type": "code",
   "execution_count": 10,
   "metadata": {
    "colab": {},
    "colab_type": "code",
    "id": "wgmdXIJviWNn"
   },
   "outputs": [],
   "source": [
    "#Sorting data according to ProductId in ascending order\n",
    "sorted_data=filtered_data.sort_values('ProductId', axis=0, ascending=True, inplace=False, kind='quicksort', na_position='last')"
   ]
  },
  {
   "cell_type": "code",
   "execution_count": 11,
   "metadata": {
    "colab": {},
    "colab_type": "code",
    "id": "ComjQ0rHiWNp",
    "outputId": "1c155404-4bb7-4078-c46b-1a9a33ac0602"
   },
   "outputs": [
    {
     "data": {
      "text/plain": [
       "(99724, 10)"
      ]
     },
     "execution_count": 11,
     "metadata": {},
     "output_type": "execute_result"
    }
   ],
   "source": [
    "#Deduplication of entries\n",
    "final=sorted_data.drop_duplicates(subset={\"UserId\",\"ProfileName\",\"Time\",\"Text\"}, keep='first', inplace=False)\n",
    "final.shape"
   ]
  },
  {
   "cell_type": "code",
   "execution_count": 12,
   "metadata": {
    "colab": {},
    "colab_type": "code",
    "id": "yFrWiU23iWNt",
    "outputId": "b9d26952-d8af-4fbb-eb3d-c6a28abcc029"
   },
   "outputs": [
    {
     "data": {
      "text/plain": [
       "86.71652173913044"
      ]
     },
     "execution_count": 12,
     "metadata": {},
     "output_type": "execute_result"
    }
   ],
   "source": [
    "#Checking to see how much % of data still remains\n",
    "(final['Id'].size*1.0)/(filtered_data['Id'].size*1.0)*100"
   ]
  },
  {
   "cell_type": "markdown",
   "metadata": {
    "colab_type": "text",
    "id": "g4lvCHn6iWNw"
   },
   "source": [
    "<b>Observation:-</b> It was also seen that in two rows given below the value of HelpfulnessNumerator is greater than HelpfulnessDenominator which is not practically possible hence these two rows too are removed from calcualtions"
   ]
  },
  {
   "cell_type": "code",
   "execution_count": 13,
   "metadata": {
    "colab": {},
    "colab_type": "code",
    "id": "6ehzwEdgiWNw",
    "outputId": "60e18da4-784f-49d8-84b7-59823cfa3e85"
   },
   "outputs": [
    {
     "data": {
      "text/html": [
       "<div>\n",
       "<style scoped>\n",
       "    .dataframe tbody tr th:only-of-type {\n",
       "        vertical-align: middle;\n",
       "    }\n",
       "\n",
       "    .dataframe tbody tr th {\n",
       "        vertical-align: top;\n",
       "    }\n",
       "\n",
       "    .dataframe thead th {\n",
       "        text-align: right;\n",
       "    }\n",
       "</style>\n",
       "<table border=\"1\" class=\"dataframe\">\n",
       "  <thead>\n",
       "    <tr style=\"text-align: right;\">\n",
       "      <th></th>\n",
       "      <th>Id</th>\n",
       "      <th>ProductId</th>\n",
       "      <th>UserId</th>\n",
       "      <th>ProfileName</th>\n",
       "      <th>HelpfulnessNumerator</th>\n",
       "      <th>HelpfulnessDenominator</th>\n",
       "      <th>Score</th>\n",
       "      <th>Time</th>\n",
       "      <th>Summary</th>\n",
       "      <th>Text</th>\n",
       "    </tr>\n",
       "  </thead>\n",
       "  <tbody>\n",
       "    <tr>\n",
       "      <th>0</th>\n",
       "      <td>64422</td>\n",
       "      <td>B000MIDROQ</td>\n",
       "      <td>A161DK06JJMCYF</td>\n",
       "      <td>J. E. Stephens \"Jeanne\"</td>\n",
       "      <td>3</td>\n",
       "      <td>1</td>\n",
       "      <td>5</td>\n",
       "      <td>1224892800</td>\n",
       "      <td>Bought This for My Son at College</td>\n",
       "      <td>My son loves spaghetti so I didn't hesitate or...</td>\n",
       "    </tr>\n",
       "    <tr>\n",
       "      <th>1</th>\n",
       "      <td>44737</td>\n",
       "      <td>B001EQ55RW</td>\n",
       "      <td>A2V0I904FH7ABY</td>\n",
       "      <td>Ram</td>\n",
       "      <td>3</td>\n",
       "      <td>2</td>\n",
       "      <td>4</td>\n",
       "      <td>1212883200</td>\n",
       "      <td>Pure cocoa taste with crunchy almonds inside</td>\n",
       "      <td>It was almost a 'love at first bite' - the per...</td>\n",
       "    </tr>\n",
       "  </tbody>\n",
       "</table>\n",
       "</div>"
      ],
      "text/plain": [
       "      Id   ProductId          UserId              ProfileName  \\\n",
       "0  64422  B000MIDROQ  A161DK06JJMCYF  J. E. Stephens \"Jeanne\"   \n",
       "1  44737  B001EQ55RW  A2V0I904FH7ABY                      Ram   \n",
       "\n",
       "   HelpfulnessNumerator  HelpfulnessDenominator  Score        Time  \\\n",
       "0                     3                       1      5  1224892800   \n",
       "1                     3                       2      4  1212883200   \n",
       "\n",
       "                                        Summary  \\\n",
       "0             Bought This for My Son at College   \n",
       "1  Pure cocoa taste with crunchy almonds inside   \n",
       "\n",
       "                                                Text  \n",
       "0  My son loves spaghetti so I didn't hesitate or...  \n",
       "1  It was almost a 'love at first bite' - the per...  "
      ]
     },
     "execution_count": 13,
     "metadata": {},
     "output_type": "execute_result"
    }
   ],
   "source": [
    "display= pd.read_sql_query(\"\"\"\n",
    "SELECT *\n",
    "FROM Reviews\n",
    "WHERE Score != 3 AND Id=44737 OR Id=64422\n",
    "ORDER BY ProductID\n",
    "\"\"\", con)\n",
    "\n",
    "display.head()"
   ]
  },
  {
   "cell_type": "code",
   "execution_count": 14,
   "metadata": {
    "colab": {},
    "colab_type": "code",
    "id": "EBa1d6gViWNz"
   },
   "outputs": [],
   "source": [
    "final=final[final.HelpfulnessNumerator<=final.HelpfulnessDenominator]"
   ]
  },
  {
   "cell_type": "code",
   "execution_count": 15,
   "metadata": {
    "colab": {},
    "colab_type": "code",
    "id": "KNQ01asjiWN1",
    "outputId": "0d2433fb-dd33-41cd-a18d-110d776f60b4"
   },
   "outputs": [
    {
     "name": "stdout",
     "output_type": "stream",
     "text": [
      "(99722, 10)\n"
     ]
    },
    {
     "data": {
      "text/plain": [
       "1    83711\n",
       "0    16011\n",
       "Name: Score, dtype: int64"
      ]
     },
     "execution_count": 15,
     "metadata": {},
     "output_type": "execute_result"
    }
   ],
   "source": [
    "#Before starting the next phase of preprocessing lets see the number of entries left\n",
    "print(final.shape)\n",
    "\n",
    "#How many positive and negative reviews are present in our dataset?\n",
    "final['Score'].value_counts()"
   ]
  },
  {
   "cell_type": "markdown",
   "metadata": {
    "colab_type": "text",
    "id": "92IZ5ea0iWN4"
   },
   "source": [
    "#  [3] Preprocessing"
   ]
  },
  {
   "cell_type": "markdown",
   "metadata": {
    "colab_type": "text",
    "id": "NTwQITJKiWN5"
   },
   "source": [
    "## [3.1].  Preprocessing Review Text\n",
    "\n",
    "Now that we have finished deduplication our data requires some preprocessing before we go on further with analysis and making the prediction model.\n",
    "\n",
    "Hence in the Preprocessing phase we do the following in the order below:-\n",
    "\n",
    "1. Begin by removing the html tags\n",
    "2. Remove any punctuations or limited set of special characters like , or . or # etc.\n",
    "3. Check if the word is made up of english letters and is not alpha-numeric\n",
    "4. Check to see if the length of the word is greater than 2 (as it was researched that there is no adjective in 2-letters)\n",
    "5. Convert the word to lowercase\n",
    "6. Remove Stopwords\n",
    "7. Finally Snowball Stemming the word (it was obsereved to be better than Porter Stemming)<br>\n",
    "\n",
    "After which we collect the words used to describe positive and negative reviews"
   ]
  },
  {
   "cell_type": "code",
   "execution_count": 16,
   "metadata": {
    "colab": {},
    "colab_type": "code",
    "id": "kTCxT5aWiWN5",
    "outputId": "64588cda-64b3-47f0-8d01-941e1cc85cc5"
   },
   "outputs": [
    {
     "name": "stdout",
     "output_type": "stream",
     "text": [
      "My dogs loves this chicken but its a product from China, so we wont be buying it anymore.  Its very hard to find any chicken products made in the USA but they are out there, but this one isnt.  Its too bad too because its a good product but I wont take any chances till they know what is going on with the china imports.\n",
      "==================================================\n",
      "IF YOU LIKE SALMON YOU WILL LOVE THESE OMAHA STEAKS SALMON VERY VERY GOOD\n",
      "==================================================\n",
      "OK....I thought I'd put a bit of punch to hubby's sandwich, instead of the ho-hum Best Foods Mayo---ohOoooOh--FAILURE!<br />One bite and he said---Please! DO NOT EVER SERVE THIS TO ME AGAIN!<br />I guess it was that-bad!<br />I'll see if my neighbor will be able to use it w/her family.<br />If you  are a BEST FOODS lover---walk away---do NOT purchase this product!\n",
      "==================================================\n",
      "These people from Bavaria really know how to make this stuff. The Landjagers are super (you have to let them dry for them to develop their full, intended flavor), and it is worth any sausage fan's time to check out their complete offering of German style sausages and hams.  Due to the perishability of some of their products their S&H charges appear outrageous but I guess that sending frozen or refrigerated foods costs money.  Personally, I recommend their coarse grind liverwurst but that is a matter of personal taste.\n",
      "==================================================\n"
     ]
    }
   ],
   "source": [
    "# printing some random reviews\n",
    "sent_0 = final['Text'].values[0]\n",
    "print(sent_0)\n",
    "print(\"=\"*50)\n",
    "\n",
    "sent_1000 = final['Text'].values[1000]\n",
    "print(sent_1000)\n",
    "print(\"=\"*50)\n",
    "\n",
    "sent_1500 = final['Text'].values[1500]\n",
    "print(sent_1500)\n",
    "print(\"=\"*50)\n",
    "\n",
    "sent_4900 = final['Text'].values[4900]\n",
    "print(sent_4900)\n",
    "print(\"=\"*50)"
   ]
  },
  {
   "cell_type": "code",
   "execution_count": 17,
   "metadata": {},
   "outputs": [
    {
     "data": {
      "text/plain": [
       "'My dogs loves this chicken but its a product from China, so we wont be buying it anymore.  Its very hard to find any chicken products made in the USA but they are out there, but this one isnt.  Its too bad too because its a good product but I wont take any chances till they know what is going on with the china imports.'"
      ]
     },
     "execution_count": 17,
     "metadata": {},
     "output_type": "execute_result"
    }
   ],
   "source": [
    "final['Text'].values[0]"
   ]
  },
  {
   "cell_type": "code",
   "execution_count": 18,
   "metadata": {
    "colab": {},
    "colab_type": "code",
    "id": "iX3VndCPiWN8",
    "outputId": "7f8cad02-65a6-4530-e7e1-bb6775877737"
   },
   "outputs": [
    {
     "name": "stdout",
     "output_type": "stream",
     "text": [
      "My dogs loves this chicken but its a product from China, so we wont be buying it anymore.  Its very hard to find any chicken products made in the USA but they are out there, but this one isnt.  Its too bad too because its a good product but I wont take any chances till they know what is going on with the china imports.\n"
     ]
    }
   ],
   "source": [
    "# remove urls from text python: https://stackoverflow.com/a/40823105/4084039\n",
    "sent_0 = re.sub(r\"http\\S+\", \"\", sent_0)\n",
    "sent_1000 = re.sub(r\"http\\S+\", \"\", sent_1000)\n",
    "sent_150 = re.sub(r\"http\\S+\", \"\", sent_1500)\n",
    "sent_4900 = re.sub(r\"http\\S+\", \"\", sent_4900)\n",
    "\n",
    "print(sent_0)"
   ]
  },
  {
   "cell_type": "code",
   "execution_count": 19,
   "metadata": {
    "colab": {},
    "colab_type": "code",
    "id": "DyO7iqEriWN_",
    "outputId": "2a010a1c-574d-409f-d725-c726a25d3e70"
   },
   "outputs": [
    {
     "name": "stdout",
     "output_type": "stream",
     "text": [
      "My dogs loves this chicken but its a product from China, so we wont be buying it anymore.  Its very hard to find any chicken products made in the USA but they are out there, but this one isnt.  Its too bad too because its a good product but I wont take any chances till they know what is going on with the china imports.\n",
      "==================================================\n",
      "IF YOU LIKE SALMON YOU WILL LOVE THESE OMAHA STEAKS SALMON VERY VERY GOOD\n",
      "==================================================\n",
      "OK....I thought I'd put a bit of punch to hubby's sandwich, instead of the ho-hum Best Foods Mayo---ohOoooOh--FAILURE!One bite and he said---Please! DO NOT EVER SERVE THIS TO ME AGAIN!I guess it was that-bad!I'll see if my neighbor will be able to use it w/her family.If you  are a BEST FOODS lover---walk away---do NOT purchase this product!\n",
      "==================================================\n",
      "These people from Bavaria really know how to make this stuff. The Landjagers are super (you have to let them dry for them to develop their full, intended flavor), and it is worth any sausage fan's time to check out their complete offering of German style sausages and hams.  Due to the perishability of some of their products their S&H charges appear outrageous but I guess that sending frozen or refrigerated foods costs money.  Personally, I recommend their coarse grind liverwurst but that is a matter of personal taste.\n"
     ]
    }
   ],
   "source": [
    "# https://stackoverflow.com/questions/16206380/python-beautifulsoup-how-to-remove-all-tags-from-an-element\n",
    "from bs4 import BeautifulSoup\n",
    "\n",
    "soup = BeautifulSoup(sent_0, 'lxml')\n",
    "text = soup.get_text()\n",
    "print(text)\n",
    "print(\"=\"*50)\n",
    "\n",
    "soup = BeautifulSoup(sent_1000, 'lxml')\n",
    "text = soup.get_text()\n",
    "print(text)\n",
    "print(\"=\"*50)\n",
    "\n",
    "soup = BeautifulSoup(sent_1500, 'lxml')\n",
    "text = soup.get_text()\n",
    "print(text)\n",
    "print(\"=\"*50)\n",
    "\n",
    "soup = BeautifulSoup(sent_4900, 'lxml')\n",
    "text = soup.get_text()\n",
    "print(text)"
   ]
  },
  {
   "cell_type": "code",
   "execution_count": 20,
   "metadata": {
    "colab": {},
    "colab_type": "code",
    "id": "qzIaKh8niWOC"
   },
   "outputs": [],
   "source": [
    "# https://stackoverflow.com/a/47091490/4084039\n",
    "import re\n",
    "\n",
    "def decontracted(phrase):\n",
    "    # specific\n",
    "    phrase = re.sub(r\"won't\", \"will not\", phrase)\n",
    "    phrase = re.sub(r\"can\\'t\", \"can not\", phrase)\n",
    "\n",
    "    # general\n",
    "    phrase = re.sub(r\"n\\'t\", \" not\", phrase)\n",
    "    phrase = re.sub(r\"\\'re\", \" are\", phrase)\n",
    "    phrase = re.sub(r\"\\'s\", \" is\", phrase)\n",
    "    phrase = re.sub(r\"\\'d\", \" would\", phrase)\n",
    "    phrase = re.sub(r\"\\'ll\", \" will\", phrase)\n",
    "    phrase = re.sub(r\"\\'t\", \" not\", phrase)\n",
    "    phrase = re.sub(r\"\\'ve\", \" have\", phrase)\n",
    "    phrase = re.sub(r\"\\'m\", \" am\", phrase)\n",
    "    return phrase"
   ]
  },
  {
   "cell_type": "code",
   "execution_count": 21,
   "metadata": {
    "colab": {},
    "colab_type": "code",
    "id": "Esa29-JwiWOD",
    "outputId": "be726596-752d-489b-d311-f4180ac83ac4"
   },
   "outputs": [
    {
     "name": "stdout",
     "output_type": "stream",
     "text": [
      "OK....I thought I would put a bit of punch to hubby is sandwich, instead of the ho-hum Best Foods Mayo---ohOoooOh--FAILURE!<br />One bite and he said---Please! DO NOT EVER SERVE THIS TO ME AGAIN!<br />I guess it was that-bad!<br />I will see if my neighbor will be able to use it w/her family.<br />If you  are a BEST FOODS lover---walk away---do NOT purchase this product!\n",
      "==================================================\n"
     ]
    }
   ],
   "source": [
    "sent_1500 = decontracted(sent_1500)\n",
    "print(sent_1500)\n",
    "print(\"=\"*50)"
   ]
  },
  {
   "cell_type": "code",
   "execution_count": 22,
   "metadata": {
    "colab": {},
    "colab_type": "code",
    "id": "qf0c7-nXiWOG",
    "outputId": "6104976d-bda8-4de1-9d91-808f3661d53b"
   },
   "outputs": [
    {
     "name": "stdout",
     "output_type": "stream",
     "text": [
      "My dogs loves this chicken but its a product from China, so we wont be buying it anymore.  Its very hard to find any chicken products made in the USA but they are out there, but this one isnt.  Its too bad too because its a good product but I wont take any chances till they know what is going on with the china imports.\n"
     ]
    }
   ],
   "source": [
    "#remove words with numbers python: https://stackoverflow.com/a/18082370/4084039\n",
    "sent_0 = re.sub(\"\\S*\\d\\S*\", \"\", sent_0).strip()\n",
    "print(sent_0)"
   ]
  },
  {
   "cell_type": "code",
   "execution_count": 23,
   "metadata": {
    "colab": {},
    "colab_type": "code",
    "id": "1Z5VK6wxiWOI",
    "outputId": "d3405347-aa6a-4df5-c3d9-2c11441c2385"
   },
   "outputs": [
    {
     "name": "stdout",
     "output_type": "stream",
     "text": [
      "OK I thought I would put a bit of punch to hubby is sandwich instead of the ho hum Best Foods Mayo ohOoooOh FAILURE br One bite and he said Please DO NOT EVER SERVE THIS TO ME AGAIN br I guess it was that bad br I will see if my neighbor will be able to use it w her family br If you are a BEST FOODS lover walk away do NOT purchase this product \n"
     ]
    }
   ],
   "source": [
    "#remove spacial character: https://stackoverflow.com/a/5843547/4084039\n",
    "sent_1500 = re.sub('[^A-Za-z0-9]+', ' ', sent_1500)\n",
    "print(sent_1500)"
   ]
  },
  {
   "cell_type": "code",
   "execution_count": 24,
   "metadata": {
    "colab": {},
    "colab_type": "code",
    "id": "MfzZtIP1iWOL"
   },
   "outputs": [],
   "source": [
    "# https://gist.github.com/sebleier/554280\n",
    "# we are removing the words from the stop words list: 'no', 'nor', 'not'\n",
    "# <br /><br /> ==> after the above steps, we are getting \"br br\"\n",
    "# we are including them into stop words list\n",
    "# instead of <br /> if we have <br/> these tags would have revmoved in the 1st step\n",
    "\n",
    "stopwords= set(['br', 'the', 'i', 'me', 'my', 'myself', 'we', 'our', 'ours', 'ourselves', 'you', \"you're\", \"you've\",\\\n",
    "            \"you'll\", \"you'd\", 'your', 'yours', 'yourself', 'yourselves', 'he', 'him', 'his', 'himself', \\\n",
    "            'she', \"she's\", 'her', 'hers', 'herself', 'it', \"it's\", 'its', 'itself', 'they', 'them', 'their',\\\n",
    "            'theirs', 'themselves', 'what', 'which', 'who', 'whom', 'this', 'that', \"that'll\", 'these', 'those', \\\n",
    "            'am', 'is', 'are', 'was', 'were', 'be', 'been', 'being', 'have', 'has', 'had', 'having', 'do', 'does', \\\n",
    "            'did', 'doing', 'a', 'an', 'the', 'and', 'but', 'if', 'or', 'because', 'as', 'until', 'while', 'of', \\\n",
    "            'at', 'by', 'for', 'with', 'about', 'against', 'between', 'into', 'through', 'during', 'before', 'after',\\\n",
    "            'above', 'below', 'to', 'from', 'up', 'down', 'in', 'out', 'on', 'off', 'over', 'under', 'again', 'further',\\\n",
    "            'then', 'once', 'here', 'there', 'when', 'where', 'why', 'how', 'all', 'any', 'both', 'each', 'few', 'more',\\\n",
    "            'most', 'other', 'some', 'such', 'only', 'own', 'same', 'so', 'than', 'too', 'very', \\\n",
    "            's', 't', 'can', 'will', 'just', 'don', \"don't\", 'should', \"should've\", 'now', 'd', 'll', 'm', 'o', 're', \\\n",
    "            've', 'y', 'ain', 'aren', \"aren't\", 'couldn', \"couldn't\", 'didn', \"didn't\", 'doesn', \"doesn't\", 'hadn',\\\n",
    "            \"hadn't\", 'hasn', \"hasn't\", 'haven', \"haven't\", 'isn', \"isn't\", 'ma', 'mightn', \"mightn't\", 'mustn',\\\n",
    "            \"mustn't\", 'needn', \"needn't\", 'shan', \"shan't\", 'shouldn', \"shouldn't\", 'wasn', \"wasn't\", 'weren', \"weren't\", \\\n",
    "            'won', \"won't\", 'wouldn', \"wouldn't\"])"
   ]
  },
  {
   "cell_type": "code",
   "execution_count": 25,
   "metadata": {
    "colab": {},
    "colab_type": "code",
    "id": "g1C43tjNiWOM",
    "outputId": "a997afc9-894c-4a56-d538-dadea8a21e6d"
   },
   "outputs": [
    {
     "name": "stderr",
     "output_type": "stream",
     "text": [
      "100%|██████████| 99722/99722 [00:47<00:00, 2094.79it/s]\n"
     ]
    }
   ],
   "source": [
    "# Combining all the above stundents \n",
    "from tqdm import tqdm\n",
    "preprocessed_reviews = []\n",
    "# tqdm is for printing the status bar\n",
    "for sentance in tqdm(final['Text'].values):\n",
    "    sentance = re.sub(r\"http\\S+\", \"\", sentance)\n",
    "    sentance = BeautifulSoup(sentance, 'lxml').get_text()\n",
    "    sentance = decontracted(sentance)\n",
    "    sentance = re.sub(\"\\S*\\d\\S*\", \"\", sentance).strip()\n",
    "    sentance = re.sub('[^A-Za-z]+', ' ', sentance)\n",
    "    # https://gist.github.com/sebleier/554280\n",
    "    sentance = ' '.join(e.lower() for e in sentance.split() if e.lower() not in stopwords)\n",
    "    preprocessed_reviews.append(sentance.strip())"
   ]
  },
  {
   "cell_type": "code",
   "execution_count": 26,
   "metadata": {
    "colab": {},
    "colab_type": "code",
    "id": "MWDrCFxViWOP",
    "outputId": "5618c9c3-a86a-42a4-e9c4-d24d93fd5a7a"
   },
   "outputs": [
    {
     "data": {
      "text/plain": [
       "'ok thought would put bit punch hubby sandwich instead ho hum best foods mayo ohoooooh failure one bite said please not ever serve guess bad see neighbor able use w family best foods lover walk away not purchase product'"
      ]
     },
     "execution_count": 26,
     "metadata": {},
     "output_type": "execute_result"
    }
   ],
   "source": [
    "preprocessed_reviews[1500]"
   ]
  },
  {
   "cell_type": "markdown",
   "metadata": {
    "colab_type": "text",
    "id": "fEu8sShciWOS"
   },
   "source": [
    "<h2><font color='red'>[3.2] Preprocessing Review Summary</font></h2>"
   ]
  },
  {
   "cell_type": "code",
   "execution_count": 27,
   "metadata": {
    "colab": {},
    "colab_type": "code",
    "id": "XP1URIERiWOU"
   },
   "outputs": [],
   "source": [
    "## Similartly you can do preprocessing for review summary also."
   ]
  },
  {
   "cell_type": "code",
   "execution_count": 5,
   "metadata": {},
   "outputs": [],
   "source": [
    "from sklearn.cross_validation import train_test_split\n",
    "from sklearn.linear_model import LogisticRegression\n",
    "from sklearn.cross_validation import cross_val_score\n",
    "from collections import Counter\n",
    "import collections\n",
    "from sklearn.metrics import accuracy_score,roc_auc_score,roc_curve,confusion_matrix,auc\n",
    "from sklearn import cross_validation\n",
    "from scipy.sparse import csr_matrix,hstack\n",
    "from sklearn.linear_model import LogisticRegression\n",
    "from sklearn.tree import DecisionTreeClassifier"
   ]
  },
  {
   "cell_type": "code",
   "execution_count": 29,
   "metadata": {},
   "outputs": [
    {
     "name": "stdout",
     "output_type": "stream",
     "text": [
      "(79777,) (19945,) (59832,) (19945,) (19945,)\n"
     ]
    }
   ],
   "source": [
    "X_1, X_test, y_1, y_test = cross_validation.train_test_split(preprocessed_reviews,final['Score'], test_size=0.2, random_state=0)\n",
    "X_tr, X_cv, y_tr, y_cv = cross_validation.train_test_split(X_1, y_1, test_size=0.25)\n",
    "print(np.asarray(X_1).shape,np.asarray(X_test).shape,np.asarray(X_tr).shape,np.asarray(X_test).shape,np.asarray(X_cv).shape)"
   ]
  },
  {
   "cell_type": "markdown",
   "metadata": {
    "colab_type": "text",
    "id": "p2lyiwJ_iWOW"
   },
   "source": [
    "# [4] Featurization"
   ]
  },
  {
   "cell_type": "markdown",
   "metadata": {
    "colab_type": "text",
    "id": "T_LFck8iiWOX"
   },
   "source": [
    "## [4.1] BAG OF WORDS"
   ]
  },
  {
   "cell_type": "code",
   "execution_count": 30,
   "metadata": {
    "colab": {},
    "colab_type": "code",
    "id": "OVHZ9f8biWOX",
    "outputId": "b121f6f4-e30a-4184-b083-a77cdab3ca19"
   },
   "outputs": [
    {
     "name": "stdout",
     "output_type": "stream",
     "text": [
      "some feature names  ['aa', 'aaa', 'aaaa', 'aaaaa', 'aaaaaaaaaaaa', 'aaaand', 'aaah', 'aaahs', 'aadp', 'aaf']\n",
      "==================================================\n",
      "the type of count vectorizer  <class 'scipy.sparse.csr.csr_matrix'>\n",
      "the shape of out text BOW vectorizer  (59832, 45877)\n",
      "the number of unique words  45877\n"
     ]
    }
   ],
   "source": [
    "#BoW\n",
    "count_vect = CountVectorizer() #in scikit-learn\n",
    "BOW_Train = count_vect.fit_transform(X_tr)\n",
    "BOW_test = count_vect.transform(X_test)\n",
    "BOW_CV = count_vect.transform(X_cv)\n",
    "print(\"some feature names \", count_vect.get_feature_names()[:10])\n",
    "print('='*50)\n",
    "print(\"the type of count vectorizer \",type(BOW_Train))\n",
    "print(\"the shape of out text BOW vectorizer \",BOW_Train.get_shape())\n",
    "print(\"the number of unique words \", BOW_Train.get_shape()[1])"
   ]
  },
  {
   "cell_type": "markdown",
   "metadata": {
    "colab_type": "text",
    "id": "mjfrB76yiWOa"
   },
   "source": [
    "## [4.2] Bi-Grams and n-Grams."
   ]
  },
  {
   "cell_type": "code",
   "execution_count": 0,
   "metadata": {
    "colab": {},
    "colab_type": "code",
    "id": "mzOdOY6MiWOb",
    "outputId": "5ca07a6a-fb12-4deb-b0f4-21cdb42ccb7a"
   },
   "outputs": [
    {
     "name": "stdout",
     "output_type": "stream",
     "text": [
      "the type of count vectorizer  <class 'scipy.sparse.csr.csr_matrix'>\n",
      "the shape of out text BOW vectorizer  (4986, 3144)\n",
      "the number of unique words including both unigrams and bigrams  3144\n"
     ]
    }
   ],
   "source": [
    "#bi-gram, tri-gram and n-gram\n",
    "\n",
    "#removing stop words like \"not\" should be avoided before building n-grams\n",
    "# count_vect = CountVectorizer(ngram_range=(1,2))\n",
    "# please do read the CountVectorizer documentation http://scikit-learn.org/stable/modules/generated/sklearn.feature_extraction.text.CountVectorizer.html\n",
    "\n",
    "# you can choose these numebrs min_df=10, max_features=5000, of your choice\n",
    "count_vect = CountVectorizer(ngram_range=(1,2), min_df=10, max_features=5000)\n",
    "final_bigram_counts = count_vect.fit_transform(preprocessed_reviews)\n",
    "print(\"the type of count vectorizer \",type(final_bigram_counts))\n",
    "print(\"the shape of out text BOW vectorizer \",final_bigram_counts.get_shape())\n",
    "print(\"the number of unique words including both unigrams and bigrams \", final_bigram_counts.get_shape()[1])"
   ]
  },
  {
   "cell_type": "markdown",
   "metadata": {
    "colab_type": "text",
    "id": "0tcbbZxSiWOd"
   },
   "source": [
    "## [4.3] TF-IDF"
   ]
  },
  {
   "cell_type": "code",
   "execution_count": 31,
   "metadata": {
    "colab": {},
    "colab_type": "code",
    "id": "mQ3EDEsoiWOd",
    "outputId": "b305ed29-861d-40e9-c1df-b12c4e6492a8"
   },
   "outputs": [
    {
     "name": "stdout",
     "output_type": "stream",
     "text": [
      "the type of count vectorizer  <class 'scipy.sparse.csr.csr_matrix'>\n",
      "the shape of out text TFIDF vectorizer  (59832, 35214)\n",
      "the number of unique words including both unigrams and bigrams  35214\n"
     ]
    }
   ],
   "source": [
    "tf_idf_vect = TfidfVectorizer(ngram_range=(1,2), min_df=10)\n",
    "TFIDF_Train = tf_idf_vect.fit_transform(X_tr)\n",
    "TFIDF_Test = tf_idf_vect.transform(X_test)\n",
    "TFIDF_Validation = tf_idf_vect.transform(X_cv)\n",
    "print(\"the type of count vectorizer \",type(TFIDF_Train))\n",
    "print(\"the shape of out text TFIDF vectorizer \",TFIDF_Train.get_shape())\n",
    "print(\"the number of unique words including both unigrams and bigrams \", TFIDF_Train.get_shape()[1])"
   ]
  },
  {
   "cell_type": "markdown",
   "metadata": {
    "colab_type": "text",
    "id": "u566lt93iWOf"
   },
   "source": [
    "## [4.4] Word2Vec"
   ]
  },
  {
   "cell_type": "code",
   "execution_count": 32,
   "metadata": {
    "colab": {},
    "colab_type": "code",
    "id": "pxlbMwFjiWOg"
   },
   "outputs": [],
   "source": [
    "# Train your own Word2Vec model using your own text corpus\n",
    "i=0\n",
    "list_of_sentance=[]\n",
    "list_of_sentance_cv=[]\n",
    "list_of_sentance_test=[]\n",
    "for sentance in X_tr:\n",
    "    list_of_sentance.append(sentance.split())\n",
    "for sentance in X_cv:\n",
    "    list_of_sentance_cv.append(sentance.split())\n",
    "for sentance in X_test:\n",
    "    list_of_sentance_test.append(sentance.split())"
   ]
  },
  {
   "cell_type": "code",
   "execution_count": 33,
   "metadata": {
    "colab": {},
    "colab_type": "code",
    "id": "NOd5wp0yiWOh",
    "outputId": "ae28439d-438c-4d88-ed12-db5f3317218f",
    "scrolled": true
   },
   "outputs": [
    {
     "name": "stdout",
     "output_type": "stream",
     "text": [
      "[('awesome', 0.821196973323822), ('fantastic', 0.8178302645683289), ('good', 0.8044040203094482), ('wonderful', 0.8031048774719238), ('excellent', 0.7855092883110046), ('terrific', 0.7614560127258301), ('perfect', 0.7441087365150452), ('fabulous', 0.6897355318069458), ('amazing', 0.6886729001998901), ('nice', 0.6685606241226196)]\n",
      "==================================================\n",
      "[('greatest', 0.7765495181083679), ('nastiest', 0.7263230085372925), ('best', 0.6905359029769897), ('softest', 0.6627281904220581), ('disgusting', 0.635009229183197), ('tastiest', 0.621982216835022), ('ive', 0.6203436851501465), ('awful', 0.6192965507507324), ('horrible', 0.6023806929588318), ('terrible', 0.5971200466156006)]\n"
     ]
    }
   ],
   "source": [
    "# Using Google News Word2Vectors\n",
    "\n",
    "# in this project we are using a pretrained model by google\n",
    "# its 3.3G file, once you load this into your memory \n",
    "# it occupies ~9Gb, so please do this step only if you have >12G of ram\n",
    "# we will provide a pickle file wich contains a dict , \n",
    "# and it contains all our courpus words as keys and  model[word] as values\n",
    "# To use this code-snippet, download \"GoogleNews-vectors-negative300.bin\" \n",
    "# from https://drive.google.com/file/d/0B7XkCwpI5KDYNlNUTTlSS21pQmM/edit\n",
    "# it's 1.9GB in size.\n",
    "\n",
    "\n",
    "# http://kavita-ganesan.com/gensim-word2vec-tutorial-starter-code/#.W17SRFAzZPY\n",
    "# you can comment this whole cell\n",
    "# or change these varible according to your need\n",
    "\n",
    "is_your_ram_gt_16g=False\n",
    "want_to_use_google_w2v = False\n",
    "want_to_train_w2v = True\n",
    "\n",
    "if want_to_train_w2v:\n",
    "    # min_count = 5 considers only words that occured atleast 5 times\n",
    "    w2v_model=Word2Vec(list_of_sentance,min_count=5,size=50, workers=4)\n",
    "    print(w2v_model.wv.most_similar('great'))\n",
    "    print('='*50)\n",
    "    print(w2v_model.wv.most_similar('worst'))\n",
    "    \n",
    "elif want_to_use_google_w2v and is_your_ram_gt_16g:\n",
    "    if os.path.isfile('GoogleNews-vectors-negative300.bin'):\n",
    "        w2v_model=KeyedVectors.load_word2vec_format('GoogleNews-vectors-negative300.bin', binary=True)\n",
    "        print(w2v_model.wv.most_similar('great'))\n",
    "        print(w2v_model.wv.most_similar('worst'))\n",
    "    else:\n",
    "        print(\"you don't have gogole's word2vec file, keep want_to_train_w2v = True, to train your own w2v \")"
   ]
  },
  {
   "cell_type": "code",
   "execution_count": 34,
   "metadata": {
    "colab": {},
    "colab_type": "code",
    "id": "teE01Qk2iWOj",
    "outputId": "f063436c-8b62-49d3-e093-723395e66ccd"
   },
   "outputs": [
    {
     "name": "stdout",
     "output_type": "stream",
     "text": [
      "number of words that occured minimum 5 times  14581\n",
      "sample words  ['requires', 'pocket', 'mmmmmmmm', 'reads', 'mentality', 'tremendous', 'stage', 'tinge', 'agent', 'bricks', 'quintessential', 'duh', 'cafeteria', 'behalf', 'haribos', 'bummed', 'rushed', 'amounts', 'larva', 'yg', 'fishy', 'testing', 'kmr', 'fleas', 'brittle', 'lara', 'continuously', 'sourced', 'walls', 'knife', 'breadsticks', 'marketing', 'applaud', 'rabbit', 'hum', 'frequently', 'poppy', 'pearl', 'caff', 'marker', 'quickest', 'beeswax', 'hello', 'tear', 'brie', 'apiece', 'hesitated', 'unpleasant', 'feels', 'persons']\n"
     ]
    }
   ],
   "source": [
    "w2v_words = list(w2v_model.wv.vocab)\n",
    "print(\"number of words that occured minimum 5 times \",len(w2v_words))\n",
    "print(\"sample words \", w2v_words[0:50])"
   ]
  },
  {
   "cell_type": "markdown",
   "metadata": {
    "colab_type": "text",
    "id": "mUNnof40iWOl"
   },
   "source": [
    "## [4.4.1] Converting text into vectors using Avg W2V, TFIDF-W2V"
   ]
  },
  {
   "cell_type": "markdown",
   "metadata": {
    "colab_type": "text",
    "id": "heHLB_FCiWOm"
   },
   "source": [
    "#### [4.4.1.1] Avg W2v"
   ]
  },
  {
   "cell_type": "code",
   "execution_count": 35,
   "metadata": {
    "colab": {},
    "colab_type": "code",
    "id": "iCYoNRANiWOm",
    "outputId": "96ebb104-44d7-4b7d-aa45-62614bbfcf44"
   },
   "outputs": [
    {
     "name": "stderr",
     "output_type": "stream",
     "text": [
      "100%|██████████| 59832/59832 [10:31<00:00, 94.75it/s] \n",
      "100%|██████████| 19945/19945 [03:32<00:00, 94.01it/s] \n",
      "100%|██████████| 19945/19945 [03:29<00:00, 95.05it/s] "
     ]
    },
    {
     "name": "stdout",
     "output_type": "stream",
     "text": [
      "59832\n",
      "50\n"
     ]
    },
    {
     "name": "stderr",
     "output_type": "stream",
     "text": [
      "\n"
     ]
    }
   ],
   "source": [
    "# average Word2Vec\n",
    "# compute average word2vec for each review.\n",
    "sent_vectors = []; # the avg-w2v for each sentence/review is stored in this list\n",
    "for sent in tqdm(list_of_sentance): # for each review/sentence\n",
    "    sent_vec = np.zeros(50) # as word vectors are of zero length 50, you might need to change this to 300 if you use google's w2v\n",
    "    cnt_words =0; # num of words with a valid vector in the sentence/review\n",
    "    for word in sent: # for each word in a review/sentence\n",
    "        if word in w2v_words:\n",
    "            vec = w2v_model.wv[word]\n",
    "            sent_vec += vec\n",
    "            cnt_words += 1\n",
    "    if cnt_words != 0:\n",
    "        sent_vec /= cnt_words\n",
    "    sent_vectors.append(sent_vec)\n",
    "sent_vectors_cv = []; # the avg-w2v for each sentence/review is stored in this list\n",
    "for sent in tqdm(list_of_sentance_cv): # for each review/sentence\n",
    "    sent_vec = np.zeros(50) # as word vectors are of zero length 50, you might need to change this to 300 if you use google's w2v\n",
    "    cnt_words =0; # num of words with a valid vector in the sentence/review\n",
    "    for word in sent: # for each word in a review/sentence\n",
    "        if word in w2v_words:\n",
    "            vec = w2v_model.wv[word]\n",
    "            sent_vec += vec\n",
    "            cnt_words += 1\n",
    "    if cnt_words != 0:\n",
    "        sent_vec /= cnt_words\n",
    "    sent_vectors_cv.append(sent_vec)\n",
    "sent_vectors_test = []; # the avg-w2v for each sentence/review is stored in this list\n",
    "for sent in tqdm(list_of_sentance_test): # for each review/sentence\n",
    "    sent_vec = np.zeros(50) # as word vectors are of zero length 50, you might need to change this to 300 if you use google's w2v\n",
    "    cnt_words =0; # num of words with a valid vector in the sentence/review\n",
    "    for word in sent: # for each word in a review/sentence\n",
    "        if word in w2v_words:\n",
    "            vec = w2v_model.wv[word]\n",
    "            sent_vec += vec\n",
    "            cnt_words += 1\n",
    "    if cnt_words != 0:\n",
    "        sent_vec /= cnt_words\n",
    "    sent_vectors_test.append(sent_vec)\n",
    "print(len(sent_vectors))\n",
    "print(len(sent_vectors[0]))"
   ]
  },
  {
   "cell_type": "markdown",
   "metadata": {
    "colab_type": "text",
    "id": "ylTn3LgiiWOo"
   },
   "source": [
    "#### [4.4.1.2] TFIDF weighted W2v"
   ]
  },
  {
   "cell_type": "code",
   "execution_count": 36,
   "metadata": {
    "colab": {},
    "colab_type": "code",
    "id": "XBxf_qKSiWOo"
   },
   "outputs": [],
   "source": [
    "model = TfidfVectorizer()\n",
    "tf_idf_matrix = model.fit_transform(X_tr)\n",
    "tf_idf_matrix_cv = model.transform(X_cv)\n",
    "tf_idf_matrix_test = model.transform(X_test)\n",
    "# we are converting a dictionary with word as a key, and the idf as a value\n",
    "dictionary = dict(zip(model.get_feature_names(), list(model.idf_)))"
   ]
  },
  {
   "cell_type": "code",
   "execution_count": 37,
   "metadata": {
    "colab": {},
    "colab_type": "code",
    "id": "5FHQMSyUiWOp",
    "outputId": "6b5b71be-e3f7-4933-cd74-f78fb703132d",
    "scrolled": true
   },
   "outputs": [
    {
     "name": "stderr",
     "output_type": "stream",
     "text": [
      "100%|██████████| 59832/59832 [58:20<00:00, 17.09it/s]  \n",
      "100%|██████████| 19945/19945 [23:33<00:00, 14.11it/s]  \n",
      "100%|██████████| 19945/19945 [23:22<00:00, 11.59it/s] \n"
     ]
    }
   ],
   "source": [
    "# TF-IDF weighted Word2Vec\n",
    "tfidf_feat = model.get_feature_names()# tfidf words/col-names\n",
    "# final_tf_idf is the sparse matrix with row= sentence, col=word and cell_val = tfidf\n",
    "\n",
    "tfidf_sent_vectors = []; # the tfidf-w2v for each sentence/review is stored in this list\n",
    "row=0;\n",
    "for sent in tqdm(list_of_sentance): # for each review/sentence \n",
    "    sent_vec = np.zeros(50) # as word vectors are of zero length\n",
    "    weight_sum =0; # num of words with a valid vector in the sentence/review\n",
    "    for word in sent: # for each word in a review/sentence\n",
    "        if word in w2v_words and word in tfidf_feat:\n",
    "            vec = w2v_model.wv[word]\n",
    "#             tf_idf = tf_idf_matrix[row, tfidf_feat.index(word)]\n",
    "            # to reduce the computation we are \n",
    "            # dictionary[word] = idf value of word in whole courpus\n",
    "            # sent.count(word) = tf valeus of word in this review\n",
    "            tf_idf = dictionary[word]*(sent.count(word)/len(sent))\n",
    "            sent_vec += (vec * tf_idf)\n",
    "            weight_sum += tf_idf\n",
    "    if weight_sum != 0:\n",
    "        sent_vec /= weight_sum\n",
    "    tfidf_sent_vectors.append(sent_vec)\n",
    "    row += 1\n",
    "tfidf_sent_vectors_cv = []; # the tfidf-w2v for each sentence/review is stored in this list\n",
    "row=0;\n",
    "for sent in tqdm(list_of_sentance_cv): # for each review/sentence \n",
    "    sent_vec = np.zeros(50) # as word vectors are of zero length\n",
    "    weight_sum =0; # num of words with a valid vector in the sentence/review\n",
    "    for word in sent: # for each word in a review/sentence\n",
    "        if word in w2v_words and word in tfidf_feat:\n",
    "            vec = w2v_model.wv[word]\n",
    "#             tf_idf = tf_idf_matrix[row, tfidf_feat.index(word)]\n",
    "            # to reduce the computation we are \n",
    "            # dictionary[word] = idf value of word in whole courpus\n",
    "            # sent.count(word) = tf valeus of word in this review\n",
    "            tf_idf = dictionary[word]*(sent.count(word)/len(sent))\n",
    "            sent_vec += (vec * tf_idf)\n",
    "            weight_sum += tf_idf\n",
    "    if weight_sum != 0:\n",
    "        sent_vec /= weight_sum\n",
    "    tfidf_sent_vectors_cv.append(sent_vec)\n",
    "    row += 1\n",
    "tfidf_sent_vectors_test = []; # the tfidf-w2v for each sentence/review is stored in this list\n",
    "row=0;\n",
    "for sent in tqdm(list_of_sentance_test): # for each review/sentence \n",
    "    sent_vec = np.zeros(50) # as word vectors are of zero length\n",
    "    weight_sum =0; # num of words with a valid vector in the sentence/review\n",
    "    for word in sent: # for each word in a review/sentence\n",
    "        if word in w2v_words and word in tfidf_feat:\n",
    "            vec = w2v_model.wv[word]\n",
    "#             tf_idf = tf_idf_matrix[row, tfidf_feat.index(word)]\n",
    "            # to reduce the computation we are \n",
    "            # dictionary[word] = idf value of word in whole courpus\n",
    "            # sent.count(word) = tf valeus of word in this review\n",
    "            tf_idf = dictionary[word]*(sent.count(word)/len(sent))\n",
    "            sent_vec += (vec * tf_idf)\n",
    "            weight_sum += tf_idf\n",
    "    if weight_sum != 0:\n",
    "        sent_vec /= weight_sum\n",
    "    tfidf_sent_vectors_test.append(sent_vec)\n",
    "    row += 1"
   ]
  },
  {
   "cell_type": "markdown",
   "metadata": {
    "colab_type": "text",
    "id": "IwObBT2UiWOr"
   },
   "source": [
    "# [5] Assignment 8: Decision Trees"
   ]
  },
  {
   "cell_type": "markdown",
   "metadata": {
    "colab_type": "text",
    "id": "k_mwmumRiWOr"
   },
   "source": [
    "<ol>\n",
    "    <li><strong>Apply Decision Trees on these feature sets</strong>\n",
    "        <ul>\n",
    "            <li><font color='red'>SET 1:</font>Review text, preprocessed one converted into vectors using (BOW)</li>\n",
    "            <li><font color='red'>SET 2:</font>Review text, preprocessed one converted into vectors using (TFIDF)</li>\n",
    "            <li><font color='red'>SET 3:</font>Review text, preprocessed one converted into vectors using (AVG W2v)</li>\n",
    "            <li><font color='red'>SET 4:</font>Review text, preprocessed one converted into vectors using (TFIDF W2v)</li>\n",
    "        </ul>\n",
    "    </li>\n",
    "    <br>\n",
    "    <li><strong>The hyper paramter tuning (best `depth` in range [1, 5, 10, 50, 100, 500, 100], and the best `min_samples_split` in range [5, 10, 100, 500])</strong>\n",
    "        <ul>\n",
    "    <li>Find the best hyper parameter which will give the maximum <a href='https://www.appliedaicourse.com/course/applied-ai-course-online/lessons/receiver-operating-characteristic-curve-roc-curve-and-auc-1/'>AUC</a> value</li>\n",
    "    <li>Find the best hyper paramter using k-fold cross validation or simple cross validation data</li>\n",
    "    <li>Use gridsearch cv or randomsearch cv or you can also write your own for loops to do this task of hyperparameter tuning</li>          \n",
    "        </ul>\n",
    "    </li>\n",
    "    <br>\n",
    "    <li><strong>Graphviz</strong>\n",
    "        <ul>\n",
    "    <li>Visualize your decision tree with Graphviz. It helps you to understand how a decision is being made, given a new vector.</li>\n",
    "    <li>Since feature names are not obtained from word2vec related models, visualize only BOW & TFIDF decision trees using Graphviz</li>\n",
    "    <li>Make sure to print the words in each node of the decision tree instead of printing its index.</li>\n",
    "    <li>Just for visualization purpose, limit max_depth to 2 or 3 and either embed the generated images of graphviz in your notebook, or directly upload them as .png files.</li>                \n",
    "        </ul>\n",
    "    </li>\n",
    "    <br>\n",
    "    <li><strong>Feature importance</strong>\n",
    "        <ul>\n",
    "    <li>Find the top 20 important features from both feature sets <font color='red'>Set 1</font> and <font color='red'>Set 2</font> using `feature_importances_` method of <a href='https://scikit-learn.org/stable/modules/generated/sklearn.tree.DecisionTreeClassifier.html'>Decision Tree Classifier</a> and print their corresponding feature names</li>\n",
    "        </ul>\n",
    "    </li>\n",
    "    <br>\n",
    "    <li><strong>Feature engineering</strong>\n",
    "        <ul>\n",
    "    <li>To increase the performance of your model, you can also experiment with with feature engineering like :</li>\n",
    "            <ul>\n",
    "            <li>Taking length of reviews as another feature.</li>\n",
    "            <li>Considering some features from review summary as well.</li>\n",
    "        </ul>\n",
    "        </ul>\n",
    "    </li>\n",
    "    <br>\n",
    "    <li><strong>Representation of results</strong>\n",
    "        <ul>\n",
    "    <li>You need to plot the performance of model both on train data and cross validation data for each hyper parameter, like shown in the figure.\n",
    "    <img src='train_cv_auc.JPG' width=300px></li>\n",
    "    <li>Once after you found the best hyper parameter, you need to train your model with it, and find the AUC on test data and plot the ROC curve on both train and test.\n",
    "    <img src='train_test_auc.JPG' width=300px></li>\n",
    "    <li>Along with plotting ROC curve, you need to print the <a href='https://www.appliedaicourse.com/course/applied-ai-course-online/lessons/confusion-matrix-tpr-fpr-fnr-tnr-1/'>confusion matrix</a> with predicted and original labels of test data points. Please visualize your confusion matrices using <a href='https://seaborn.pydata.org/generated/seaborn.heatmap.html'>seaborn heatmaps.\n",
    "    <img src='confusion_matrix.png' width=300px></li>\n",
    "        </ul>\n",
    "    </li>\n",
    "    <br>\n",
    "    <li><strong>Conclusion</strong>\n",
    "        <ul>\n",
    "    <li>You need to summarize the results at the end of the notebook, summarize it in the table format. To print out a table please refer to this prettytable library<a href='http://zetcode.com/python/prettytable/'>  link</a> \n",
    "        <img src='summary.JPG' width=400px>\n",
    "    </li>\n",
    "        </ul>\n",
    "</ol>"
   ]
  },
  {
   "cell_type": "markdown",
   "metadata": {
    "colab_type": "text",
    "id": "uqhvv_IiiWOs"
   },
   "source": [
    "<h4><font color='red'>Note: Data Leakage</font></h4>\n",
    "\n",
    "1. There will be an issue of data-leakage if you vectorize the entire data and then split it into train/cv/test.\n",
    "2. To avoid the issue of data-leakag, make sure to split your data first and then vectorize it. \n",
    "3. While vectorizing your data, apply the method fit_transform() on you train data, and apply the method transform() on cv/test data.\n",
    "4. For more details please go through this <a href='https://soundcloud.com/applied-ai-course/leakage-bow-and-tfidf'>link.</a>"
   ]
  },
  {
   "cell_type": "markdown",
   "metadata": {
    "colab_type": "text",
    "id": "ayLYlocviWOs"
   },
   "source": [
    "# Applying Decision Trees"
   ]
  },
  {
   "cell_type": "markdown",
   "metadata": {
    "colab_type": "text",
    "id": "fvKQwJMWiWOt"
   },
   "source": [
    "## [5.1] Applying Decision Trees on BOW,<font color='red'> SET 1</font>"
   ]
  },
  {
   "cell_type": "code",
   "execution_count": 39,
   "metadata": {
    "colab": {},
    "colab_type": "code",
    "id": "vnSi4W-iiWOt"
   },
   "outputs": [
    {
     "name": "stdout",
     "output_type": "stream",
     "text": [
      "[0.7102287347535805, 0.7102735983760587, 0.7116340566246048, 0.7116126100929957, 0.7119474016401816, 0.711416872395976]    [0.7047000868276412, 0.7048895961099575, 0.7059986978786693, 0.7061076082042369, 0.7055622866978029, 0.704717014991516]\n",
      "[0.7403161081822004, 0.7452819978849052, 0.7694547063822865, 0.7699419125471645, 0.7686721490798217, 0.7671467754782769]    [0.7343338229516794, 0.7355505244193025, 0.755384714199802, 0.758150933818743, 0.7588061646598742, 0.7577917854540458]\n",
      "[0.44464578174444674, 0.5019907574925818, 0.6654513962602209, 0.7194987485904969, 0.8516081704897813, 0.8484215966448054]    [0.4639402155542752, 0.49117592649756414, 0.6421001125929116, 0.6966191203088548, 0.8328267471074928, 0.8294527908245722]\n",
      "[0.3793817806599712, 0.44107315884949566, 0.619649044439493, 0.6946711172081551, 0.8452728965730679, 0.8449037882791051]    [0.40001578434424745, 0.4281552044452937, 0.5939283781209594, 0.6663231236188929, 0.825772963608792, 0.8261255038488797]\n",
      "[0.5408999886484097, 0.5847263642584637, 0.6996546438337298, 0.7495309672344008, 0.8644896067819969, 0.8604087831249653]    [0.5098096464174909, 0.5290246063464099, 0.6379112398168891, 0.6874191077561675, 0.812952917744558, 0.8133525397268352]\n",
      "[0.539618889246679, 0.5844948652945311, 0.7009060032378125, 0.7364635312313395, 0.8645327566024067, 0.8598176863204486]    [0.5075835149635803, 0.5298639389892477, 0.6381154776099508, 0.6760563320901383, 0.811267525186395, 0.8138054574713931]\n"
     ]
    }
   ],
   "source": [
    "# Please write all the code with proper documentation\n",
    "depth  =[5,10,50,100,500,1000]\n",
    "split = [5,10,50,100,500,1000]\n",
    "BOW_Train_score = []\n",
    "BOW_val_score = []\n",
    "for i in depth:\n",
    "    bow_tr = []\n",
    "    bow_val = []\n",
    "    for j in split:\n",
    "        model= DecisionTreeClassifier(max_depth=i,min_samples_split=j)\n",
    "        model.fit(BOW_Train,y_tr)\n",
    "        train_data = model.predict_log_proba(BOW_Train)[:,1]\n",
    "        val_data = model.predict_log_proba(BOW_CV)[:,1]\n",
    "        train_data[np.isinf(train_data)]=0\n",
    "        train_data[np.isnan(train_data)]=0\n",
    "        val_data[np.isinf(val_data)]=0\n",
    "        val_data[np.isnan(val_data)]=0\n",
    "        \n",
    "        bow_tr.append(roc_auc_score(np.asarray(y_tr),np.asarray(train_data)))\n",
    "        bow_val.append(roc_auc_score(np.asarray(y_cv),np.asarray(val_data)))\n",
    "    print(str(bow_tr)+\"    \"+str(bow_val))\n",
    "    BOW_Train_score.append(bow_tr)\n",
    "    BOW_val_score.append(bow_val)\n",
    "    "
   ]
  },
  {
   "cell_type": "code",
   "execution_count": 55,
   "metadata": {},
   "outputs": [
    {
     "data": {
      "text/plain": [
       "<matplotlib.axes._subplots.AxesSubplot at 0x7f8e7f1a7f28>"
      ]
     },
     "execution_count": 55,
     "metadata": {},
     "output_type": "execute_result"
    },
    {
     "data": {
      "image/png": "[encoded data removed]",
      "text/plain": [
       "<Figure size 432x288 with 2 Axes>"
      ]
     },
     "metadata": {},
     "output_type": "display_data"
    }
   ],
   "source": [
    "\n",
    "df  = pd.DataFrame(BOW_Train_score,index = depth,columns=split)\n",
    "df2 = pd.DataFrame(BOW_val_score,index = depth,columns=split)\n",
    "sns.heatmap(df, annot= True, fmt=\"f\", cmap=\"YlGnBu\")\n",
    "\n"
   ]
  },
  {
   "cell_type": "code",
   "execution_count": 56,
   "metadata": {},
   "outputs": [
    {
     "data": {
      "text/plain": [
       "<matplotlib.axes._subplots.AxesSubplot at 0x7f8e7f0944e0>"
      ]
     },
     "execution_count": 56,
     "metadata": {},
     "output_type": "execute_result"
    },
    {
     "data": {
      "image/png": "[encoded data removed]",
      "text/plain": [
       "<Figure size 432x288 with 2 Axes>"
      ]
     },
     "metadata": {},
     "output_type": "display_data"
    }
   ],
   "source": [
    "sns.heatmap(df2, annot= True, fmt=\"f\", cmap=\"YlGnBu\")"
   ]
  },
  {
   "cell_type": "code",
   "execution_count": 49,
   "metadata": {},
   "outputs": [],
   "source": [
    "best_depth = 50\n",
    "best_split = 500"
   ]
  },
  {
   "cell_type": "markdown",
   "metadata": {},
   "source": [
    "### Testing on test data"
   ]
  },
  {
   "cell_type": "code",
   "execution_count": 81,
   "metadata": {},
   "outputs": [
    {
     "data": {
      "image/png": "[encoded data removed]",
      "text/plain": [
       "<Figure size 432x288 with 1 Axes>"
      ]
     },
     "metadata": {},
     "output_type": "display_data"
    }
   ],
   "source": [
    "model= DecisionTreeClassifier(max_depth=best_depth,min_samples_split=best_split)\n",
    "model.fit(BOW_Train,y_tr)\n",
    "train_pred = model.predict_log_proba(BOW_Train)[:,1]\n",
    "test_pred = model.predict_log_proba(BOW_test)[:,1]\n",
    "train_pred[np.isinf(train_pred)]=0\n",
    "train_pred[np.isnan(train_pred)]=0\n",
    "test_pred[np.isinf(test_pred)]=0\n",
    "test_pred[np.isnan(test_pred)]=0\n",
    "train_fpr, train_tpr, thresholds = roc_curve(y_tr, train_pred)\n",
    "test_fpr, test_tpr, thresholds = roc_curve(y_test, test_pred)\n",
    "\n",
    "plt.plot(train_fpr, train_tpr, label=\"train AUC =\"+str(auc(train_fpr, train_tpr)))\n",
    "plt.plot(test_fpr, test_tpr, label=\"test AUC =\"+str(auc(test_fpr, test_tpr)))\n",
    "plt.plot([0.0,1.0],[0.0,1.0])\n",
    "plt.legend()\n",
    "plt.xlabel(\"alpha: hyperparameter\")\n",
    "plt.ylabel(\"AUC\")\n",
    "plt.title(\"ERROR PLOTS\")\n",
    "plt.show()\n",
    "\n",
    "        "
   ]
  },
  {
   "cell_type": "markdown",
   "metadata": {},
   "source": [
    "### Confusion Matrix"
   ]
  },
  {
   "cell_type": "code",
   "execution_count": 57,
   "metadata": {},
   "outputs": [
    {
     "data": {
      "text/plain": [
       "<matplotlib.axes._subplots.AxesSubplot at 0x7f8e7f0377b8>"
      ]
     },
     "execution_count": 57,
     "metadata": {},
     "output_type": "execute_result"
    },
    {
     "data": {
      "image/png": "[encoded data removed]",
      "text/plain": [
       "<Figure size 432x288 with 2 Axes>"
      ]
     },
     "metadata": {},
     "output_type": "display_data"
    }
   ],
   "source": [
    "ytrain = model.predict(BOW_Train)\n",
    "ytest = model.predict(BOW_test)\n",
    "ctrain = confusion_matrix(y_tr,ytrain)\n",
    "ctest = confusion_matrix(y_test,ytest)\n",
    "class_label=[\"No\",\"Yes\"]\n",
    "df = pd.DataFrame(ctest, index=class_label, columns=class_label)\n",
    "sns.heatmap(df, annot= True, fmt=\"d\", cmap=\"YlGnBu\")\n"
   ]
  },
  {
   "cell_type": "code",
   "execution_count": 58,
   "metadata": {},
   "outputs": [
    {
     "data": {
      "text/plain": [
       "<matplotlib.axes._subplots.AxesSubplot at 0x7f8e7effbac8>"
      ]
     },
     "execution_count": 58,
     "metadata": {},
     "output_type": "execute_result"
    },
    {
     "data": {
      "image/png": "[encoded data removed]",
      "text/plain": [
       "<Figure size 432x288 with 2 Axes>"
      ]
     },
     "metadata": {},
     "output_type": "display_data"
    }
   ],
   "source": [
    "df = pd.DataFrame(ctrain, index=class_label, columns=class_label)\n",
    "sns.heatmap(df, annot= True, fmt=\"d\", cmap=\"YlGnBu\")\n"
   ]
  },
  {
   "cell_type": "markdown",
   "metadata": {
    "colab_type": "text",
    "id": "jm4vkPwMiWOu"
   },
   "source": [
    "### [5.1.1] Top 20 important features from<font color='red'> SET 1</font>"
   ]
  },
  {
   "cell_type": "code",
   "execution_count": 87,
   "metadata": {
    "colab": {},
    "colab_type": "code",
    "id": "puCcjOAkiWOv"
   },
   "outputs": [
    {
     "name": "stdout",
     "output_type": "stream",
     "text": [
      "[(27089, 0.10164339719737056), (17462, 0.05800728633271654), (11340, 0.047599342005398046), (45174, 0.04308265280904299), (44200, 0.03522560134606249), (2738, 0.03047867970618844), (33890, 0.024437884554222595), (10484, 0.022705896772071504), (3704, 0.02209907236594975), (23529, 0.020222590452375826), (17089, 0.018342513508168946), (19175, 0.01686457125835333), (11343, 0.016781086216510015), (29557, 0.016651651962431145), (2867, 0.015948456210760995), (23547, 0.015482310894936123), (11345, 0.014337430343554003), (41013, 0.012920022239641756), (40463, 0.012870428423964315), (14496, 0.011777386920358375)]\n",
      " So the top 10 features of positive class are--\n",
      "feature name : not , value : 0.101643\n",
      "feature name : great , value : 0.058007\n",
      "feature name : disappointed , value : 0.047599\n",
      "feature name : worst , value : 0.043083\n",
      "feature name : waste , value : 0.035226\n",
      "feature name : awful , value : 0.030479\n",
      "feature name : return , value : 0.024438\n",
      "feature name : delicious , value : 0.022706\n",
      "feature name : best , value : 0.022099\n",
      "feature name : love , value : 0.020223\n",
      "feature name : good , value : 0.018343\n",
      "feature name : horrible , value : 0.016865\n",
      "feature name : disappointing , value : 0.016781\n",
      "feature name : perfect , value : 0.016652\n",
      "feature name : bad , value : 0.015948\n",
      "feature name : loves , value : 0.015482\n",
      "feature name : disappointment , value : 0.014337\n",
      "feature name : threw , value : 0.012920\n",
      "feature name : terrible , value : 0.012870\n",
      "feature name : favorite , value : 0.011777\n"
     ]
    }
   ],
   "source": [
    "# Please write all the code with proper documentation\n",
    "a = model.feature_importances_\n",
    "b= []\n",
    "for i in range(45884):\n",
    "        b.append((i,a[i]))\n",
    "b =  sorted(b,key= lambda x: x[1],reverse=True)\n",
    "b = b[0:20]\n",
    "print(b)\n",
    "print(\" So the top 10 features of positive class are--\")\n",
    "for i in range(0,20):\n",
    "    print(\"feature name : %s , value : %f\"%(count_vect.get_feature_names()[b[i][0]],b[i][1]))"
   ]
  },
  {
   "cell_type": "markdown",
   "metadata": {
    "colab_type": "text",
    "id": "7JyitDTTiWOx"
   },
   "source": [
    "### [5.1.2] Graphviz visualization of Decision Tree on BOW,<font color='red'> SET 1</font>"
   ]
  },
  {
   "cell_type": "code",
   "execution_count": 152,
   "metadata": {
    "colab": {},
    "colab_type": "code",
    "id": "-jxU7zrAiWOy"
   },
   "outputs": [
    {
     "data": {
      "image/svg+xml": [
       "<svg height=\"520pt\" viewBox=\"0.00 0.00 896.50 520.00\" width=\"897pt\" xmlns=\"http://www.w3.org/2000/svg\" xmlns:xlink=\"http://www.w3.org/1999/xlink\">\n",
       "<g class=\"graph\" id=\"graph0\" transform=\"scale(1 1) rotate(0) translate(4 516)\">\n",
       "<title>Tree</title>\n",
       "<polygon fill=\"white\" points=\"-4,4 -4,-516 892.5,-516 892.5,4 -4,4\" stroke=\"none\"/>\n",
       "<!-- 0 -->\n",
       "<g class=\"node\" id=\"node1\"><title>0</title>\n",
       "<path d=\"M507,-512C507,-512 384,-512 384,-512 378,-512 372,-506 372,-500 372,-500 372,-441 372,-441 372,-435 378,-429 384,-429 384,-429 507,-429 507,-429 513,-429 519,-435 519,-441 519,-441 519,-500 519,-500 519,-506 513,-512 507,-512\" fill=\"#399de5\" fill-opacity=\"0.811765\" stroke=\"black\"/>\n",
       "<text font-family=\"Helvetica,sans-Serif\" font-size=\"14.00\" text-anchor=\"start\" x=\"418.5\" y=\"-496.8\">not ≤ 0.5</text>\n",
       "<text font-family=\"Helvetica,sans-Serif\" font-size=\"14.00\" text-anchor=\"start\" x=\"410\" y=\"-481.8\">gini = 0.267</text>\n",
       "<text font-family=\"Helvetica,sans-Serif\" font-size=\"14.00\" text-anchor=\"start\" x=\"393\" y=\"-466.8\">samples = 59832</text>\n",
       "<text font-family=\"Helvetica,sans-Serif\" font-size=\"14.00\" text-anchor=\"start\" x=\"380\" y=\"-451.8\">value = [9491, 50341]</text>\n",
       "<text font-family=\"Helvetica,sans-Serif\" font-size=\"14.00\" text-anchor=\"start\" x=\"395.5\" y=\"-436.8\">class = Negative</text>\n",
       "</g>\n",
       "<!-- 1 -->\n",
       "<g class=\"node\" id=\"node2\"><title>1</title>\n",
       "<path d=\"M425,-393C425,-393 302,-393 302,-393 296,-393 290,-387 290,-381 290,-381 290,-322 290,-322 290,-316 296,-310 302,-310 302,-310 425,-310 425,-310 431,-310 437,-316 437,-322 437,-322 437,-381 437,-381 437,-387 431,-393 425,-393\" fill=\"#399de5\" fill-opacity=\"0.905882\" stroke=\"black\"/>\n",
       "<text font-family=\"Helvetica,sans-Serif\" font-size=\"14.00\" text-anchor=\"start\" x=\"307.5\" y=\"-377.8\">disappointed ≤ 0.5</text>\n",
       "<text font-family=\"Helvetica,sans-Serif\" font-size=\"14.00\" text-anchor=\"start\" x=\"328\" y=\"-362.8\">gini = 0.156</text>\n",
       "<text font-family=\"Helvetica,sans-Serif\" font-size=\"14.00\" text-anchor=\"start\" x=\"311\" y=\"-347.8\">samples = 27158</text>\n",
       "<text font-family=\"Helvetica,sans-Serif\" font-size=\"14.00\" text-anchor=\"start\" x=\"298\" y=\"-332.8\">value = [2319, 24839]</text>\n",
       "<text font-family=\"Helvetica,sans-Serif\" font-size=\"14.00\" text-anchor=\"start\" x=\"313.5\" y=\"-317.8\">class = Negative</text>\n",
       "</g>\n",
       "<!-- 0&#45;&gt;1 -->\n",
       "<g class=\"edge\" id=\"edge1\"><title>0-&gt;1</title>\n",
       "<path d=\"M417.051,-428.907C410.817,-420.014 404.156,-410.509 397.723,-401.331\" fill=\"none\" stroke=\"black\"/>\n",
       "<polygon fill=\"black\" points=\"400.505,-399.201 391.899,-393.021 394.772,-403.219 400.505,-399.201\" stroke=\"black\"/>\n",
       "<text font-family=\"Helvetica,sans-Serif\" font-size=\"14.00\" text-anchor=\"middle\" x=\"387.569\" y=\"-413.943\">True</text>\n",
       "</g>\n",
       "<!-- 428 -->\n",
       "<g class=\"node\" id=\"node9\"><title>428</title>\n",
       "<path d=\"M590,-393C590,-393 467,-393 467,-393 461,-393 455,-387 455,-381 455,-381 455,-322 455,-322 455,-316 461,-310 467,-310 467,-310 590,-310 590,-310 596,-310 602,-316 602,-322 602,-322 602,-381 602,-381 602,-387 596,-393 590,-393\" fill=\"#399de5\" fill-opacity=\"0.717647\" stroke=\"black\"/>\n",
       "<text font-family=\"Helvetica,sans-Serif\" font-size=\"14.00\" text-anchor=\"start\" x=\"495.5\" y=\"-377.8\">great ≤ 0.5</text>\n",
       "<text font-family=\"Helvetica,sans-Serif\" font-size=\"14.00\" text-anchor=\"start\" x=\"493\" y=\"-362.8\">gini = 0.343</text>\n",
       "<text font-family=\"Helvetica,sans-Serif\" font-size=\"14.00\" text-anchor=\"start\" x=\"476\" y=\"-347.8\">samples = 32674</text>\n",
       "<text font-family=\"Helvetica,sans-Serif\" font-size=\"14.00\" text-anchor=\"start\" x=\"463\" y=\"-332.8\">value = [7172, 25502]</text>\n",
       "<text font-family=\"Helvetica,sans-Serif\" font-size=\"14.00\" text-anchor=\"start\" x=\"478.5\" y=\"-317.8\">class = Negative</text>\n",
       "</g>\n",
       "<!-- 0&#45;&gt;428 -->\n",
       "<g class=\"edge\" id=\"edge8\"><title>0-&gt;428</title>\n",
       "<path d=\"M474.296,-428.907C480.606,-420.014 487.348,-410.509 493.859,-401.331\" fill=\"none\" stroke=\"black\"/>\n",
       "<polygon fill=\"black\" points=\"496.823,-403.202 499.754,-393.021 491.114,-399.152 496.823,-403.202\" stroke=\"black\"/>\n",
       "<text font-family=\"Helvetica,sans-Serif\" font-size=\"14.00\" text-anchor=\"middle\" x=\"503.944\" y=\"-413.967\">False</text>\n",
       "</g>\n",
       "<!-- 2 -->\n",
       "<g class=\"node\" id=\"node3\"><title>2</title>\n",
       "<path d=\"M274,-274C274,-274 151,-274 151,-274 145,-274 139,-268 139,-262 139,-262 139,-203 139,-203 139,-197 145,-191 151,-191 151,-191 274,-191 274,-191 280,-191 286,-197 286,-203 286,-203 286,-262 286,-262 286,-268 280,-274 274,-274\" fill=\"#399de5\" fill-opacity=\"0.913725\" stroke=\"black\"/>\n",
       "<text font-family=\"Helvetica,sans-Serif\" font-size=\"14.00\" text-anchor=\"start\" x=\"179\" y=\"-258.8\">worst ≤ 0.5</text>\n",
       "<text font-family=\"Helvetica,sans-Serif\" font-size=\"14.00\" text-anchor=\"start\" x=\"177\" y=\"-243.8\">gini = 0.146</text>\n",
       "<text font-family=\"Helvetica,sans-Serif\" font-size=\"14.00\" text-anchor=\"start\" x=\"160\" y=\"-228.8\">samples = 26859</text>\n",
       "<text font-family=\"Helvetica,sans-Serif\" font-size=\"14.00\" text-anchor=\"start\" x=\"147\" y=\"-213.8\">value = [2134, 24725]</text>\n",
       "<text font-family=\"Helvetica,sans-Serif\" font-size=\"14.00\" text-anchor=\"start\" x=\"162.5\" y=\"-198.8\">class = Negative</text>\n",
       "</g>\n",
       "<!-- 1&#45;&gt;2 -->\n",
       "<g class=\"edge\" id=\"edge2\"><title>1-&gt;2</title>\n",
       "<path d=\"M311.111,-309.907C298.813,-300.379 285.61,-290.148 272.99,-280.37\" fill=\"none\" stroke=\"black\"/>\n",
       "<polygon fill=\"black\" points=\"274.845,-277.379 264.796,-274.021 270.557,-282.912 274.845,-277.379\" stroke=\"black\"/>\n",
       "</g>\n",
       "<!-- 427 -->\n",
       "<g class=\"node\" id=\"node8\"><title>427</title>\n",
       "<path d=\"M417,-266.5C417,-266.5 316,-266.5 316,-266.5 310,-266.5 304,-260.5 304,-254.5 304,-254.5 304,-210.5 304,-210.5 304,-204.5 310,-198.5 316,-198.5 316,-198.5 417,-198.5 417,-198.5 423,-198.5 429,-204.5 429,-210.5 429,-210.5 429,-254.5 429,-254.5 429,-260.5 423,-266.5 417,-266.5\" fill=\"#e58139\" fill-opacity=\"0.384314\" stroke=\"black\"/>\n",
       "<text font-family=\"Helvetica,sans-Serif\" font-size=\"14.00\" text-anchor=\"start\" x=\"331\" y=\"-251.3\">gini = 0.472</text>\n",
       "<text font-family=\"Helvetica,sans-Serif\" font-size=\"14.00\" text-anchor=\"start\" x=\"321.5\" y=\"-236.3\">samples = 299</text>\n",
       "<text font-family=\"Helvetica,sans-Serif\" font-size=\"14.00\" text-anchor=\"start\" x=\"312\" y=\"-221.3\">value = [185, 114]</text>\n",
       "<text font-family=\"Helvetica,sans-Serif\" font-size=\"14.00\" text-anchor=\"start\" x=\"319.5\" y=\"-206.3\">class = Positive</text>\n",
       "</g>\n",
       "<!-- 1&#45;&gt;427 -->\n",
       "<g class=\"edge\" id=\"edge7\"><title>1-&gt;427</title>\n",
       "<path d=\"M364.541,-309.907C364.815,-299.204 365.112,-287.615 365.39,-276.776\" fill=\"none\" stroke=\"black\"/>\n",
       "<polygon fill=\"black\" points=\"368.892,-276.753 365.65,-266.667 361.894,-276.574 368.892,-276.753\" stroke=\"black\"/>\n",
       "</g>\n",
       "<!-- 3 -->\n",
       "<g class=\"node\" id=\"node4\"><title>3</title>\n",
       "<path d=\"M135,-155C135,-155 12,-155 12,-155 6,-155 0,-149 0,-143 0,-143 0,-84 0,-84 0,-78 6,-72 12,-72 12,-72 135,-72 135,-72 141,-72 147,-78 147,-84 147,-84 147,-143 147,-143 147,-149 141,-155 135,-155\" fill=\"#399de5\" fill-opacity=\"0.917647\" stroke=\"black\"/>\n",
       "<text font-family=\"Helvetica,sans-Serif\" font-size=\"14.00\" text-anchor=\"start\" x=\"16\" y=\"-139.8\">disappointing ≤ 0.5</text>\n",
       "<text font-family=\"Helvetica,sans-Serif\" font-size=\"14.00\" text-anchor=\"start\" x=\"38\" y=\"-124.8\">gini = 0.142</text>\n",
       "<text font-family=\"Helvetica,sans-Serif\" font-size=\"14.00\" text-anchor=\"start\" x=\"21\" y=\"-109.8\">samples = 26768</text>\n",
       "<text font-family=\"Helvetica,sans-Serif\" font-size=\"14.00\" text-anchor=\"start\" x=\"8\" y=\"-94.8\">value = [2059, 24709]</text>\n",
       "<text font-family=\"Helvetica,sans-Serif\" font-size=\"14.00\" text-anchor=\"start\" x=\"23.5\" y=\"-79.8\">class = Negative</text>\n",
       "</g>\n",
       "<!-- 2&#45;&gt;3 -->\n",
       "<g class=\"edge\" id=\"edge3\"><title>2-&gt;3</title>\n",
       "<path d=\"M164.275,-190.907C153.062,-181.469 141.031,-171.343 129.515,-161.649\" fill=\"none\" stroke=\"black\"/>\n",
       "<polygon fill=\"black\" points=\"131.545,-158.783 121.64,-155.021 127.037,-164.138 131.545,-158.783\" stroke=\"black\"/>\n",
       "</g>\n",
       "<!-- 426 -->\n",
       "<g class=\"node\" id=\"node7\"><title>426</title>\n",
       "<path d=\"M263.5,-147.5C263.5,-147.5 177.5,-147.5 177.5,-147.5 171.5,-147.5 165.5,-141.5 165.5,-135.5 165.5,-135.5 165.5,-91.5 165.5,-91.5 165.5,-85.5 171.5,-79.5 177.5,-79.5 177.5,-79.5 263.5,-79.5 263.5,-79.5 269.5,-79.5 275.5,-85.5 275.5,-91.5 275.5,-91.5 275.5,-135.5 275.5,-135.5 275.5,-141.5 269.5,-147.5 263.5,-147.5\" fill=\"#e58139\" fill-opacity=\"0.788235\" stroke=\"black\"/>\n",
       "<text font-family=\"Helvetica,sans-Serif\" font-size=\"14.00\" text-anchor=\"start\" x=\"188.5\" y=\"-132.3\">gini = 0.29</text>\n",
       "<text font-family=\"Helvetica,sans-Serif\" font-size=\"14.00\" text-anchor=\"start\" x=\"179.5\" y=\"-117.3\">samples = 91</text>\n",
       "<text font-family=\"Helvetica,sans-Serif\" font-size=\"14.00\" text-anchor=\"start\" x=\"173.5\" y=\"-102.3\">value = [75, 16]</text>\n",
       "<text font-family=\"Helvetica,sans-Serif\" font-size=\"14.00\" text-anchor=\"start\" x=\"173.5\" y=\"-87.3\">class = Positive</text>\n",
       "</g>\n",
       "<!-- 2&#45;&gt;426 -->\n",
       "<g class=\"edge\" id=\"edge6\"><title>2-&gt;426</title>\n",
       "<path d=\"M215.276,-190.907C216.007,-180.204 216.8,-168.615 217.541,-157.776\" fill=\"none\" stroke=\"black\"/>\n",
       "<polygon fill=\"black\" points=\"221.042,-157.882 218.232,-147.667 214.058,-157.405 221.042,-157.882\" stroke=\"black\"/>\n",
       "</g>\n",
       "<!-- 4 -->\n",
       "<g class=\"node\" id=\"node5\"><title>4</title>\n",
       "<path d=\"M52.5,-36C52.5,-36 22.5,-36 22.5,-36 16.5,-36 10.5,-30 10.5,-24 10.5,-24 10.5,-12 10.5,-12 10.5,-6 16.5,-0 22.5,-0 22.5,-0 52.5,-0 52.5,-0 58.5,-0 64.5,-6 64.5,-12 64.5,-12 64.5,-24 64.5,-24 64.5,-30 58.5,-36 52.5,-36\" fill=\"#c0c0c0\" stroke=\"black\"/>\n",
       "<text font-family=\"Helvetica,sans-Serif\" font-size=\"14.00\" text-anchor=\"middle\" x=\"37.5\" y=\"-14.3\">(...)</text>\n",
       "</g>\n",
       "<!-- 3&#45;&gt;4 -->\n",
       "<g class=\"edge\" id=\"edge4\"><title>3-&gt;4</title>\n",
       "<path d=\"M57.8146,-71.7615C54.4573,-63.0419 50.9907,-54.0385 47.8927,-45.9921\" fill=\"none\" stroke=\"black\"/>\n",
       "<polygon fill=\"black\" points=\"51.0609,-44.4797 44.2014,-36.4051 44.5284,-46.9949 51.0609,-44.4797\" stroke=\"black\"/>\n",
       "</g>\n",
       "<!-- 425 -->\n",
       "<g class=\"node\" id=\"node6\"><title>425</title>\n",
       "<path d=\"M124.5,-36C124.5,-36 94.5,-36 94.5,-36 88.5,-36 82.5,-30 82.5,-24 82.5,-24 82.5,-12 82.5,-12 82.5,-6 88.5,-0 94.5,-0 94.5,-0 124.5,-0 124.5,-0 130.5,-0 136.5,-6 136.5,-12 136.5,-12 136.5,-24 136.5,-24 136.5,-30 130.5,-36 124.5,-36\" fill=\"#c0c0c0\" stroke=\"black\"/>\n",
       "<text font-family=\"Helvetica,sans-Serif\" font-size=\"14.00\" text-anchor=\"middle\" x=\"109.5\" y=\"-14.3\">(...)</text>\n",
       "</g>\n",
       "<!-- 3&#45;&gt;425 -->\n",
       "<g class=\"edge\" id=\"edge5\"><title>3-&gt;425</title>\n",
       "<path d=\"M89.1854,-71.7615C92.5427,-63.0419 96.0093,-54.0385 99.1073,-45.9921\" fill=\"none\" stroke=\"black\"/>\n",
       "<polygon fill=\"black\" points=\"102.472,-46.9949 102.799,-36.4051 95.9391,-44.4797 102.472,-46.9949\" stroke=\"black\"/>\n",
       "</g>\n",
       "<!-- 429 -->\n",
       "<g class=\"node\" id=\"node10\"><title>429</title>\n",
       "<path d=\"M587,-274C587,-274 464,-274 464,-274 458,-274 452,-268 452,-262 452,-262 452,-203 452,-203 452,-197 458,-191 464,-191 464,-191 587,-191 587,-191 593,-191 599,-197 599,-203 599,-203 599,-262 599,-262 599,-268 593,-274 587,-274\" fill=\"#399de5\" fill-opacity=\"0.650980\" stroke=\"black\"/>\n",
       "<text font-family=\"Helvetica,sans-Serif\" font-size=\"14.00\" text-anchor=\"start\" x=\"490.5\" y=\"-258.8\">waste ≤ 0.5</text>\n",
       "<text font-family=\"Helvetica,sans-Serif\" font-size=\"14.00\" text-anchor=\"start\" x=\"490\" y=\"-243.8\">gini = 0.384</text>\n",
       "<text font-family=\"Helvetica,sans-Serif\" font-size=\"14.00\" text-anchor=\"start\" x=\"473\" y=\"-228.8\">samples = 25067</text>\n",
       "<text font-family=\"Helvetica,sans-Serif\" font-size=\"14.00\" text-anchor=\"start\" x=\"460\" y=\"-213.8\">value = [6490, 18577]</text>\n",
       "<text font-family=\"Helvetica,sans-Serif\" font-size=\"14.00\" text-anchor=\"start\" x=\"475.5\" y=\"-198.8\">class = Negative</text>\n",
       "</g>\n",
       "<!-- 428&#45;&gt;429 -->\n",
       "<g class=\"edge\" id=\"edge9\"><title>428-&gt;429</title>\n",
       "<path d=\"M527.459,-309.907C527.245,-301.558 527.017,-292.671 526.795,-284.02\" fill=\"none\" stroke=\"black\"/>\n",
       "<polygon fill=\"black\" points=\"530.294,-283.928 526.539,-274.021 523.297,-284.107 530.294,-283.928\" stroke=\"black\"/>\n",
       "</g>\n",
       "<!-- 1228 -->\n",
       "<g class=\"node\" id=\"node17\"><title>1228</title>\n",
       "<path d=\"M737.5,-274C737.5,-274 629.5,-274 629.5,-274 623.5,-274 617.5,-268 617.5,-262 617.5,-262 617.5,-203 617.5,-203 617.5,-197 623.5,-191 629.5,-191 629.5,-191 737.5,-191 737.5,-191 743.5,-191 749.5,-197 749.5,-203 749.5,-203 749.5,-262 749.5,-262 749.5,-268 743.5,-274 737.5,-274\" fill=\"#399de5\" fill-opacity=\"0.901961\" stroke=\"black\"/>\n",
       "<text font-family=\"Helvetica,sans-Serif\" font-size=\"14.00\" text-anchor=\"start\" x=\"627\" y=\"-258.8\">unfortunately ≤ 0.5</text>\n",
       "<text font-family=\"Helvetica,sans-Serif\" font-size=\"14.00\" text-anchor=\"start\" x=\"648\" y=\"-243.8\">gini = 0.163</text>\n",
       "<text font-family=\"Helvetica,sans-Serif\" font-size=\"14.00\" text-anchor=\"start\" x=\"635\" y=\"-228.8\">samples = 7607</text>\n",
       "<text font-family=\"Helvetica,sans-Serif\" font-size=\"14.00\" text-anchor=\"start\" x=\"625.5\" y=\"-213.8\">value = [682, 6925]</text>\n",
       "<text font-family=\"Helvetica,sans-Serif\" font-size=\"14.00\" text-anchor=\"start\" x=\"633.5\" y=\"-198.8\">class = Negative</text>\n",
       "</g>\n",
       "<!-- 428&#45;&gt;1228 -->\n",
       "<g class=\"edge\" id=\"edge16\"><title>428-&gt;1228</title>\n",
       "<path d=\"M582.276,-309.907C595.02,-300.288 608.711,-289.953 621.778,-280.09\" fill=\"none\" stroke=\"black\"/>\n",
       "<polygon fill=\"black\" points=\"623.946,-282.839 629.819,-274.021 619.728,-277.252 623.946,-282.839\" stroke=\"black\"/>\n",
       "</g>\n",
       "<!-- 430 -->\n",
       "<g class=\"node\" id=\"node11\"><title>430</title>\n",
       "<path d=\"M435,-155C435,-155 312,-155 312,-155 306,-155 300,-149 300,-143 300,-143 300,-84 300,-84 300,-78 306,-72 312,-72 312,-72 435,-72 435,-72 441,-72 447,-78 447,-84 447,-84 447,-143 447,-143 447,-149 441,-155 435,-155\" fill=\"#399de5\" fill-opacity=\"0.666667\" stroke=\"black\"/>\n",
       "<text font-family=\"Helvetica,sans-Serif\" font-size=\"14.00\" text-anchor=\"start\" x=\"340\" y=\"-139.8\">worst ≤ 0.5</text>\n",
       "<text font-family=\"Helvetica,sans-Serif\" font-size=\"14.00\" text-anchor=\"start\" x=\"338\" y=\"-124.8\">gini = 0.375</text>\n",
       "<text font-family=\"Helvetica,sans-Serif\" font-size=\"14.00\" text-anchor=\"start\" x=\"321\" y=\"-109.8\">samples = 24561</text>\n",
       "<text font-family=\"Helvetica,sans-Serif\" font-size=\"14.00\" text-anchor=\"start\" x=\"308\" y=\"-94.8\">value = [6133, 18428]</text>\n",
       "<text font-family=\"Helvetica,sans-Serif\" font-size=\"14.00\" text-anchor=\"start\" x=\"323.5\" y=\"-79.8\">class = Negative</text>\n",
       "</g>\n",
       "<!-- 429&#45;&gt;430 -->\n",
       "<g class=\"edge\" id=\"edge10\"><title>429-&gt;430</title>\n",
       "<path d=\"M472.764,-190.907C460.385,-181.379 447.094,-171.148 434.39,-161.37\" fill=\"none\" stroke=\"black\"/>\n",
       "<polygon fill=\"black\" points=\"436.202,-158.347 426.142,-155.021 431.932,-163.894 436.202,-158.347\" stroke=\"black\"/>\n",
       "</g>\n",
       "<!-- 1225 -->\n",
       "<g class=\"node\" id=\"node14\"><title>1225</title>\n",
       "<path d=\"M578,-155C578,-155 477,-155 477,-155 471,-155 465,-149 465,-143 465,-143 465,-84 465,-84 465,-78 471,-72 477,-72 477,-72 578,-72 578,-72 584,-72 590,-78 590,-84 590,-84 590,-143 590,-143 590,-149 584,-155 578,-155\" fill=\"#e58139\" fill-opacity=\"0.584314\" stroke=\"black\"/>\n",
       "<text font-family=\"Helvetica,sans-Serif\" font-size=\"14.00\" text-anchor=\"start\" x=\"489.5\" y=\"-139.8\">money ≤ 0.5</text>\n",
       "<text font-family=\"Helvetica,sans-Serif\" font-size=\"14.00\" text-anchor=\"start\" x=\"492\" y=\"-124.8\">gini = 0.416</text>\n",
       "<text font-family=\"Helvetica,sans-Serif\" font-size=\"14.00\" text-anchor=\"start\" x=\"482.5\" y=\"-109.8\">samples = 506</text>\n",
       "<text font-family=\"Helvetica,sans-Serif\" font-size=\"14.00\" text-anchor=\"start\" x=\"473\" y=\"-94.8\">value = [357, 149]</text>\n",
       "<text font-family=\"Helvetica,sans-Serif\" font-size=\"14.00\" text-anchor=\"start\" x=\"480.5\" y=\"-79.8\">class = Positive</text>\n",
       "</g>\n",
       "<!-- 429&#45;&gt;1225 -->\n",
       "<g class=\"edge\" id=\"edge13\"><title>429-&gt;1225</title>\n",
       "<path d=\"M526.194,-190.907C526.337,-182.558 526.489,-173.671 526.636,-165.02\" fill=\"none\" stroke=\"black\"/>\n",
       "<polygon fill=\"black\" points=\"530.136,-165.079 526.807,-155.021 523.137,-164.959 530.136,-165.079\" stroke=\"black\"/>\n",
       "</g>\n",
       "<!-- 431 -->\n",
       "<g class=\"node\" id=\"node12\"><title>431</title>\n",
       "<path d=\"M321.5,-36C321.5,-36 291.5,-36 291.5,-36 285.5,-36 279.5,-30 279.5,-24 279.5,-24 279.5,-12 279.5,-12 279.5,-6 285.5,-0 291.5,-0 291.5,-0 321.5,-0 321.5,-0 327.5,-0 333.5,-6 333.5,-12 333.5,-12 333.5,-24 333.5,-24 333.5,-30 327.5,-36 321.5,-36\" fill=\"#c0c0c0\" stroke=\"black\"/>\n",
       "<text font-family=\"Helvetica,sans-Serif\" font-size=\"14.00\" text-anchor=\"middle\" x=\"306.5\" y=\"-14.3\">(...)</text>\n",
       "</g>\n",
       "<!-- 430&#45;&gt;431 -->\n",
       "<g class=\"edge\" id=\"edge11\"><title>430-&gt;431</title>\n",
       "<path d=\"M344.308,-71.7615C337.712,-62.5574 330.89,-53.0372 324.887,-44.6601\" fill=\"none\" stroke=\"black\"/>\n",
       "<polygon fill=\"black\" points=\"327.642,-42.495 318.972,-36.4051 321.952,-46.5723 327.642,-42.495\" stroke=\"black\"/>\n",
       "</g>\n",
       "<!-- 1224 -->\n",
       "<g class=\"node\" id=\"node13\"><title>1224</title>\n",
       "<path d=\"M393.5,-36C393.5,-36 363.5,-36 363.5,-36 357.5,-36 351.5,-30 351.5,-24 351.5,-24 351.5,-12 351.5,-12 351.5,-6 357.5,-0 363.5,-0 363.5,-0 393.5,-0 393.5,-0 399.5,-0 405.5,-6 405.5,-12 405.5,-12 405.5,-24 405.5,-24 405.5,-30 399.5,-36 393.5,-36\" fill=\"#c0c0c0\" stroke=\"black\"/>\n",
       "<text font-family=\"Helvetica,sans-Serif\" font-size=\"14.00\" text-anchor=\"middle\" x=\"378.5\" y=\"-14.3\">(...)</text>\n",
       "</g>\n",
       "<!-- 430&#45;&gt;1224 -->\n",
       "<g class=\"edge\" id=\"edge12\"><title>430-&gt;1224</title>\n",
       "<path d=\"M375.679,-71.7615C376.134,-63.2356 376.605,-54.4385 377.028,-46.5299\" fill=\"none\" stroke=\"black\"/>\n",
       "<polygon fill=\"black\" points=\"380.53,-46.5778 377.569,-36.4051 373.54,-46.2039 380.53,-46.5778\" stroke=\"black\"/>\n",
       "</g>\n",
       "<!-- 1226 -->\n",
       "<g class=\"node\" id=\"node15\"><title>1226</title>\n",
       "<path d=\"M493.5,-36C493.5,-36 463.5,-36 463.5,-36 457.5,-36 451.5,-30 451.5,-24 451.5,-24 451.5,-12 451.5,-12 451.5,-6 457.5,-0 463.5,-0 463.5,-0 493.5,-0 493.5,-0 499.5,-0 505.5,-6 505.5,-12 505.5,-12 505.5,-24 505.5,-24 505.5,-30 499.5,-36 493.5,-36\" fill=\"#c0c0c0\" stroke=\"black\"/>\n",
       "<text font-family=\"Helvetica,sans-Serif\" font-size=\"14.00\" text-anchor=\"middle\" x=\"478.5\" y=\"-14.3\">(...)</text>\n",
       "</g>\n",
       "<!-- 1225&#45;&gt;1226 -->\n",
       "<g class=\"edge\" id=\"edge14\"><title>1225-&gt;1226</title>\n",
       "<path d=\"M506.15,-71.7615C501.479,-62.8481 496.653,-53.6382 492.365,-45.4571\" fill=\"none\" stroke=\"black\"/>\n",
       "<polygon fill=\"black\" points=\"495.363,-43.6378 487.621,-36.4051 489.163,-46.8872 495.363,-43.6378\" stroke=\"black\"/>\n",
       "</g>\n",
       "<!-- 1227 -->\n",
       "<g class=\"node\" id=\"node16\"><title>1227</title>\n",
       "<path d=\"M565.5,-36C565.5,-36 535.5,-36 535.5,-36 529.5,-36 523.5,-30 523.5,-24 523.5,-24 523.5,-12 523.5,-12 523.5,-6 529.5,-0 535.5,-0 535.5,-0 565.5,-0 565.5,-0 571.5,-0 577.5,-6 577.5,-12 577.5,-12 577.5,-24 577.5,-24 577.5,-30 571.5,-36 565.5,-36\" fill=\"#c0c0c0\" stroke=\"black\"/>\n",
       "<text font-family=\"Helvetica,sans-Serif\" font-size=\"14.00\" text-anchor=\"middle\" x=\"550.5\" y=\"-14.3\">(...)</text>\n",
       "</g>\n",
       "<!-- 1225&#45;&gt;1227 -->\n",
       "<g class=\"edge\" id=\"edge15\"><title>1225-&gt;1227</title>\n",
       "<path d=\"M537.521,-71.7615C539.642,-63.1387 541.832,-54.2385 543.794,-46.2606\" fill=\"none\" stroke=\"black\"/>\n",
       "<polygon fill=\"black\" points=\"547.228,-46.9517 546.219,-36.4051 540.431,-45.2796 547.228,-46.9517\" stroke=\"black\"/>\n",
       "</g>\n",
       "<!-- 1229 -->\n",
       "<g class=\"node\" id=\"node18\"><title>1229</title>\n",
       "<path d=\"M742,-155C742,-155 623,-155 623,-155 617,-155 611,-149 611,-143 611,-143 611,-84 611,-84 611,-78 617,-72 623,-72 623,-72 742,-72 742,-72 748,-72 754,-78 754,-84 754,-84 754,-143 754,-143 754,-149 748,-155 742,-155\" fill=\"#399de5\" fill-opacity=\"0.905882\" stroke=\"black\"/>\n",
       "<text font-family=\"Helvetica,sans-Serif\" font-size=\"14.00\" text-anchor=\"start\" x=\"619\" y=\"-139.8\">disappointment ≤ 0.5</text>\n",
       "<text font-family=\"Helvetica,sans-Serif\" font-size=\"14.00\" text-anchor=\"start\" x=\"647\" y=\"-124.8\">gini = 0.155</text>\n",
       "<text font-family=\"Helvetica,sans-Serif\" font-size=\"14.00\" text-anchor=\"start\" x=\"634\" y=\"-109.8\">samples = 7476</text>\n",
       "<text font-family=\"Helvetica,sans-Serif\" font-size=\"14.00\" text-anchor=\"start\" x=\"624.5\" y=\"-94.8\">value = [633, 6843]</text>\n",
       "<text font-family=\"Helvetica,sans-Serif\" font-size=\"14.00\" text-anchor=\"start\" x=\"632.5\" y=\"-79.8\">class = Negative</text>\n",
       "</g>\n",
       "<!-- 1228&#45;&gt;1229 -->\n",
       "<g class=\"edge\" id=\"edge17\"><title>1228-&gt;1229</title>\n",
       "<path d=\"M683.153,-190.907C683.082,-182.649 683.007,-173.864 682.934,-165.302\" fill=\"none\" stroke=\"black\"/>\n",
       "<polygon fill=\"black\" points=\"686.432,-164.99 682.846,-155.021 679.432,-165.05 686.432,-164.99\" stroke=\"black\"/>\n",
       "</g>\n",
       "<!-- 1414 -->\n",
       "<g class=\"node\" id=\"node21\"><title>1414</title>\n",
       "<path d=\"M876.5,-147.5C876.5,-147.5 784.5,-147.5 784.5,-147.5 778.5,-147.5 772.5,-141.5 772.5,-135.5 772.5,-135.5 772.5,-91.5 772.5,-91.5 772.5,-85.5 778.5,-79.5 784.5,-79.5 784.5,-79.5 876.5,-79.5 876.5,-79.5 882.5,-79.5 888.5,-85.5 888.5,-91.5 888.5,-91.5 888.5,-135.5 888.5,-135.5 888.5,-141.5 882.5,-147.5 876.5,-147.5\" fill=\"#399de5\" fill-opacity=\"0.403922\" stroke=\"black\"/>\n",
       "<text font-family=\"Helvetica,sans-Serif\" font-size=\"14.00\" text-anchor=\"start\" x=\"795\" y=\"-132.3\">gini = 0.468</text>\n",
       "<text font-family=\"Helvetica,sans-Serif\" font-size=\"14.00\" text-anchor=\"start\" x=\"785.5\" y=\"-117.3\">samples = 131</text>\n",
       "<text font-family=\"Helvetica,sans-Serif\" font-size=\"14.00\" text-anchor=\"start\" x=\"783.5\" y=\"-102.3\">value = [49, 82]</text>\n",
       "<text font-family=\"Helvetica,sans-Serif\" font-size=\"14.00\" text-anchor=\"start\" x=\"780.5\" y=\"-87.3\">class = Negative</text>\n",
       "</g>\n",
       "<!-- 1228&#45;&gt;1414 -->\n",
       "<g class=\"edge\" id=\"edge20\"><title>1228-&gt;1414</title>\n",
       "<path d=\"M734.501,-190.907C749.474,-178.99 765.825,-165.976 780.721,-154.12\" fill=\"none\" stroke=\"black\"/>\n",
       "<polygon fill=\"black\" points=\"783.184,-156.633 788.829,-147.667 778.825,-151.156 783.184,-156.633\" stroke=\"black\"/>\n",
       "</g>\n",
       "<!-- 1230 -->\n",
       "<g class=\"node\" id=\"node19\"><title>1230</title>\n",
       "<path d=\"M661.5,-36C661.5,-36 631.5,-36 631.5,-36 625.5,-36 619.5,-30 619.5,-24 619.5,-24 619.5,-12 619.5,-12 619.5,-6 625.5,-0 631.5,-0 631.5,-0 661.5,-0 661.5,-0 667.5,-0 673.5,-6 673.5,-12 673.5,-12 673.5,-24 673.5,-24 673.5,-30 667.5,-36 661.5,-36\" fill=\"#c0c0c0\" stroke=\"black\"/>\n",
       "<text font-family=\"Helvetica,sans-Serif\" font-size=\"14.00\" text-anchor=\"middle\" x=\"646.5\" y=\"-14.3\">(...)</text>\n",
       "</g>\n",
       "<!-- 1229&#45;&gt;1230 -->\n",
       "<g class=\"edge\" id=\"edge18\"><title>1229-&gt;1230</title>\n",
       "<path d=\"M666.815,-71.7615C663.457,-63.0419 659.991,-54.0385 656.893,-45.9921\" fill=\"none\" stroke=\"black\"/>\n",
       "<polygon fill=\"black\" points=\"660.061,-44.4797 653.201,-36.4051 653.528,-46.9949 660.061,-44.4797\" stroke=\"black\"/>\n",
       "</g>\n",
       "<!-- 1413 -->\n",
       "<g class=\"node\" id=\"node20\"><title>1413</title>\n",
       "<path d=\"M733.5,-36C733.5,-36 703.5,-36 703.5,-36 697.5,-36 691.5,-30 691.5,-24 691.5,-24 691.5,-12 691.5,-12 691.5,-6 697.5,-0 703.5,-0 703.5,-0 733.5,-0 733.5,-0 739.5,-0 745.5,-6 745.5,-12 745.5,-12 745.5,-24 745.5,-24 745.5,-30 739.5,-36 733.5,-36\" fill=\"#c0c0c0\" stroke=\"black\"/>\n",
       "<text font-family=\"Helvetica,sans-Serif\" font-size=\"14.00\" text-anchor=\"middle\" x=\"718.5\" y=\"-14.3\">(...)</text>\n",
       "</g>\n",
       "<!-- 1229&#45;&gt;1413 -->\n",
       "<g class=\"edge\" id=\"edge19\"><title>1229-&gt;1413</title>\n",
       "<path d=\"M698.185,-71.7615C701.543,-63.0419 705.009,-54.0385 708.107,-45.9921\" fill=\"none\" stroke=\"black\"/>\n",
       "<polygon fill=\"black\" points=\"711.472,-46.9949 711.799,-36.4051 704.939,-44.4797 711.472,-46.9949\" stroke=\"black\"/>\n",
       "</g>\n",
       "</g>\n",
       "</svg>"
      ],
      "text/plain": [
       "<IPython.core.display.SVG object>"
      ]
     },
     "metadata": {},
     "output_type": "display_data"
    }
   ],
   "source": [
    "# Please write all the code with proper documentation\n",
    "f_name = count_vect.get_feature_names()\n",
    "from sklearn.tree import DecisionTreeClassifier, export_graphviz\n",
    "from sklearn import tree\n",
    "from sklearn.datasets import load_wine\n",
    "from IPython.display import SVG\n",
    "from graphviz import Source\n",
    "from IPython.display import display\n",
    "dot_data = Source(export_graphviz(model,feature_names =f_name ,class_names=['Positive','Negative'] ,max_depth = 3,out_file=None,filled=True,rounded=True,special_characters=True)) \n",
    "display(SVG(dot_data.pipe(format='svg')))"
   ]
  },
  {
   "cell_type": "markdown",
   "metadata": {
    "colab_type": "text",
    "id": "5przjMTbiWOz"
   },
   "source": [
    "## [5.2] Applying Decision Trees on TFIDF,<font color='red'> SET 2</font>"
   ]
  },
  {
   "cell_type": "code",
   "execution_count": 59,
   "metadata": {
    "colab": {},
    "colab_type": "code",
    "id": "Bm3mfI7miWOz"
   },
   "outputs": [
    {
     "name": "stdout",
     "output_type": "stream",
     "text": [
      "[0.7030555483538294, 0.7030555483538294, 0.7032490545594837, 0.7031776885849219, 0.7033587514603327, 0.701079075328427]    [0.6931734095078099, 0.6934065452438586, 0.6937574632397634, 0.6937053222953762, 0.6945014867455501, 0.6915318908643566]\n",
      "[0.7357874801519385, 0.7377272922165289, 0.755621945033003, 0.7457881654640202, 0.7624772597670123, 0.7592228227000577]    [0.713724246277857, 0.7155744570119589, 0.7361301788449973, 0.7291578375034113, 0.7514126355701214, 0.7483018677841295]\n",
      "[0.331225935014713, 0.3847329877590278, 0.5546126147688991, 0.6600912318838492, 0.843800229169362, 0.8507481894129951]    [0.39811767616325355, 0.4282173813070837, 0.5583443328210097, 0.6539823638411046, 0.8128070990725236, 0.8217479466604647]\n",
      "[0.34177344112793473, 0.4131889980086079, 0.5774101672341001, 0.6661335145329371, 0.8366556440595507, 0.8426209976615892]    [0.3905275439098424, 0.4291229418395582, 0.545216500492649, 0.6328996601095985, 0.7974827206248423, 0.8034309767911665]\n",
      "[0.5296714873142535, 0.5774697735205349, 0.6922224029959848, 0.7433460121287088, 0.855605087775264, 0.8591841901362572]    [0.5091840559022779, 0.5346085449631829, 0.6152620164484195, 0.6684658148974294, 0.7829985638464718, 0.7947000402683166]\n",
      "[0.5308861596643136, 0.5786962942756381, 0.6876262373870117, 0.7449251815805648, 0.8553172368701156, 0.8572568464513924]    [0.5110471254419652, 0.5307493635303671, 0.6151811425350298, 0.6677488196294699, 0.7801156251333539, 0.7938172828066166]\n"
     ]
    }
   ],
   "source": [
    "# Please write all the code with proper documentation\n",
    "depth  =[5,10,50,100,500,1000]\n",
    "split = [5,10,50,100,500,1000]\n",
    "TFIDF_Train_score = []\n",
    "TFIDF_val_score = []\n",
    "for i in depth:\n",
    "    tfidf_tr = []\n",
    "    tfidf_val = []\n",
    "    for j in split:\n",
    "        model= DecisionTreeClassifier(max_depth=i,min_samples_split=j)\n",
    "        model.fit(TFIDF_Train,y_tr)\n",
    "        train_data = model.predict_log_proba(TFIDF_Train)[:,1]\n",
    "        val_data = model.predict_log_proba(TFIDF_Validation)[:,1]\n",
    "        train_data[np.isinf(train_data)]=0\n",
    "        train_data[np.isnan(train_data)]=0\n",
    "        val_data[np.isinf(val_data)]=0\n",
    "        val_data[np.isnan(val_data)]=0\n",
    "        \n",
    "        tfidf_tr.append(roc_auc_score(np.asarray(y_tr),np.asarray(train_data)))\n",
    "        tfidf_val.append(roc_auc_score(np.asarray(y_cv),np.asarray(val_data)))\n",
    "    print(str(tfidf_tr)+\"    \"+str(tfidf_val))\n",
    "    TFIDF_Train_score.append(bow_tr)\n",
    "    TFIDF_val_score.append(bow_val)\n",
    "    "
   ]
  },
  {
   "cell_type": "code",
   "execution_count": 60,
   "metadata": {},
   "outputs": [
    {
     "data": {
      "text/plain": [
       "<matplotlib.axes._subplots.AxesSubplot at 0x7f8e7ef53c88>"
      ]
     },
     "execution_count": 60,
     "metadata": {},
     "output_type": "execute_result"
    },
    {
     "data": {
      "image/png": "[encoded data removed]",
      "text/plain": [
       "<Figure size 432x288 with 2 Axes>"
      ]
     },
     "metadata": {},
     "output_type": "display_data"
    }
   ],
   "source": [
    "df  = pd.DataFrame(TFIDF_Train_score,index = depth,columns=split)\n",
    "df2 = pd.DataFrame(TFIDF_val_score,index = depth,columns=split)\n",
    "sns.heatmap(df, annot= True, fmt=\"f\", cmap=\"YlGnBu\")\n"
   ]
  },
  {
   "cell_type": "code",
   "execution_count": 61,
   "metadata": {},
   "outputs": [
    {
     "data": {
      "text/plain": [
       "<matplotlib.axes._subplots.AxesSubplot at 0x7f8e7effb390>"
      ]
     },
     "execution_count": 61,
     "metadata": {},
     "output_type": "execute_result"
    },
    {
     "data": {
      "image/png": "[encoded data removed]",
      "text/plain": [
       "<Figure size 432x288 with 2 Axes>"
      ]
     },
     "metadata": {},
     "output_type": "display_data"
    }
   ],
   "source": [
    "sns.heatmap(df2, annot= True, fmt=\"f\", cmap=\"YlGnBu\")"
   ]
  },
  {
   "cell_type": "code",
   "execution_count": 155,
   "metadata": {},
   "outputs": [],
   "source": [
    "best_depth = 50\n",
    "best_split = 500"
   ]
  },
  {
   "cell_type": "markdown",
   "metadata": {},
   "source": [
    "### Testing on test data"
   ]
  },
  {
   "cell_type": "code",
   "execution_count": 156,
   "metadata": {},
   "outputs": [
    {
     "data": {
      "image/png": "[encoded data removed]",
      "text/plain": [
       "<Figure size 432x288 with 1 Axes>"
      ]
     },
     "metadata": {},
     "output_type": "display_data"
    }
   ],
   "source": [
    "model= DecisionTreeClassifier(max_depth=best_depth,min_samples_split=best_split)\n",
    "model.fit(TFIDF_Train,y_tr)\n",
    "train_pred = model.predict_log_proba(TFIDF_Train)[:,1]\n",
    "test_pred = model.predict_log_proba(TFIDF_Test)[:,1]\n",
    "train_pred[np.isinf(train_pred)]=0\n",
    "train_pred[np.isnan(train_pred)]=0\n",
    "test_pred[np.isinf(test_pred)]=0\n",
    "test_pred[np.isnan(test_pred)]=0\n",
    "train_fpr, train_tpr, thresholds = roc_curve(y_tr, train_pred)\n",
    "test_fpr, test_tpr, thresholds = roc_curve(y_test, test_pred)\n",
    "\n",
    "plt.plot(train_fpr, train_tpr, label=\"train AUC =\"+str(auc(train_fpr, train_tpr)))\n",
    "plt.plot(test_fpr, test_tpr, label=\"test AUC =\"+str(auc(test_fpr, test_tpr)))\n",
    "plt.plot([0.0,1.0],[0.0,1.0])\n",
    "plt.legend()\n",
    "plt.xlabel(\"alpha: hyperparameter\")\n",
    "plt.ylabel(\"AUC\")\n",
    "plt.title(\"ERROR PLOTS\")\n",
    "plt.show()\n"
   ]
  },
  {
   "cell_type": "markdown",
   "metadata": {},
   "source": [
    "### Confuison Matrix"
   ]
  },
  {
   "cell_type": "code",
   "execution_count": 64,
   "metadata": {},
   "outputs": [
    {
     "data": {
      "text/plain": [
       "<matplotlib.axes._subplots.AxesSubplot at 0x7f8e7eeabef0>"
      ]
     },
     "execution_count": 64,
     "metadata": {},
     "output_type": "execute_result"
    },
    {
     "data": {
      "image/png": "[encoded data removed]",
      "text/plain": [
       "<Figure size 432x288 with 2 Axes>"
      ]
     },
     "metadata": {},
     "output_type": "display_data"
    }
   ],
   "source": [
    "ytrain = model.predict(TFIDF_Train)\n",
    "ytest = model.predict(TFIDF_Test)\n",
    "ctrain = confusion_matrix(y_tr,ytrain)\n",
    "ctest = confusion_matrix(y_test,ytest)\n",
    "class_label=[\"No\",\"Yes\"]\n",
    "df = pd.DataFrame(ctest, index=class_label, columns=class_label)\n",
    "sns.heatmap(df, annot= True, fmt=\"d\", cmap=\"YlGnBu\")\n"
   ]
  },
  {
   "cell_type": "code",
   "execution_count": 65,
   "metadata": {},
   "outputs": [
    {
     "data": {
      "text/plain": [
       "<matplotlib.axes._subplots.AxesSubplot at 0x7f8e7ee7a4e0>"
      ]
     },
     "execution_count": 65,
     "metadata": {},
     "output_type": "execute_result"
    },
    {
     "data": {
      "image/png": "[encoded data removed]",
      "text/plain": [
       "<Figure size 432x288 with 2 Axes>"
      ]
     },
     "metadata": {},
     "output_type": "display_data"
    }
   ],
   "source": [
    "df = pd.DataFrame(ctrain, index=class_label, columns=class_label)\n",
    "sns.heatmap(df, annot= True, fmt=\"d\", cmap=\"YlGnBu\")"
   ]
  },
  {
   "cell_type": "code",
   "execution_count": 63,
   "metadata": {},
   "outputs": [
    {
     "data": {
      "text/plain": [
       "<matplotlib.axes._subplots.AxesSubplot at 0x7f8e7eee3c50>"
      ]
     },
     "execution_count": 63,
     "metadata": {},
     "output_type": "execute_result"
    },
    {
     "data": {
      "image/png": "[encoded data removed]",
      "text/plain": [
       "<Figure size 432x288 with 2 Axes>"
      ]
     },
     "metadata": {},
     "output_type": "display_data"
    }
   ],
   "source": [
    "df = pd.DataFrame(ctrain, index=class_label, columns=class_label)\n",
    "sns.heatmap(df, annot= True, fmt=\"d\", cmap=\"YlGnBu\")"
   ]
  },
  {
   "cell_type": "markdown",
   "metadata": {
    "colab_type": "text",
    "id": "PIKUCldjiWO0"
   },
   "source": [
    "### [5.2.1] Top 20 important features from<font color='red'> SET 2</font>"
   ]
  },
  {
   "cell_type": "code",
   "execution_count": 159,
   "metadata": {
    "colab": {},
    "colab_type": "code",
    "id": "p2P0iHQciWO1"
   },
   "outputs": [
    {
     "name": "stdout",
     "output_type": "stream",
     "text": [
      "[(20545, 0.10081024283327579), (13532, 0.05376215851996582), (7842, 0.045071790360250476), (34797, 0.03970912535227808), (20627, 0.02441228428845962), (19400, 0.024164473756463106), (1688, 0.021870228444515364), (1776, 0.020905197552283563), (14733, 0.019544588115575544), (7857, 0.01865231105079609), (21288, 0.017035360975440044), (33820, 0.01695065299824854), (26066, 0.01688956397140815), (7373, 0.016376347191560267), (31151, 0.01532519797597335), (31580, 0.014951342241692351), (2356, 0.014249703296028038), (21077, 0.014124863010970037), (12954, 0.013402922194049491), (17671, 0.013281680876820037)]\n",
      " So the top 10 features of positive class are--\n",
      "feature name : not , value : 0.100810\n",
      "feature name : great , value : 0.053762\n",
      "feature name : disappointed , value : 0.045072\n",
      "feature name : worst , value : 0.039709\n",
      "feature name : not buy , value : 0.024412\n",
      "feature name : money , value : 0.024164\n",
      "feature name : awful , value : 0.021870\n",
      "feature name : bad , value : 0.020905\n",
      "feature name : horrible , value : 0.019545\n",
      "feature name : disappointing , value : 0.018652\n",
      "feature name : not worth , value : 0.017035\n",
      "feature name : waste money , value : 0.016951\n",
      "feature name : return , value : 0.016890\n",
      "feature name : delicious , value : 0.016376\n",
      "feature name : terrible , value : 0.015325\n",
      "feature name : threw , value : 0.014951\n",
      "feature name : best , value : 0.014250\n",
      "feature name : not recommend , value : 0.014125\n",
      "feature name : good , value : 0.013403\n",
      "feature name : love , value : 0.013282\n"
     ]
    }
   ],
   "source": [
    "# Please write all the code with proper documentation\n",
    "a = model.feature_importances_\n",
    "b= []\n",
    "for i in range(35256):\n",
    "        b.append((i,a[i]))\n",
    "b =  sorted(b,key= lambda x: x[1],reverse=True)\n",
    "b = b[0:20]\n",
    "print(b)\n",
    "print(\" So the top 10 features of positive class are--\")\n",
    "for i in range(0,20):\n",
    "    print(\"feature name : %s , value : %f\"%(tf_idf_vect.get_feature_names()[b[i][0]],b[i][1]))"
   ]
  },
  {
   "cell_type": "markdown",
   "metadata": {
    "colab_type": "text",
    "id": "RTZB9ipUiWO3"
   },
   "source": [
    "### [5.2.2] Graphviz visualization of Decision Tree on TFIDF,<font color='red'> SET 2</font>"
   ]
  },
  {
   "cell_type": "code",
   "execution_count": 160,
   "metadata": {
    "colab": {},
    "colab_type": "code",
    "id": "DMbZoPoTiWO4"
   },
   "outputs": [
    {
     "data": {
      "image/svg+xml": [
       "<svg height=\"520pt\" viewBox=\"0.00 0.00 1209.50 520.00\" width=\"1210pt\" xmlns=\"http://www.w3.org/2000/svg\" xmlns:xlink=\"http://www.w3.org/1999/xlink\">\n",
       "<g class=\"graph\" id=\"graph0\" transform=\"scale(1 1) rotate(0) translate(4 516)\">\n",
       "<title>Tree</title>\n",
       "<polygon fill=\"white\" points=\"-4,4 -4,-516 1205.5,-516 1205.5,4 -4,4\" stroke=\"none\"/>\n",
       "<!-- 0 -->\n",
       "<g class=\"node\" id=\"node1\"><title>0</title>\n",
       "<path d=\"M692,-512C692,-512 569,-512 569,-512 563,-512 557,-506 557,-500 557,-500 557,-441 557,-441 557,-435 563,-429 569,-429 569,-429 692,-429 692,-429 698,-429 704,-435 704,-441 704,-441 704,-500 704,-500 704,-506 698,-512 692,-512\" fill=\"#399de5\" fill-opacity=\"0.811765\" stroke=\"black\"/>\n",
       "<text font-family=\"Helvetica,sans-Serif\" font-size=\"14.00\" text-anchor=\"start\" x=\"596\" y=\"-496.8\">not ≤ 0.048</text>\n",
       "<text font-family=\"Helvetica,sans-Serif\" font-size=\"14.00\" text-anchor=\"start\" x=\"595\" y=\"-481.8\">gini = 0.267</text>\n",
       "<text font-family=\"Helvetica,sans-Serif\" font-size=\"14.00\" text-anchor=\"start\" x=\"578\" y=\"-466.8\">samples = 59832</text>\n",
       "<text font-family=\"Helvetica,sans-Serif\" font-size=\"14.00\" text-anchor=\"start\" x=\"565\" y=\"-451.8\">value = [9491, 50341]</text>\n",
       "<text font-family=\"Helvetica,sans-Serif\" font-size=\"14.00\" text-anchor=\"start\" x=\"580.5\" y=\"-436.8\">class = Negative</text>\n",
       "</g>\n",
       "<!-- 1 -->\n",
       "<g class=\"node\" id=\"node2\"><title>1</title>\n",
       "<path d=\"M572,-393C572,-393 449,-393 449,-393 443,-393 437,-387 437,-381 437,-381 437,-322 437,-322 437,-316 443,-310 449,-310 449,-310 572,-310 572,-310 578,-310 584,-316 584,-322 584,-322 584,-381 584,-381 584,-387 578,-393 572,-393\" fill=\"#399de5\" fill-opacity=\"0.874510\" stroke=\"black\"/>\n",
       "<text font-family=\"Helvetica,sans-Serif\" font-size=\"14.00\" text-anchor=\"start\" x=\"447\" y=\"-377.8\">disappointed ≤ 0.034</text>\n",
       "<text font-family=\"Helvetica,sans-Serif\" font-size=\"14.00\" text-anchor=\"start\" x=\"475\" y=\"-362.8\">gini = 0.197</text>\n",
       "<text font-family=\"Helvetica,sans-Serif\" font-size=\"14.00\" text-anchor=\"start\" x=\"458\" y=\"-347.8\">samples = 40855</text>\n",
       "<text font-family=\"Helvetica,sans-Serif\" font-size=\"14.00\" text-anchor=\"start\" x=\"445\" y=\"-332.8\">value = [4536, 36319]</text>\n",
       "<text font-family=\"Helvetica,sans-Serif\" font-size=\"14.00\" text-anchor=\"start\" x=\"460.5\" y=\"-317.8\">class = Negative</text>\n",
       "</g>\n",
       "<!-- 0&#45;&gt;1 -->\n",
       "<g class=\"edge\" id=\"edge1\"><title>0-&gt;1</title>\n",
       "<path d=\"M588.867,-428.907C579.373,-419.651 569.2,-409.732 559.432,-400.209\" fill=\"none\" stroke=\"black\"/>\n",
       "<polygon fill=\"black\" points=\"561.663,-397.496 552.06,-393.021 556.776,-402.508 561.663,-397.496\" stroke=\"black\"/>\n",
       "<text font-family=\"Helvetica,sans-Serif\" font-size=\"14.00\" text-anchor=\"middle\" x=\"552.376\" y=\"-414.319\">True</text>\n",
       "</g>\n",
       "<!-- 666 -->\n",
       "<g class=\"node\" id=\"node13\"><title>666</title>\n",
       "<path d=\"M813,-393C813,-393 690,-393 690,-393 684,-393 678,-387 678,-381 678,-381 678,-322 678,-322 678,-316 684,-310 690,-310 690,-310 813,-310 813,-310 819,-310 825,-316 825,-322 825,-322 825,-381 825,-381 825,-387 819,-393 813,-393\" fill=\"#399de5\" fill-opacity=\"0.647059\" stroke=\"black\"/>\n",
       "<text font-family=\"Helvetica,sans-Serif\" font-size=\"14.00\" text-anchor=\"start\" x=\"711\" y=\"-377.8\">great ≤ 0.016</text>\n",
       "<text font-family=\"Helvetica,sans-Serif\" font-size=\"14.00\" text-anchor=\"start\" x=\"716\" y=\"-362.8\">gini = 0.386</text>\n",
       "<text font-family=\"Helvetica,sans-Serif\" font-size=\"14.00\" text-anchor=\"start\" x=\"699\" y=\"-347.8\">samples = 18977</text>\n",
       "<text font-family=\"Helvetica,sans-Serif\" font-size=\"14.00\" text-anchor=\"start\" x=\"686\" y=\"-332.8\">value = [4955, 14022]</text>\n",
       "<text font-family=\"Helvetica,sans-Serif\" font-size=\"14.00\" text-anchor=\"start\" x=\"701.5\" y=\"-317.8\">class = Negative</text>\n",
       "</g>\n",
       "<!-- 0&#45;&gt;666 -->\n",
       "<g class=\"edge\" id=\"edge12\"><title>0-&gt;666</title>\n",
       "<path d=\"M672.48,-428.907C682.053,-419.651 692.311,-409.732 702.16,-400.209\" fill=\"none\" stroke=\"black\"/>\n",
       "<polygon fill=\"black\" points=\"704.838,-402.488 709.594,-393.021 699.972,-397.456 704.838,-402.488\" stroke=\"black\"/>\n",
       "<text font-family=\"Helvetica,sans-Serif\" font-size=\"14.00\" text-anchor=\"middle\" x=\"709.174\" y=\"-414.317\">False</text>\n",
       "</g>\n",
       "<!-- 2 -->\n",
       "<g class=\"node\" id=\"node3\"><title>2</title>\n",
       "<path d=\"M285,-274C285,-274 162,-274 162,-274 156,-274 150,-268 150,-262 150,-262 150,-203 150,-203 150,-197 156,-191 162,-191 162,-191 285,-191 285,-191 291,-191 297,-197 297,-203 297,-203 297,-262 297,-262 297,-268 291,-274 285,-274\" fill=\"#399de5\" fill-opacity=\"0.886275\" stroke=\"black\"/>\n",
       "<text font-family=\"Helvetica,sans-Serif\" font-size=\"14.00\" text-anchor=\"start\" x=\"182.5\" y=\"-258.8\">worst ≤ 0.065</text>\n",
       "<text font-family=\"Helvetica,sans-Serif\" font-size=\"14.00\" text-anchor=\"start\" x=\"188\" y=\"-243.8\">gini = 0.186</text>\n",
       "<text font-family=\"Helvetica,sans-Serif\" font-size=\"14.00\" text-anchor=\"start\" x=\"171\" y=\"-228.8\">samples = 40143</text>\n",
       "<text font-family=\"Helvetica,sans-Serif\" font-size=\"14.00\" text-anchor=\"start\" x=\"158\" y=\"-213.8\">value = [4154, 35989]</text>\n",
       "<text font-family=\"Helvetica,sans-Serif\" font-size=\"14.00\" text-anchor=\"start\" x=\"173.5\" y=\"-198.8\">class = Negative</text>\n",
       "</g>\n",
       "<!-- 1&#45;&gt;2 -->\n",
       "<g class=\"edge\" id=\"edge2\"><title>1-&gt;2</title>\n",
       "<path d=\"M436.963,-320.522C397.21,-304.316 347.974,-284.244 306.809,-267.462\" fill=\"none\" stroke=\"black\"/>\n",
       "<polygon fill=\"black\" points=\"307.925,-264.138 297.344,-263.604 305.283,-270.62 307.925,-264.138\" stroke=\"black\"/>\n",
       "</g>\n",
       "<!-- 657 -->\n",
       "<g class=\"node\" id=\"node8\"><title>657</title>\n",
       "<path d=\"M581,-274C581,-274 440,-274 440,-274 434,-274 428,-268 428,-262 428,-262 428,-203 428,-203 428,-197 434,-191 440,-191 440,-191 581,-191 581,-191 587,-191 593,-197 593,-203 593,-203 593,-262 593,-262 593,-268 587,-274 581,-274\" fill=\"#e58139\" fill-opacity=\"0.137255\" stroke=\"black\"/>\n",
       "<text font-family=\"Helvetica,sans-Serif\" font-size=\"14.00\" text-anchor=\"start\" x=\"436\" y=\"-258.8\">not disappointed ≤ 0.023</text>\n",
       "<text font-family=\"Helvetica,sans-Serif\" font-size=\"14.00\" text-anchor=\"start\" x=\"475\" y=\"-243.8\">gini = 0.497</text>\n",
       "<text font-family=\"Helvetica,sans-Serif\" font-size=\"14.00\" text-anchor=\"start\" x=\"465.5\" y=\"-228.8\">samples = 712</text>\n",
       "<text font-family=\"Helvetica,sans-Serif\" font-size=\"14.00\" text-anchor=\"start\" x=\"456\" y=\"-213.8\">value = [382, 330]</text>\n",
       "<text font-family=\"Helvetica,sans-Serif\" font-size=\"14.00\" text-anchor=\"start\" x=\"463.5\" y=\"-198.8\">class = Positive</text>\n",
       "</g>\n",
       "<!-- 1&#45;&gt;657 -->\n",
       "<g class=\"edge\" id=\"edge7\"><title>1-&gt;657</title>\n",
       "<path d=\"M510.5,-309.907C510.5,-301.649 510.5,-292.864 510.5,-284.302\" fill=\"none\" stroke=\"black\"/>\n",
       "<polygon fill=\"black\" points=\"514,-284.021 510.5,-274.021 507,-284.021 514,-284.021\" stroke=\"black\"/>\n",
       "</g>\n",
       "<!-- 3 -->\n",
       "<g class=\"node\" id=\"node4\"><title>3</title>\n",
       "<path d=\"M135,-155C135,-155 12,-155 12,-155 6,-155 0,-149 0,-143 0,-143 0,-84 0,-84 0,-78 6,-72 12,-72 12,-72 135,-72 135,-72 141,-72 147,-78 147,-84 147,-84 147,-143 147,-143 147,-149 141,-155 135,-155\" fill=\"#399de5\" fill-opacity=\"0.890196\" stroke=\"black\"/>\n",
       "<text font-family=\"Helvetica,sans-Serif\" font-size=\"14.00\" text-anchor=\"start\" x=\"41\" y=\"-139.8\">bad ≤ 0.05</text>\n",
       "<text font-family=\"Helvetica,sans-Serif\" font-size=\"14.00\" text-anchor=\"start\" x=\"41.5\" y=\"-124.8\">gini = 0.18</text>\n",
       "<text font-family=\"Helvetica,sans-Serif\" font-size=\"14.00\" text-anchor=\"start\" x=\"21\" y=\"-109.8\">samples = 39956</text>\n",
       "<text font-family=\"Helvetica,sans-Serif\" font-size=\"14.00\" text-anchor=\"start\" x=\"8\" y=\"-94.8\">value = [4002, 35954]</text>\n",
       "<text font-family=\"Helvetica,sans-Serif\" font-size=\"14.00\" text-anchor=\"start\" x=\"23.5\" y=\"-79.8\">class = Negative</text>\n",
       "</g>\n",
       "<!-- 2&#45;&gt;3 -->\n",
       "<g class=\"edge\" id=\"edge3\"><title>2-&gt;3</title>\n",
       "<path d=\"M171.458,-190.907C159.242,-181.379 146.126,-171.148 133.589,-161.37\" fill=\"none\" stroke=\"black\"/>\n",
       "<polygon fill=\"black\" points=\"135.487,-158.411 125.45,-155.021 131.182,-163.931 135.487,-158.411\" stroke=\"black\"/>\n",
       "</g>\n",
       "<!-- 656 -->\n",
       "<g class=\"node\" id=\"node7\"><title>656</title>\n",
       "<path d=\"M270,-147.5C270,-147.5 177,-147.5 177,-147.5 171,-147.5 165,-141.5 165,-135.5 165,-135.5 165,-91.5 165,-91.5 165,-85.5 171,-79.5 177,-79.5 177,-79.5 270,-79.5 270,-79.5 276,-79.5 282,-85.5 282,-91.5 282,-91.5 282,-135.5 282,-135.5 282,-141.5 276,-147.5 270,-147.5\" fill=\"#e58139\" fill-opacity=\"0.768627\" stroke=\"black\"/>\n",
       "<text font-family=\"Helvetica,sans-Serif\" font-size=\"14.00\" text-anchor=\"start\" x=\"188\" y=\"-132.3\">gini = 0.304</text>\n",
       "<text font-family=\"Helvetica,sans-Serif\" font-size=\"14.00\" text-anchor=\"start\" x=\"178.5\" y=\"-117.3\">samples = 187</text>\n",
       "<text font-family=\"Helvetica,sans-Serif\" font-size=\"14.00\" text-anchor=\"start\" x=\"173\" y=\"-102.3\">value = [152, 35]</text>\n",
       "<text font-family=\"Helvetica,sans-Serif\" font-size=\"14.00\" text-anchor=\"start\" x=\"176.5\" y=\"-87.3\">class = Positive</text>\n",
       "</g>\n",
       "<!-- 2&#45;&gt;656 -->\n",
       "<g class=\"edge\" id=\"edge6\"><title>2-&gt;656</title>\n",
       "<path d=\"M223.5,-190.907C223.5,-180.204 223.5,-168.615 223.5,-157.776\" fill=\"none\" stroke=\"black\"/>\n",
       "<polygon fill=\"black\" points=\"227,-157.667 223.5,-147.667 220,-157.667 227,-157.667\" stroke=\"black\"/>\n",
       "</g>\n",
       "<!-- 4 -->\n",
       "<g class=\"node\" id=\"node5\"><title>4</title>\n",
       "<path d=\"M52.5,-36C52.5,-36 22.5,-36 22.5,-36 16.5,-36 10.5,-30 10.5,-24 10.5,-24 10.5,-12 10.5,-12 10.5,-6 16.5,-0 22.5,-0 22.5,-0 52.5,-0 52.5,-0 58.5,-0 64.5,-6 64.5,-12 64.5,-12 64.5,-24 64.5,-24 64.5,-30 58.5,-36 52.5,-36\" fill=\"#c0c0c0\" stroke=\"black\"/>\n",
       "<text font-family=\"Helvetica,sans-Serif\" font-size=\"14.00\" text-anchor=\"middle\" x=\"37.5\" y=\"-14.3\">(...)</text>\n",
       "</g>\n",
       "<!-- 3&#45;&gt;4 -->\n",
       "<g class=\"edge\" id=\"edge4\"><title>3-&gt;4</title>\n",
       "<path d=\"M57.8146,-71.7615C54.4573,-63.0419 50.9907,-54.0385 47.8927,-45.9921\" fill=\"none\" stroke=\"black\"/>\n",
       "<polygon fill=\"black\" points=\"51.0609,-44.4797 44.2014,-36.4051 44.5284,-46.9949 51.0609,-44.4797\" stroke=\"black\"/>\n",
       "</g>\n",
       "<!-- 641 -->\n",
       "<g class=\"node\" id=\"node6\"><title>641</title>\n",
       "<path d=\"M124.5,-36C124.5,-36 94.5,-36 94.5,-36 88.5,-36 82.5,-30 82.5,-24 82.5,-24 82.5,-12 82.5,-12 82.5,-6 88.5,-0 94.5,-0 94.5,-0 124.5,-0 124.5,-0 130.5,-0 136.5,-6 136.5,-12 136.5,-12 136.5,-24 136.5,-24 136.5,-30 130.5,-36 124.5,-36\" fill=\"#c0c0c0\" stroke=\"black\"/>\n",
       "<text font-family=\"Helvetica,sans-Serif\" font-size=\"14.00\" text-anchor=\"middle\" x=\"109.5\" y=\"-14.3\">(...)</text>\n",
       "</g>\n",
       "<!-- 3&#45;&gt;641 -->\n",
       "<g class=\"edge\" id=\"edge5\"><title>3-&gt;641</title>\n",
       "<path d=\"M89.1854,-71.7615C92.5427,-63.0419 96.0093,-54.0385 99.1073,-45.9921\" fill=\"none\" stroke=\"black\"/>\n",
       "<polygon fill=\"black\" points=\"102.472,-46.9949 102.799,-36.4051 95.9391,-44.4797 102.472,-46.9949\" stroke=\"black\"/>\n",
       "</g>\n",
       "<!-- 658 -->\n",
       "<g class=\"node\" id=\"node9\"><title>658</title>\n",
       "<path d=\"M468.5,-155C468.5,-155 312.5,-155 312.5,-155 306.5,-155 300.5,-149 300.5,-143 300.5,-143 300.5,-84 300.5,-84 300.5,-78 306.5,-72 312.5,-72 312.5,-72 468.5,-72 468.5,-72 474.5,-72 480.5,-78 480.5,-84 480.5,-84 480.5,-143 480.5,-143 480.5,-149 474.5,-155 468.5,-155\" fill=\"#e58139\" fill-opacity=\"0.427451\" stroke=\"black\"/>\n",
       "<text font-family=\"Helvetica,sans-Serif\" font-size=\"14.00\" text-anchor=\"start\" x=\"308.5\" y=\"-139.8\">never disappointed ≤ 0.026</text>\n",
       "<text font-family=\"Helvetica,sans-Serif\" font-size=\"14.00\" text-anchor=\"start\" x=\"355\" y=\"-124.8\">gini = 0.463</text>\n",
       "<text font-family=\"Helvetica,sans-Serif\" font-size=\"14.00\" text-anchor=\"start\" x=\"345.5\" y=\"-109.8\">samples = 599</text>\n",
       "<text font-family=\"Helvetica,sans-Serif\" font-size=\"14.00\" text-anchor=\"start\" x=\"336\" y=\"-94.8\">value = [381, 218]</text>\n",
       "<text font-family=\"Helvetica,sans-Serif\" font-size=\"14.00\" text-anchor=\"start\" x=\"343.5\" y=\"-79.8\">class = Positive</text>\n",
       "</g>\n",
       "<!-- 657&#45;&gt;658 -->\n",
       "<g class=\"edge\" id=\"edge8\"><title>657-&gt;658</title>\n",
       "<path d=\"M468.867,-190.907C459.373,-181.651 449.2,-171.732 439.432,-162.209\" fill=\"none\" stroke=\"black\"/>\n",
       "<polygon fill=\"black\" points=\"441.663,-159.496 432.06,-155.021 436.776,-164.508 441.663,-159.496\" stroke=\"black\"/>\n",
       "</g>\n",
       "<!-- 665 -->\n",
       "<g class=\"node\" id=\"node12\"><title>665</title>\n",
       "<path d=\"M602.5,-147.5C602.5,-147.5 510.5,-147.5 510.5,-147.5 504.5,-147.5 498.5,-141.5 498.5,-135.5 498.5,-135.5 498.5,-91.5 498.5,-91.5 498.5,-85.5 504.5,-79.5 510.5,-79.5 510.5,-79.5 602.5,-79.5 602.5,-79.5 608.5,-79.5 614.5,-85.5 614.5,-91.5 614.5,-91.5 614.5,-135.5 614.5,-135.5 614.5,-141.5 608.5,-147.5 602.5,-147.5\" fill=\"#399de5\" fill-opacity=\"0.992157\" stroke=\"black\"/>\n",
       "<text font-family=\"Helvetica,sans-Serif\" font-size=\"14.00\" text-anchor=\"start\" x=\"521\" y=\"-132.3\">gini = 0.018</text>\n",
       "<text font-family=\"Helvetica,sans-Serif\" font-size=\"14.00\" text-anchor=\"start\" x=\"511.5\" y=\"-117.3\">samples = 113</text>\n",
       "<text font-family=\"Helvetica,sans-Serif\" font-size=\"14.00\" text-anchor=\"start\" x=\"509.5\" y=\"-102.3\">value = [1, 112]</text>\n",
       "<text font-family=\"Helvetica,sans-Serif\" font-size=\"14.00\" text-anchor=\"start\" x=\"506.5\" y=\"-87.3\">class = Negative</text>\n",
       "</g>\n",
       "<!-- 657&#45;&gt;665 -->\n",
       "<g class=\"edge\" id=\"edge11\"><title>657-&gt;665</title>\n",
       "<path d=\"M526.459,-190.907C530.754,-179.983 535.412,-168.137 539.749,-157.107\" fill=\"none\" stroke=\"black\"/>\n",
       "<polygon fill=\"black\" points=\"543.058,-158.254 543.46,-147.667 536.544,-155.693 543.058,-158.254\" stroke=\"black\"/>\n",
       "</g>\n",
       "<!-- 659 -->\n",
       "<g class=\"node\" id=\"node10\"><title>659</title>\n",
       "<path d=\"M369.5,-36C369.5,-36 339.5,-36 339.5,-36 333.5,-36 327.5,-30 327.5,-24 327.5,-24 327.5,-12 327.5,-12 327.5,-6 333.5,-0 339.5,-0 339.5,-0 369.5,-0 369.5,-0 375.5,-0 381.5,-6 381.5,-12 381.5,-12 381.5,-24 381.5,-24 381.5,-30 375.5,-36 369.5,-36\" fill=\"#c0c0c0\" stroke=\"black\"/>\n",
       "<text font-family=\"Helvetica,sans-Serif\" font-size=\"14.00\" text-anchor=\"middle\" x=\"354.5\" y=\"-14.3\">(...)</text>\n",
       "</g>\n",
       "<!-- 658&#45;&gt;659 -->\n",
       "<g class=\"edge\" id=\"edge9\"><title>658-&gt;659</title>\n",
       "<path d=\"M374.815,-71.7615C371.457,-63.0419 367.991,-54.0385 364.893,-45.9921\" fill=\"none\" stroke=\"black\"/>\n",
       "<polygon fill=\"black\" points=\"368.061,-44.4797 361.201,-36.4051 361.528,-46.9949 368.061,-44.4797\" stroke=\"black\"/>\n",
       "</g>\n",
       "<!-- 664 -->\n",
       "<g class=\"node\" id=\"node11\"><title>664</title>\n",
       "<path d=\"M441.5,-36C441.5,-36 411.5,-36 411.5,-36 405.5,-36 399.5,-30 399.5,-24 399.5,-24 399.5,-12 399.5,-12 399.5,-6 405.5,-0 411.5,-0 411.5,-0 441.5,-0 441.5,-0 447.5,-0 453.5,-6 453.5,-12 453.5,-12 453.5,-24 453.5,-24 453.5,-30 447.5,-36 441.5,-36\" fill=\"#c0c0c0\" stroke=\"black\"/>\n",
       "<text font-family=\"Helvetica,sans-Serif\" font-size=\"14.00\" text-anchor=\"middle\" x=\"426.5\" y=\"-14.3\">(...)</text>\n",
       "</g>\n",
       "<!-- 658&#45;&gt;664 -->\n",
       "<g class=\"edge\" id=\"edge10\"><title>658-&gt;664</title>\n",
       "<path d=\"M406.185,-71.7615C409.543,-63.0419 413.009,-54.0385 416.107,-45.9921\" fill=\"none\" stroke=\"black\"/>\n",
       "<polygon fill=\"black\" points=\"419.472,-46.9949 419.799,-36.4051 412.939,-44.4797 419.472,-46.9949\" stroke=\"black\"/>\n",
       "</g>\n",
       "<!-- 667 -->\n",
       "<g class=\"node\" id=\"node14\"><title>667</title>\n",
       "<path d=\"M813,-274C813,-274 690,-274 690,-274 684,-274 678,-268 678,-262 678,-262 678,-203 678,-203 678,-197 684,-191 690,-191 690,-191 813,-191 813,-191 819,-191 825,-197 825,-203 825,-203 825,-262 825,-262 825,-268 819,-274 813,-274\" fill=\"#399de5\" fill-opacity=\"0.560784\" stroke=\"black\"/>\n",
       "<text font-family=\"Helvetica,sans-Serif\" font-size=\"14.00\" text-anchor=\"start\" x=\"706\" y=\"-258.8\">money ≤ 0.046</text>\n",
       "<text font-family=\"Helvetica,sans-Serif\" font-size=\"14.00\" text-anchor=\"start\" x=\"716\" y=\"-243.8\">gini = 0.424</text>\n",
       "<text font-family=\"Helvetica,sans-Serif\" font-size=\"14.00\" text-anchor=\"start\" x=\"699\" y=\"-228.8\">samples = 14883</text>\n",
       "<text font-family=\"Helvetica,sans-Serif\" font-size=\"14.00\" text-anchor=\"start\" x=\"686\" y=\"-213.8\">value = [4531, 10352]</text>\n",
       "<text font-family=\"Helvetica,sans-Serif\" font-size=\"14.00\" text-anchor=\"start\" x=\"701.5\" y=\"-198.8\">class = Negative</text>\n",
       "</g>\n",
       "<!-- 666&#45;&gt;667 -->\n",
       "<g class=\"edge\" id=\"edge13\"><title>666-&gt;667</title>\n",
       "<path d=\"M751.5,-309.907C751.5,-301.649 751.5,-292.864 751.5,-284.302\" fill=\"none\" stroke=\"black\"/>\n",
       "<polygon fill=\"black\" points=\"755,-284.021 751.5,-274.021 748,-284.021 755,-284.021\" stroke=\"black\"/>\n",
       "</g>\n",
       "<!-- 1084 -->\n",
       "<g class=\"node\" id=\"node21\"><title>1084</title>\n",
       "<path d=\"M1061.5,-274C1061.5,-274 953.5,-274 953.5,-274 947.5,-274 941.5,-268 941.5,-262 941.5,-262 941.5,-203 941.5,-203 941.5,-197 947.5,-191 953.5,-191 953.5,-191 1061.5,-191 1061.5,-191 1067.5,-191 1073.5,-197 1073.5,-203 1073.5,-203 1073.5,-262 1073.5,-262 1073.5,-268 1067.5,-274 1061.5,-274\" fill=\"#399de5\" fill-opacity=\"0.886275\" stroke=\"black\"/>\n",
       "<text font-family=\"Helvetica,sans-Serif\" font-size=\"14.00\" text-anchor=\"start\" x=\"954.5\" y=\"-258.8\">not worth ≤ 0.049</text>\n",
       "<text font-family=\"Helvetica,sans-Serif\" font-size=\"14.00\" text-anchor=\"start\" x=\"972\" y=\"-243.8\">gini = 0.186</text>\n",
       "<text font-family=\"Helvetica,sans-Serif\" font-size=\"14.00\" text-anchor=\"start\" x=\"959\" y=\"-228.8\">samples = 4094</text>\n",
       "<text font-family=\"Helvetica,sans-Serif\" font-size=\"14.00\" text-anchor=\"start\" x=\"949.5\" y=\"-213.8\">value = [424, 3670]</text>\n",
       "<text font-family=\"Helvetica,sans-Serif\" font-size=\"14.00\" text-anchor=\"start\" x=\"957.5\" y=\"-198.8\">class = Negative</text>\n",
       "</g>\n",
       "<!-- 666&#45;&gt;1084 -->\n",
       "<g class=\"edge\" id=\"edge20\"><title>666-&gt;1084</title>\n",
       "<path d=\"M825.202,-316.816C858.686,-301.512 898.256,-283.428 931.958,-268.025\" fill=\"none\" stroke=\"black\"/>\n",
       "<polygon fill=\"black\" points=\"933.658,-271.097 941.298,-263.756 930.748,-264.73 933.658,-271.097\" stroke=\"black\"/>\n",
       "</g>\n",
       "<!-- 668 -->\n",
       "<g class=\"node\" id=\"node15\"><title>668</title>\n",
       "<path d=\"M768,-155C768,-155 645,-155 645,-155 639,-155 633,-149 633,-143 633,-143 633,-84 633,-84 633,-78 639,-72 645,-72 645,-72 768,-72 768,-72 774,-72 780,-78 780,-84 780,-84 780,-143 780,-143 780,-149 774,-155 768,-155\" fill=\"#399de5\" fill-opacity=\"0.592157\" stroke=\"black\"/>\n",
       "<text font-family=\"Helvetica,sans-Serif\" font-size=\"14.00\" text-anchor=\"start\" x=\"659.5\" y=\"-139.8\">not buy ≤ 0.052</text>\n",
       "<text font-family=\"Helvetica,sans-Serif\" font-size=\"14.00\" text-anchor=\"start\" x=\"671\" y=\"-124.8\">gini = 0.412</text>\n",
       "<text font-family=\"Helvetica,sans-Serif\" font-size=\"14.00\" text-anchor=\"start\" x=\"654\" y=\"-109.8\">samples = 14310</text>\n",
       "<text font-family=\"Helvetica,sans-Serif\" font-size=\"14.00\" text-anchor=\"start\" x=\"641\" y=\"-94.8\">value = [4145, 10165]</text>\n",
       "<text font-family=\"Helvetica,sans-Serif\" font-size=\"14.00\" text-anchor=\"start\" x=\"656.5\" y=\"-79.8\">class = Negative</text>\n",
       "</g>\n",
       "<!-- 667&#45;&gt;668 -->\n",
       "<g class=\"edge\" id=\"edge14\"><title>667-&gt;668</title>\n",
       "<path d=\"M735.887,-190.907C732.606,-182.377 729.109,-173.284 725.714,-164.456\" fill=\"none\" stroke=\"black\"/>\n",
       "<polygon fill=\"black\" points=\"728.941,-163.098 722.085,-155.021 722.408,-165.611 728.941,-163.098\" stroke=\"black\"/>\n",
       "</g>\n",
       "<!-- 1081 -->\n",
       "<g class=\"node\" id=\"node18\"><title>1081</title>\n",
       "<path d=\"M911,-155C911,-155 810,-155 810,-155 804,-155 798,-149 798,-143 798,-143 798,-84 798,-84 798,-78 804,-72 810,-72 810,-72 911,-72 911,-72 917,-72 923,-78 923,-84 923,-84 923,-143 923,-143 923,-149 917,-155 911,-155\" fill=\"#e58139\" fill-opacity=\"0.513725\" stroke=\"black\"/>\n",
       "<text font-family=\"Helvetica,sans-Serif\" font-size=\"14.00\" text-anchor=\"start\" x=\"818\" y=\"-139.8\">waste ≤ 0.029</text>\n",
       "<text font-family=\"Helvetica,sans-Serif\" font-size=\"14.00\" text-anchor=\"start\" x=\"828.5\" y=\"-124.8\">gini = 0.44</text>\n",
       "<text font-family=\"Helvetica,sans-Serif\" font-size=\"14.00\" text-anchor=\"start\" x=\"815.5\" y=\"-109.8\">samples = 573</text>\n",
       "<text font-family=\"Helvetica,sans-Serif\" font-size=\"14.00\" text-anchor=\"start\" x=\"806\" y=\"-94.8\">value = [386, 187]</text>\n",
       "<text font-family=\"Helvetica,sans-Serif\" font-size=\"14.00\" text-anchor=\"start\" x=\"813.5\" y=\"-79.8\">class = Positive</text>\n",
       "</g>\n",
       "<!-- 667&#45;&gt;1081 -->\n",
       "<g class=\"edge\" id=\"edge17\"><title>667-&gt;1081</title>\n",
       "<path d=\"M789.317,-190.907C797.856,-181.742 807,-171.927 815.792,-162.489\" fill=\"none\" stroke=\"black\"/>\n",
       "<polygon fill=\"black\" points=\"818.494,-164.723 822.75,-155.021 813.372,-159.952 818.494,-164.723\" stroke=\"black\"/>\n",
       "</g>\n",
       "<!-- 669 -->\n",
       "<g class=\"node\" id=\"node16\"><title>669</title>\n",
       "<path d=\"M654.5,-36C654.5,-36 624.5,-36 624.5,-36 618.5,-36 612.5,-30 612.5,-24 612.5,-24 612.5,-12 612.5,-12 612.5,-6 618.5,-0 624.5,-0 624.5,-0 654.5,-0 654.5,-0 660.5,-0 666.5,-6 666.5,-12 666.5,-12 666.5,-24 666.5,-24 666.5,-30 660.5,-36 654.5,-36\" fill=\"#c0c0c0\" stroke=\"black\"/>\n",
       "<text font-family=\"Helvetica,sans-Serif\" font-size=\"14.00\" text-anchor=\"middle\" x=\"639.5\" y=\"-14.3\">(...)</text>\n",
       "</g>\n",
       "<!-- 668&#45;&gt;669 -->\n",
       "<g class=\"edge\" id=\"edge15\"><title>668-&gt;669</title>\n",
       "<path d=\"M677.308,-71.7615C670.712,-62.5574 663.89,-53.0372 657.887,-44.6601\" fill=\"none\" stroke=\"black\"/>\n",
       "<polygon fill=\"black\" points=\"660.642,-42.495 651.972,-36.4051 654.952,-46.5723 660.642,-42.495\" stroke=\"black\"/>\n",
       "</g>\n",
       "<!-- 1080 -->\n",
       "<g class=\"node\" id=\"node17\"><title>1080</title>\n",
       "<path d=\"M726.5,-36C726.5,-36 696.5,-36 696.5,-36 690.5,-36 684.5,-30 684.5,-24 684.5,-24 684.5,-12 684.5,-12 684.5,-6 690.5,-0 696.5,-0 696.5,-0 726.5,-0 726.5,-0 732.5,-0 738.5,-6 738.5,-12 738.5,-12 738.5,-24 738.5,-24 738.5,-30 732.5,-36 726.5,-36\" fill=\"#c0c0c0\" stroke=\"black\"/>\n",
       "<text font-family=\"Helvetica,sans-Serif\" font-size=\"14.00\" text-anchor=\"middle\" x=\"711.5\" y=\"-14.3\">(...)</text>\n",
       "</g>\n",
       "<!-- 668&#45;&gt;1080 -->\n",
       "<g class=\"edge\" id=\"edge16\"><title>668-&gt;1080</title>\n",
       "<path d=\"M708.679,-71.7615C709.134,-63.2356 709.605,-54.4385 710.028,-46.5299\" fill=\"none\" stroke=\"black\"/>\n",
       "<polygon fill=\"black\" points=\"713.53,-46.5778 710.569,-36.4051 706.54,-46.2039 713.53,-46.5778\" stroke=\"black\"/>\n",
       "</g>\n",
       "<!-- 1082 -->\n",
       "<g class=\"node\" id=\"node19\"><title>1082</title>\n",
       "<path d=\"M822.5,-36C822.5,-36 792.5,-36 792.5,-36 786.5,-36 780.5,-30 780.5,-24 780.5,-24 780.5,-12 780.5,-12 780.5,-6 786.5,-0 792.5,-0 792.5,-0 822.5,-0 822.5,-0 828.5,-0 834.5,-6 834.5,-12 834.5,-12 834.5,-24 834.5,-24 834.5,-30 828.5,-36 822.5,-36\" fill=\"#c0c0c0\" stroke=\"black\"/>\n",
       "<text font-family=\"Helvetica,sans-Serif\" font-size=\"14.00\" text-anchor=\"middle\" x=\"807.5\" y=\"-14.3\">(...)</text>\n",
       "</g>\n",
       "<!-- 1081&#45;&gt;1082 -->\n",
       "<g class=\"edge\" id=\"edge18\"><title>1081-&gt;1082</title>\n",
       "<path d=\"M837.408,-71.7615C832.3,-62.7512 827.021,-53.4379 822.346,-45.1906\" fill=\"none\" stroke=\"black\"/>\n",
       "<polygon fill=\"black\" points=\"825.342,-43.3787 817.366,-36.4051 819.252,-46.8306 825.342,-43.3787\" stroke=\"black\"/>\n",
       "</g>\n",
       "<!-- 1083 -->\n",
       "<g class=\"node\" id=\"node20\"><title>1083</title>\n",
       "<path d=\"M894.5,-36C894.5,-36 864.5,-36 864.5,-36 858.5,-36 852.5,-30 852.5,-24 852.5,-24 852.5,-12 852.5,-12 852.5,-6 858.5,-0 864.5,-0 864.5,-0 894.5,-0 894.5,-0 900.5,-0 906.5,-6 906.5,-12 906.5,-12 906.5,-24 906.5,-24 906.5,-30 900.5,-36 894.5,-36\" fill=\"#c0c0c0\" stroke=\"black\"/>\n",
       "<text font-family=\"Helvetica,sans-Serif\" font-size=\"14.00\" text-anchor=\"middle\" x=\"879.5\" y=\"-14.3\">(...)</text>\n",
       "</g>\n",
       "<!-- 1081&#45;&gt;1083 -->\n",
       "<g class=\"edge\" id=\"edge19\"><title>1081-&gt;1083</title>\n",
       "<path d=\"M868.778,-71.7615C870.531,-63.1387 872.339,-54.2385 873.96,-46.2606\" fill=\"none\" stroke=\"black\"/>\n",
       "<polygon fill=\"black\" points=\"877.402,-46.9018 875.963,-36.4051 870.542,-45.5078 877.402,-46.9018\" stroke=\"black\"/>\n",
       "</g>\n",
       "<!-- 1085 -->\n",
       "<g class=\"node\" id=\"node22\"><title>1085</title>\n",
       "<path d=\"M1061.5,-155C1061.5,-155 953.5,-155 953.5,-155 947.5,-155 941.5,-149 941.5,-143 941.5,-143 941.5,-84 941.5,-84 941.5,-78 947.5,-72 953.5,-72 953.5,-72 1061.5,-72 1061.5,-72 1067.5,-72 1073.5,-78 1073.5,-84 1073.5,-84 1073.5,-143 1073.5,-143 1073.5,-149 1067.5,-155 1061.5,-155\" fill=\"#399de5\" fill-opacity=\"0.890196\" stroke=\"black\"/>\n",
       "<text font-family=\"Helvetica,sans-Serif\" font-size=\"14.00\" text-anchor=\"start\" x=\"956\" y=\"-139.8\">not great ≤ 0.043</text>\n",
       "<text font-family=\"Helvetica,sans-Serif\" font-size=\"14.00\" text-anchor=\"start\" x=\"972\" y=\"-124.8\">gini = 0.179</text>\n",
       "<text font-family=\"Helvetica,sans-Serif\" font-size=\"14.00\" text-anchor=\"start\" x=\"959\" y=\"-109.8\">samples = 4067</text>\n",
       "<text font-family=\"Helvetica,sans-Serif\" font-size=\"14.00\" text-anchor=\"start\" x=\"949.5\" y=\"-94.8\">value = [403, 3664]</text>\n",
       "<text font-family=\"Helvetica,sans-Serif\" font-size=\"14.00\" text-anchor=\"start\" x=\"957.5\" y=\"-79.8\">class = Negative</text>\n",
       "</g>\n",
       "<!-- 1084&#45;&gt;1085 -->\n",
       "<g class=\"edge\" id=\"edge21\"><title>1084-&gt;1085</title>\n",
       "<path d=\"M1007.5,-190.907C1007.5,-182.649 1007.5,-173.864 1007.5,-165.302\" fill=\"none\" stroke=\"black\"/>\n",
       "<polygon fill=\"black\" points=\"1011,-165.021 1007.5,-155.021 1004,-165.021 1011,-165.021\" stroke=\"black\"/>\n",
       "</g>\n",
       "<!-- 1180 -->\n",
       "<g class=\"node\" id=\"node25\"><title>1180</title>\n",
       "<path d=\"M1189.5,-147.5C1189.5,-147.5 1103.5,-147.5 1103.5,-147.5 1097.5,-147.5 1091.5,-141.5 1091.5,-135.5 1091.5,-135.5 1091.5,-91.5 1091.5,-91.5 1091.5,-85.5 1097.5,-79.5 1103.5,-79.5 1103.5,-79.5 1189.5,-79.5 1189.5,-79.5 1195.5,-79.5 1201.5,-85.5 1201.5,-91.5 1201.5,-91.5 1201.5,-135.5 1201.5,-135.5 1201.5,-141.5 1195.5,-147.5 1189.5,-147.5\" fill=\"#e58139\" fill-opacity=\"0.713725\" stroke=\"black\"/>\n",
       "<text font-family=\"Helvetica,sans-Serif\" font-size=\"14.00\" text-anchor=\"start\" x=\"1111\" y=\"-132.3\">gini = 0.346</text>\n",
       "<text font-family=\"Helvetica,sans-Serif\" font-size=\"14.00\" text-anchor=\"start\" x=\"1105.5\" y=\"-117.3\">samples = 27</text>\n",
       "<text font-family=\"Helvetica,sans-Serif\" font-size=\"14.00\" text-anchor=\"start\" x=\"1103.5\" y=\"-102.3\">value = [21, 6]</text>\n",
       "<text font-family=\"Helvetica,sans-Serif\" font-size=\"14.00\" text-anchor=\"start\" x=\"1099.5\" y=\"-87.3\">class = Positive</text>\n",
       "</g>\n",
       "<!-- 1084&#45;&gt;1180 -->\n",
       "<g class=\"edge\" id=\"edge24\"><title>1084-&gt;1180</title>\n",
       "<path d=\"M1055.73,-190.907C1069.88,-178.99 1085.35,-165.976 1099.43,-154.12\" fill=\"none\" stroke=\"black\"/>\n",
       "<polygon fill=\"black\" points=\"1101.7,-156.784 1107.1,-147.667 1097.19,-151.429 1101.7,-156.784\" stroke=\"black\"/>\n",
       "</g>\n",
       "<!-- 1086 -->\n",
       "<g class=\"node\" id=\"node23\"><title>1086</title>\n",
       "<path d=\"M986.5,-36C986.5,-36 956.5,-36 956.5,-36 950.5,-36 944.5,-30 944.5,-24 944.5,-24 944.5,-12 944.5,-12 944.5,-6 950.5,-0 956.5,-0 956.5,-0 986.5,-0 986.5,-0 992.5,-0 998.5,-6 998.5,-12 998.5,-12 998.5,-24 998.5,-24 998.5,-30 992.5,-36 986.5,-36\" fill=\"#c0c0c0\" stroke=\"black\"/>\n",
       "<text font-family=\"Helvetica,sans-Serif\" font-size=\"14.00\" text-anchor=\"middle\" x=\"971.5\" y=\"-14.3\">(...)</text>\n",
       "</g>\n",
       "<!-- 1085&#45;&gt;1086 -->\n",
       "<g class=\"edge\" id=\"edge22\"><title>1085-&gt;1086</title>\n",
       "<path d=\"M991.815,-71.7615C988.457,-63.0419 984.991,-54.0385 981.893,-45.9921\" fill=\"none\" stroke=\"black\"/>\n",
       "<polygon fill=\"black\" points=\"985.061,-44.4797 978.201,-36.4051 978.528,-46.9949 985.061,-44.4797\" stroke=\"black\"/>\n",
       "</g>\n",
       "<!-- 1179 -->\n",
       "<g class=\"node\" id=\"node24\"><title>1179</title>\n",
       "<path d=\"M1058.5,-36C1058.5,-36 1028.5,-36 1028.5,-36 1022.5,-36 1016.5,-30 1016.5,-24 1016.5,-24 1016.5,-12 1016.5,-12 1016.5,-6 1022.5,-0 1028.5,-0 1028.5,-0 1058.5,-0 1058.5,-0 1064.5,-0 1070.5,-6 1070.5,-12 1070.5,-12 1070.5,-24 1070.5,-24 1070.5,-30 1064.5,-36 1058.5,-36\" fill=\"#c0c0c0\" stroke=\"black\"/>\n",
       "<text font-family=\"Helvetica,sans-Serif\" font-size=\"14.00\" text-anchor=\"middle\" x=\"1043.5\" y=\"-14.3\">(...)</text>\n",
       "</g>\n",
       "<!-- 1085&#45;&gt;1179 -->\n",
       "<g class=\"edge\" id=\"edge23\"><title>1085-&gt;1179</title>\n",
       "<path d=\"M1023.19,-71.7615C1026.54,-63.0419 1030.01,-54.0385 1033.11,-45.9921\" fill=\"none\" stroke=\"black\"/>\n",
       "<polygon fill=\"black\" points=\"1036.47,-46.9949 1036.8,-36.4051 1029.94,-44.4797 1036.47,-46.9949\" stroke=\"black\"/>\n",
       "</g>\n",
       "</g>\n",
       "</svg>"
      ],
      "text/plain": [
       "<IPython.core.display.SVG object>"
      ]
     },
     "metadata": {},
     "output_type": "display_data"
    }
   ],
   "source": [
    "# Please write all the code with proper documentation\n",
    "f_name = tf_idf_vect.get_feature_names()\n",
    "from sklearn.tree import DecisionTreeClassifier, export_graphviz\n",
    "from sklearn import tree\n",
    "from sklearn.datasets import load_wine\n",
    "from IPython.display import SVG\n",
    "from graphviz import Source\n",
    "from IPython.display import display\n",
    "dot_data = Source(export_graphviz(model,feature_names =f_name ,class_names=['Positive','Negative'] ,max_depth = 3,out_file=None,filled=True,rounded=True,special_characters=True)) \n",
    "display(SVG(dot_data.pipe(format='svg')))"
   ]
  },
  {
   "cell_type": "markdown",
   "metadata": {
    "colab_type": "text",
    "id": "NVhl_V6MiWO5"
   },
   "source": [
    "## [5.3] Applying Decision Trees on AVG W2V,<font color='red'> SET 3</font>"
   ]
  },
  {
   "cell_type": "code",
   "execution_count": 66,
   "metadata": {
    "colab": {},
    "colab_type": "code",
    "id": "uYDXnzMmiWO5"
   },
   "outputs": [
    {
     "name": "stdout",
     "output_type": "stream",
     "text": [
      "[0.8275418763673625, 0.8275418763673625, 0.8275418763673625, 0.8275418763673625, 0.8273235388188277, 0.8261567955216202]    [0.8168153436657395, 0.8168153436657395, 0.8168153436657395, 0.8168153436657395, 0.8166493890023503, 0.8160535121348265]\n",
      "[0.8378795513186862, 0.8504692081119741, 0.8927934007222851, 0.890689923691345, 0.8692552571869994, 0.8560403851508174]    [0.7757519624205393, 0.7821005737868509, 0.8230112532787663, 0.8307088844136539, 0.8357469791063745, 0.8331793148432447]\n",
      "[0.5357958132796573, 0.598258696731389, 0.8342383335481327, 0.8650936134633618, 0.8803271856894314, 0.8618420111628007]    [0.5098973025946961, 0.5359097131109738, 0.7116180142499395, 0.7719182786335814, 0.8342427646443006, 0.8331255791503385]\n",
      "[0.5358106321357885, 0.5987687125371948, 0.8342077867484148, 0.8653449829289868, 0.8803370520542018, 0.8618420111628007]    [0.510243766293014, 0.5379414868804623, 0.70998633905424, 0.7721487014641037, 0.834265173610556, 0.8331306108568719]\n",
      "[0.5361689388843152, 0.5971752836676416, 0.8337494094062725, 0.8650409396211041, 0.8803258079679147, 0.8618424056921441]    [0.5108900427128645, 0.5366069573268759, 0.7103551017361569, 0.7719226412789546, 0.8342484562467728, 0.8331312707528107]\n",
      "[0.5363667901313891, 0.5977502110314497, 0.8339304587132139, 0.8652983094814253, 0.8803378953867664, 0.8618551151731352]    [0.508976931064484, 0.5362798322456538, 0.7109761188059052, 0.7722437814706206, 0.834216341311084, 0.8331507285177843]\n"
     ]
    }
   ],
   "source": [
    "# Please write all the code with proper documentation\n",
    "depth  =[5,10,50,100,500,1000]\n",
    "split = [5,10,50,100,500,1000]\n",
    "w2v_Train_score = []\n",
    "w2v_val_score = []\n",
    "for i in depth:\n",
    "    w2v_tr = []\n",
    "    w2v_val = []\n",
    "    for j in split:\n",
    "        model= DecisionTreeClassifier(max_depth=i,min_samples_split=j)\n",
    "        model.fit(sent_vectors,y_tr)\n",
    "        train_data = model.predict_log_proba(sent_vectors)[:,1]\n",
    "        val_data = model.predict_log_proba(sent_vectors_cv)[:,1]\n",
    "        train_data[np.isinf(train_data)]=0\n",
    "        train_data[np.isnan(train_data)]=0\n",
    "        val_data[np.isinf(val_data)]=0\n",
    "        val_data[np.isnan(val_data)]=0\n",
    "        \n",
    "        w2v_tr.append(roc_auc_score(np.asarray(y_tr),np.asarray(train_data)))\n",
    "        w2v_val.append(roc_auc_score(np.asarray(y_cv),np.asarray(val_data)))\n",
    "    print(str(w2v_tr)+\"    \"+str(w2v_val))\n",
    "    w2v_Train_score.append(w2v_tr)\n",
    "    w2v_val_score.append(w2v_val)\n",
    "    "
   ]
  },
  {
   "cell_type": "code",
   "execution_count": 67,
   "metadata": {},
   "outputs": [
    {
     "data": {
      "text/plain": [
       "<matplotlib.axes._subplots.AxesSubplot at 0x7f8e7edde3c8>"
      ]
     },
     "execution_count": 67,
     "metadata": {},
     "output_type": "execute_result"
    },
    {
     "data": {
      "image/png": "[encoded data removed]",
      "text/plain": [
       "<Figure size 432x288 with 2 Axes>"
      ]
     },
     "metadata": {},
     "output_type": "display_data"
    }
   ],
   "source": [
    "df  = pd.DataFrame(w2v_Train_score,index = depth,columns=split)\n",
    "df2 = pd.DataFrame(w2v_val_score,index = depth,columns=split)\n",
    "sns.heatmap(df, annot= True, fmt=\"f\", cmap=\"YlGnBu\")\n"
   ]
  },
  {
   "cell_type": "code",
   "execution_count": 68,
   "metadata": {},
   "outputs": [
    {
     "data": {
      "text/plain": [
       "<matplotlib.axes._subplots.AxesSubplot at 0x7f8e7edbae80>"
      ]
     },
     "execution_count": 68,
     "metadata": {},
     "output_type": "execute_result"
    },
    {
     "data": {
      "image/png": "[encoded data removed]",
      "text/plain": [
       "<Figure size 432x288 with 2 Axes>"
      ]
     },
     "metadata": {},
     "output_type": "display_data"
    }
   ],
   "source": [
    "sns.heatmap(df2, annot= True, fmt=\"f\", cmap=\"YlGnBu\")"
   ]
  },
  {
   "cell_type": "code",
   "execution_count": 69,
   "metadata": {},
   "outputs": [],
   "source": [
    "best_depth = 10\n",
    "best_split = 1000"
   ]
  },
  {
   "cell_type": "markdown",
   "metadata": {},
   "source": [
    "### Testing on test data"
   ]
  },
  {
   "cell_type": "code",
   "execution_count": 70,
   "metadata": {},
   "outputs": [
    {
     "data": {
      "image/png": "[encoded data removed]",
      "text/plain": [
       "<Figure size 432x288 with 1 Axes>"
      ]
     },
     "metadata": {},
     "output_type": "display_data"
    }
   ],
   "source": [
    "model= DecisionTreeClassifier(max_depth=best_depth,min_samples_split=best_split)\n",
    "model.fit(sent_vectors,y_tr)\n",
    "train_pred = model.predict_log_proba(sent_vectors)[:,1]\n",
    "test_pred = model.predict_log_proba(sent_vectors_test)[:,1]\n",
    "train_pred[np.isinf(train_pred)]=0\n",
    "train_pred[np.isnan(train_pred)]=0\n",
    "test_pred[np.isinf(test_pred)]=0\n",
    "test_pred[np.isnan(test_pred)]=0\n",
    "train_fpr, train_tpr, thresholds = roc_curve(y_tr, train_pred)\n",
    "test_fpr, test_tpr, thresholds = roc_curve(y_test, test_pred)\n",
    "\n",
    "plt.plot(train_fpr, train_tpr, label=\"train AUC =\"+str(auc(train_fpr, train_tpr)))\n",
    "plt.plot(test_fpr, test_tpr, label=\"test AUC =\"+str(auc(test_fpr, test_tpr)))\n",
    "plt.plot([0.0,1.0],[0.0,1.0])\n",
    "plt.legend()\n",
    "plt.xlabel(\"alpha: hyperparameter\")\n",
    "plt.ylabel(\"AUC\")\n",
    "plt.title(\"ERROR PLOTS\")\n",
    "plt.show()\n"
   ]
  },
  {
   "cell_type": "markdown",
   "metadata": {},
   "source": [
    "### Confuison matrix"
   ]
  },
  {
   "cell_type": "code",
   "execution_count": 71,
   "metadata": {},
   "outputs": [
    {
     "data": {
      "text/plain": [
       "<matplotlib.axes._subplots.AxesSubplot at 0x7f8e7ecd0898>"
      ]
     },
     "execution_count": 71,
     "metadata": {},
     "output_type": "execute_result"
    },
    {
     "data": {
      "image/png": "[encoded data removed]",
      "text/plain": [
       "<Figure size 432x288 with 2 Axes>"
      ]
     },
     "metadata": {},
     "output_type": "display_data"
    }
   ],
   "source": [
    "ytrain = model.predict(sent_vectors)\n",
    "ytest = model.predict(sent_vectors_test)\n",
    "ctrain = confusion_matrix(y_tr,ytrain)\n",
    "ctest = confusion_matrix(y_test,ytest)\n",
    "class_label=[\"No\",\"Yes\"]\n",
    "df = pd.DataFrame(ctest, index=class_label, columns=class_label)\n",
    "sns.heatmap(df, annot= True, fmt=\"d\", cmap=\"YlGnBu\")\n"
   ]
  },
  {
   "cell_type": "code",
   "execution_count": 73,
   "metadata": {},
   "outputs": [
    {
     "data": {
      "text/plain": [
       "<matplotlib.axes._subplots.AxesSubplot at 0x7f8e7ec23390>"
      ]
     },
     "execution_count": 73,
     "metadata": {},
     "output_type": "execute_result"
    },
    {
     "data": {
      "image/png": "[encoded data removed]",
      "text/plain": [
       "<Figure size 432x288 with 2 Axes>"
      ]
     },
     "metadata": {},
     "output_type": "display_data"
    }
   ],
   "source": [
    "df = pd.DataFrame(ctrain, index=class_label, columns=class_label)\n",
    "sns.heatmap(df, annot= True, fmt=\"d\", cmap=\"YlGnBu\")\n"
   ]
  },
  {
   "cell_type": "markdown",
   "metadata": {
    "colab_type": "text",
    "id": "PnwVzXytiWO7"
   },
   "source": [
    "## [5.4] Applying Decision Trees on TFIDF W2V,<font color='red'> SET 4</font>"
   ]
  },
  {
   "cell_type": "code",
   "execution_count": 75,
   "metadata": {
    "colab": {},
    "colab_type": "code",
    "id": "YqODkVCgiWO7"
   },
   "outputs": [
    {
     "name": "stdout",
     "output_type": "stream",
     "text": [
      "[0.7997598130406851, 0.7997598130406851, 0.7997598130406851, 0.7997598130406851, 0.7994837583541587, 0.7986662371932958]    [0.779696499559996, 0.779696499559996, 0.779696499559996, 0.779696499559996, 0.7799550962810171, 0.7794206263966881]\n",
      "[0.8206468561167349, 0.8301246950695229, 0.8643222845912578, 0.8641294390656945, 0.8455161270444604, 0.8308300321247083]    [0.7512611802869433, 0.7562244776080445, 0.7815636659536368, 0.7938044331662526, 0.8016060895637165, 0.7993246001727168]\n",
      "[0.5372022331529813, 0.6124633854851026, 0.8136409689456977, 0.8592514479957514, 0.8589524511147876, 0.8353053579882026]    [0.5087878892084577, 0.5483809123193332, 0.676731094018014, 0.739740506187111, 0.7997779028565722, 0.799709933574875]\n",
      "[0.5367881746070812, 0.6113530097850374, 0.8123494834024427, 0.8592928224341159, 0.8590637783194311, 0.8353053579882026]    [0.5080393839094202, 0.546171892333725, 0.6777160620284586, 0.7401670830854447, 0.79968091648401, 0.799709933574875]\n",
      "[0.5374811152998019, 0.6141775330276377, 0.8136428413944863, 0.8596136207143519, 0.8589581811838226, 0.8353053579882026]    [0.509447455199298, 0.5469530716469551, 0.6770832951449111, 0.7404159188457041, 0.7995710254797554, 0.799709933574875]\n",
      "[0.5366690559697695, 0.6121785206869687, 0.8134877997123567, 0.8594202387123797, 0.8589581811838226, 0.8353053579882026]    [0.5079989011266184, 0.5462133282995494, 0.67853244495698, 0.7399443773713177, 0.7995369400214717, 0.799709933574875]\n"
     ]
    }
   ],
   "source": [
    "# Please write all the code with proper documentation\n",
    "depth  =[5,10,50,100,500,1000]\n",
    "split = [5,10,50,100,500,1000]\n",
    "tf_w2v_Train_score = []\n",
    "tf_w2v_val_score = []\n",
    "for i in depth:\n",
    "    tf_w2v_tr = []\n",
    "    tf_w2v_val = []\n",
    "    for j in split:\n",
    "        model= DecisionTreeClassifier(max_depth=i,min_samples_split=j)\n",
    "        model.fit(tfidf_sent_vectors,y_tr)\n",
    "        train_data = model.predict_log_proba(tfidf_sent_vectors)[:,1]\n",
    "        val_data = model.predict_log_proba(tfidf_sent_vectors_cv)[:,1]\n",
    "        train_data[np.isinf(train_data)]=0\n",
    "        train_data[np.isnan(train_data)]=0\n",
    "        val_data[np.isinf(val_data)]=0\n",
    "        val_data[np.isnan(val_data)]=0\n",
    "        \n",
    "        tf_w2v_tr.append(roc_auc_score(np.asarray(y_tr),np.asarray(train_data)))\n",
    "        tf_w2v_val.append(roc_auc_score(np.asarray(y_cv),np.asarray(val_data)))\n",
    "    print(str(tf_w2v_tr)+\"    \"+str(tf_w2v_val))\n",
    "    tf_w2v_Train_score.append(tf_w2v_tr)\n",
    "    tf_w2v_val_score.append(tf_w2v_val)\n",
    "    "
   ]
  },
  {
   "cell_type": "code",
   "execution_count": 76,
   "metadata": {},
   "outputs": [
    {
     "data": {
      "text/plain": [
       "<matplotlib.axes._subplots.AxesSubplot at 0x7f8e7ebf0b70>"
      ]
     },
     "execution_count": 76,
     "metadata": {},
     "output_type": "execute_result"
    },
    {
     "data": {
      "image/png": "[encoded data removed]",
      "text/plain": [
       "<Figure size 432x288 with 2 Axes>"
      ]
     },
     "metadata": {},
     "output_type": "display_data"
    }
   ],
   "source": [
    "df  = pd.DataFrame(tf_w2v_Train_score,index = depth,columns=split)\n",
    "df2 = pd.DataFrame(tf_w2v_val_score,index = depth,columns=split)\n",
    "sns.heatmap(df, annot= True, fmt=\"f\", cmap=\"YlGnBu\")"
   ]
  },
  {
   "cell_type": "code",
   "execution_count": 81,
   "metadata": {},
   "outputs": [
    {
     "data": {
      "text/plain": [
       "<matplotlib.axes._subplots.AxesSubplot at 0x7f8e7eb2a400>"
      ]
     },
     "execution_count": 81,
     "metadata": {},
     "output_type": "execute_result"
    },
    {
     "data": {
      "image/png": "[encoded data removed]",
      "text/plain": [
       "<Figure size 432x288 with 2 Axes>"
      ]
     },
     "metadata": {},
     "output_type": "display_data"
    }
   ],
   "source": [
    "sns.heatmap(df2, annot= True, fmt=\"f\", cmap=\"YlGnBu\")"
   ]
  },
  {
   "cell_type": "code",
   "execution_count": 77,
   "metadata": {},
   "outputs": [],
   "source": [
    "best_depth = 10\n",
    "best_split = 500"
   ]
  },
  {
   "cell_type": "markdown",
   "metadata": {},
   "source": [
    "### Testing on test data"
   ]
  },
  {
   "cell_type": "code",
   "execution_count": 78,
   "metadata": {},
   "outputs": [
    {
     "data": {
      "image/png": "[encoded data removed]",
      "text/plain": [
       "<Figure size 432x288 with 1 Axes>"
      ]
     },
     "metadata": {},
     "output_type": "display_data"
    }
   ],
   "source": [
    "model= DecisionTreeClassifier(max_depth=best_depth,min_samples_split=best_split)\n",
    "model.fit(tfidf_sent_vectors,y_tr)\n",
    "train_pred = model.predict_log_proba(tfidf_sent_vectors)[:,1]\n",
    "test_pred = model.predict_log_proba(tfidf_sent_vectors_test)[:,1]\n",
    "train_pred[np.isinf(train_pred)]=0\n",
    "train_pred[np.isnan(train_pred)]=0\n",
    "test_pred[np.isinf(test_pred)]=0\n",
    "test_pred[np.isnan(test_pred)]=0\n",
    "train_fpr, train_tpr, thresholds = roc_curve(y_tr, train_pred)\n",
    "test_fpr, test_tpr, thresholds = roc_curve(y_test, test_pred)\n",
    "\n",
    "plt.plot(train_fpr, train_tpr, label=\"train AUC =\"+str(auc(train_fpr, train_tpr)))\n",
    "plt.plot(test_fpr, test_tpr, label=\"test AUC =\"+str(auc(test_fpr, test_tpr)))\n",
    "plt.plot([0.0,1.0],[0.0,1.0])\n",
    "plt.legend()\n",
    "plt.xlabel(\"alpha: hyperparameter\")\n",
    "plt.ylabel(\"AUC\")\n",
    "plt.title(\"ERROR PLOTS\")\n",
    "plt.show()\n"
   ]
  },
  {
   "cell_type": "markdown",
   "metadata": {},
   "source": [
    "### confusion matrix"
   ]
  },
  {
   "cell_type": "code",
   "execution_count": 175,
   "metadata": {},
   "outputs": [
    {
     "data": {
      "text/plain": [
       "<matplotlib.axes._subplots.AxesSubplot at 0x7fcbb464ff60>"
      ]
     },
     "execution_count": 175,
     "metadata": {},
     "output_type": "execute_result"
    },
    {
     "data": {
      "image/png": "[encoded data removed]",
      "text/plain": [
       "<Figure size 432x288 with 2 Axes>"
      ]
     },
     "metadata": {},
     "output_type": "display_data"
    }
   ],
   "source": [
    "ytrain = model.predict(tfidf_sent_vectors)\n",
    "ytest = model.predict(tfidf_sent_vectors_test)\n",
    "ctrain = confusion_matrix(y_tr,ytrain)\n",
    "ctest = confusion_matrix(y_test,ytest)\n",
    "class_label=[\"No\",\"Yes\"]\n",
    "df = pd.DataFrame(ctest, index=class_label, columns=class_label)\n",
    "sns.heatmap(df, annot= True, fmt=\"d\", cmap=\"YlGnBu\")\n"
   ]
  },
  {
   "cell_type": "code",
   "execution_count": 79,
   "metadata": {},
   "outputs": [
    {
     "data": {
      "text/plain": [
       "<matplotlib.axes._subplots.AxesSubplot at 0x7f8e7eb6dbe0>"
      ]
     },
     "execution_count": 79,
     "metadata": {},
     "output_type": "execute_result"
    },
    {
     "data": {
      "image/png": "[encoded data removed]",
      "text/plain": [
       "<Figure size 432x288 with 2 Axes>"
      ]
     },
     "metadata": {},
     "output_type": "display_data"
    }
   ],
   "source": [
    "df = pd.DataFrame(ctrain, index=class_label, columns=class_label)\n",
    "sns.heatmap(df, annot= True, fmt=\"d\", cmap=\"YlGnBu\")\n"
   ]
  },
  {
   "cell_type": "markdown",
   "metadata": {
    "colab_type": "text",
    "id": "Em-rF6u2iWO8"
   },
   "source": [
    "# [6] Conclusions"
   ]
  },
  {
   "cell_type": "code",
   "execution_count": 74,
   "metadata": {
    "colab": {},
    "colab_type": "code",
    "id": "3Hnu2QziiWO9"
   },
   "outputs": [
    {
     "name": "stdout",
     "output_type": "stream",
     "text": [
      "+-----------+----------------+----------------+-----------+----------+\n",
      "|   Model   | value of depth | value of split | Train AUC | Test AUC |\n",
      "+-----------+----------------+----------------+-----------+----------+\n",
      "|    BOW    |       50       |      500       |    0.84   |   0.82   |\n",
      "|   TFIDF   |       50       |      500       |    0.84   |   0.81   |\n",
      "|  Avg_w2v  |       5        |      500       |    0.85   |   0.83   |\n",
      "| TFIDF_w2v |       10       |      500       |    0.84   |   0.8    |\n",
      "+-----------+----------------+----------------+-----------+----------+\n"
     ]
    }
   ],
   "source": [
    "# Please compare all your models using Prettytable libraryfrom prettytable import PrettyTable\n",
    "from prettytable import PrettyTable\n",
    "x = PrettyTable()\n",
    "x.field_names = [\"Model\",\"value of depth\",\"value of split\",\"Train AUC\",\"Test AUC\"]\n",
    "x.add_row([\"BOW\",50,500,0.84,0.82])\n",
    "x.add_row([\"TFIDF\",50,500,0.84,0.81])\n",
    "x.add_row([\"Avg_w2v\",5,500,0.85,0.83])\n",
    "x.add_row([\"TFIDF_w2v\",10,500,0.84,0.80])\n",
    "\n",
    "print(x)\n"
   ]
  },
  {
   "cell_type": "markdown",
   "metadata": {},
   "source": [
    "####  \n",
    "Here we can see that our Avg_W2V model got the highest AUC value and\n",
    " is the best moddel with min_spli = 500 and depth = 5"
   ]
  },
  {
   "cell_type": "code",
   "execution_count": null,
   "metadata": {},
   "outputs": [],
   "source": []
  }
 ],
 "metadata": {
  "colab": {
   "collapsed_sections": [
    "NTwQITJKiWN5",
    "T_LFck8iiWOX",
    "mjfrB76yiWOa",
    "0tcbbZxSiWOd",
    "u566lt93iWOf",
    "mUNnof40iWOl",
    "heHLB_FCiWOm",
    "ylTn3LgiiWOo",
    "NVhl_V6MiWO5",
    "PnwVzXytiWO7"
   ],
   "name": "08 Amazon Fine Food Reviews Analysis_Decision Trees.ipynb",
   "provenance": [],
   "version": "0.3.2"
  },
  "kernelspec": {
   "display_name": "Python 3",
   "language": "python",
   "name": "python3"
  },
  "language_info": {
   "codemirror_mode": {
    "name": "ipython",
    "version": 3
   },
   "file_extension": ".py",
   "mimetype": "text/x-python",
   "name": "python",
   "nbconvert_exporter": "python",
   "pygments_lexer": "ipython3",
   "version": "3.5.2+"
  }
 },
 "nbformat": 4,
 "nbformat_minor": 1
}
